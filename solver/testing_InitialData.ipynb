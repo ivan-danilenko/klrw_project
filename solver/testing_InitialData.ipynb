{
 "cells": [
  {
   "cell_type": "code",
   "execution_count": 1,
   "metadata": {},
   "outputs": [
    {
     "name": "stdout",
     "output_type": "stream",
     "text": [
      "running build_ext\n",
      "building 'Solver' extension\n",
      "INFO: C compiler: gcc -Wsign-compare -Wunreachable-code -DNDEBUG -g -fwrapv -O3 -Wall -Wno-unused -O2 -mmacosx-version-min=11.0\n",
      "\n",
      "INFO: compile options: '-I/private/var/tmp/sage-10.0-current/local/var/lib/sage/venv-python3.11.1/lib/python3.11/site-packages/numpy/core/include -I/private/var/tmp/sage-10.0-current/local/var/lib/sage/venv-python3.11.1/include/python3.11 -c'\n",
      "INFO: gcc: Solver.c\n"
     ]
    },
    {
     "name": "stderr",
     "output_type": "stream",
     "text": [
      "In file included from Solver.c:1214:\n",
      "In file included from /private/var/tmp/sage-10.0-current/local/var/lib/sage/venv-python3.11.1/lib/python3.11/site-packages/numpy/core/include/numpy/arrayobject.h:5:\n",
      "In file included from /private/var/tmp/sage-10.0-current/local/var/lib/sage/venv-python3.11.1/lib/python3.11/site-packages/numpy/core/include/numpy/ndarrayobject.h:12:\n",
      "In file included from /private/var/tmp/sage-10.0-current/local/var/lib/sage/venv-python3.11.1/lib/python3.11/site-packages/numpy/core/include/numpy/ndarraytypes.h:1948:\n",
      "/private/var/tmp/sage-10.0-current/local/var/lib/sage/venv-python3.11.1/lib/python3.11/site-packages/numpy/core/include/numpy/npy_1_7_deprecated_api.h:17:2: warning: \"Using deprecated NumPy API, disable it with \"          \"#define NPY_NO_DEPRECATED_API NPY_1_7_API_VERSION\" [-W#warnings]\n",
      "#warning \"Using deprecated NumPy API, disable it with \" \\\n",
      " ^\n",
      "Solver.c:75149:26: warning: code will never be executed [-Wunreachable-code]\n",
      "                module = PyImport_ImportModuleLevelObject(\n",
      "                         ^~~~~~~~~~~~~~~~~~~~~~~~~~~~~~~~\n",
      "Solver.c:76218:21: warning: fallthrough annotation in unreachable code [-Wunreachable-code-fallthrough]\n",
      "                    CYTHON_FALLTHROUGH;\n",
      "                    ^\n",
      "Solver.c:536:34: note: expanded from macro 'CYTHON_FALLTHROUGH'\n",
      "      #define CYTHON_FALLTHROUGH __attribute__((fallthrough))\n",
      "                                 ^\n",
      "Solver.c:76229:21: warning: fallthrough annotation in unreachable code [-Wunreachable-code-fallthrough]\n",
      "                    CYTHON_FALLTHROUGH;\n",
      "                    ^\n",
      "Solver.c:536:34: note: expanded from macro 'CYTHON_FALLTHROUGH'\n",
      "      #define CYTHON_FALLTHROUGH __attribute__((fallthrough))\n",
      "                                 ^\n",
      "Solver.c:76421:21: warning: fallthrough annotation in unreachable code [-Wunreachable-code-fallthrough]\n",
      "                    CYTHON_FALLTHROUGH;\n",
      "                    ^\n",
      "Solver.c:536:34: note: expanded from macro 'CYTHON_FALLTHROUGH'\n",
      "      #define CYTHON_FALLTHROUGH __attribute__((fallthrough))\n",
      "                                 ^\n",
      "Solver.c:76432:21: warning: fallthrough annotation in unreachable code [-Wunreachable-code-fallthrough]\n",
      "                    CYTHON_FALLTHROUGH;\n",
      "                    ^\n",
      "Solver.c:536:34: note: expanded from macro 'CYTHON_FALLTHROUGH'\n",
      "      #define CYTHON_FALLTHROUGH __attribute__((fallthrough))\n",
      "                                 ^\n",
      "Solver.c:76594:21: warning: fallthrough annotation in unreachable code [-Wunreachable-code-fallthrough]\n",
      "                    CYTHON_FALLTHROUGH;\n",
      "                    ^\n",
      "Solver.c:536:34: note: expanded from macro 'CYTHON_FALLTHROUGH'\n",
      "      #define CYTHON_FALLTHROUGH __attribute__((fallthrough))\n",
      "                                 ^\n",
      "Solver.c:76605:21: warning: fallthrough annotation in unreachable code [-Wunreachable-code-fallthrough]\n",
      "                    CYTHON_FALLTHROUGH;\n",
      "                    ^\n",
      "Solver.c:536:34: note: expanded from macro 'CYTHON_FALLTHROUGH'\n",
      "      #define CYTHON_FALLTHROUGH __attribute__((fallthrough))\n",
      "                                 ^\n",
      "Solver.c:78169:21: warning: fallthrough annotation in unreachable code [-Wunreachable-code-fallthrough]\n",
      "                    CYTHON_FALLTHROUGH;\n",
      "                    ^\n",
      "Solver.c:536:34: note: expanded from macro 'CYTHON_FALLTHROUGH'\n",
      "      #define CYTHON_FALLTHROUGH __attribute__((fallthrough))\n",
      "                                 ^\n",
      "Solver.c:78180:21: warning: fallthrough annotation in unreachable code [-Wunreachable-code-fallthrough]\n",
      "                    CYTHON_FALLTHROUGH;\n",
      "                    ^\n",
      "Solver.c:536:34: note: expanded from macro 'CYTHON_FALLTHROUGH'\n",
      "      #define CYTHON_FALLTHROUGH __attribute__((fallthrough))\n",
      "                                 ^\n"
     ]
    },
    {
     "name": "stdout",
     "output_type": "stream",
     "text": [
      "INFO: gcc -bundle -undefined dynamic_lookup -L/private/var/tmp/sage-10.0-current/local/lib -Wl,-rpath,/private/var/tmp/sage-10.0-current/local/lib -L/private/var/tmp/sage-10.0-current/local/lib -Wl,-rpath,/private/var/tmp/sage-10.0-current/local/lib -Wl,-platform_version,macos,11.0,11.1 -L/Library/Developer/CommandLineTools/SDKs/MacOSX.sdk/usr/lib -Wl,-rpath,/private/var/tmp/sage-10.0-current/local/var/lib/sage/venv-python3.11.1/lib -L. -Wl,-rpath,. -L/private/var/tmp/sage-10.0-current/local/lib -L/private/var/tmp/sage-10.0-current/local/lib -Wl,-rpath,/private/var/tmp/sage-10.0-current/local/lib -L/private/var/tmp/sage-10.0-current/local/lib -Wl,-rpath,/private/var/tmp/sage-10.0-current/local/lib -Wl,-platform_version,macos,11.0,11.1 -L/Library/Developer/CommandLineTools/SDKs/MacOSX.sdk/usr/lib -L/private/var/tmp/sage-10.0-current/local/lib -Wl,-rpath,/private/var/tmp/sage-10.0-current/local/lib build/temp.macosx-11.0-arm64-cpython-311/Solver.o -L/private/var/tmp/sage-10.0-current/local/var/lib/sage/venv-python3.11.1/lib -o build/lib.macosx-11.0-arm64-cpython-311/Solver.cpython-311-darwin.so\n"
     ]
    },
    {
     "name": "stderr",
     "output_type": "stream",
     "text": [
      "10 warnings generated.\n",
      "ld: warning: passed two min versions (14.0, 11.0) for platform macOS. Using 11.0.\n",
      "ld: warning: duplicate -rpath '/private/var/tmp/sage-10.0-current/local/lib' ignored\n",
      "ld: warning: duplicate -rpath '/private/var/tmp/sage-10.0-current/local/lib' ignored\n",
      "ld: warning: duplicate -rpath '/private/var/tmp/sage-10.0-current/local/lib' ignored\n",
      "ld: warning: duplicate -rpath '/private/var/tmp/sage-10.0-current/local/lib' ignored\n"
     ]
    }
   ],
   "source": [
    "%run setup.py build_ext --force"
   ]
  },
  {
   "cell_type": "code",
   "execution_count": 2,
   "id": "1f8ad1d9",
   "metadata": {},
   "outputs": [],
   "source": [
    "import sys\n",
    "if \"./build/lib.macosx-11.0-arm64-cpython-311/\" not in sys.path:\n",
    "    sys.path.insert(0,\"./build/lib.macosx-11.0-arm64-cpython-311/\") \n",
    "from Solver import InitialData"
   ]
  },
  {
   "cell_type": "code",
   "execution_count": 3,
   "id": "3f14a9e6",
   "metadata": {},
   "outputs": [
    {
     "name": "stdout",
     "output_type": "stream",
     "text": [
      "[[0], [1, 3], [2, 4], [5, 7], [6], [], []]\n",
      "[[0, 1, 2, 3], [4, 5, 6, 7]]\n"
     ]
    }
   ],
   "source": [
    "n = 6 #number of punctures\n",
    "k = 2 #number of E-branes\n",
    "\n",
    "I = InitialData(n,k)\n",
    "print(I.intersections)\n",
    "print(I.branes)"
   ]
  },
  {
   "cell_type": "code",
   "execution_count": 4,
   "id": "f4f80635",
   "metadata": {},
   "outputs": [
    {
     "name": "stdout",
     "output_type": "stream",
     "text": [
      "[[0], [1, 3, 8, 10, 12, 14], [2, 4], [13, 15, 9, 11, 5, 7], [6], [], []]\n",
      "[[0, 1, 9, 14, 2, 15], [10, 5, 6, 12, 4, 13]]\n"
     ]
    }
   ],
   "source": [
    "#I.apply_braid([1,2,1,2])\n",
    "I.apply_braid([2,2])\n",
    "#I.apply_braid([-2,4,4,3,3,1,-2,4])\n",
    "print(I.intersections)\n",
    "print(I.branes)"
   ]
  },
  {
   "cell_type": "code",
   "execution_count": 5,
   "id": "b767d51e",
   "metadata": {},
   "outputs": [
    {
     "data": {
      "text/plain": [
       "[[1, 2, 10, 5, 6, 9], [3, 11, 12, 4, 7, 8]]"
      ]
     },
     "execution_count": 5,
     "metadata": {},
     "output_type": "execute_result"
    }
   ],
   "source": [
    "#to match LL in Mathematica\n",
    "\n",
    "thimbles = [item for row in I.intersections for item in row]\n",
    "branes = [item for row in I.branes for item in row]\n",
    "\n",
    "for b in copy(thimbles):\n",
    "    if b not in branes:\n",
    "        thimbles.remove(b)\n",
    "        \n",
    "[[thimbles.index(i)+1 for i in row] for row in I.branes]"
   ]
  },
  {
   "cell_type": "code",
   "execution_count": 6,
   "id": "4cda64c8",
   "metadata": {
    "scrolled": true
   },
   "outputs": [
    {
     "name": "stdout",
     "output_type": "stream",
     "text": [
      "----------Making the initial approximation----------\n",
      "d0 squares to zero: False\n",
      "----------Correcting order 1 in u for brane 0----------\n",
      "Making the system\n",
      "We have 3 rows 2 columns\n",
      "Number of terms to correct: 3\n",
      "Transfoming to a symmetric square system\n",
      "Solving the system\n",
      "Exit_Code: 0\n",
      "Found a solution!\n",
      "Correcting 2 matrix elements\n",
      "Correcting the differential\n",
      "d0 squares to zero: True\n"
     ]
    }
   ],
   "source": [
    "testdif = I.one_dimentional_differential(0).as_an_array()\n",
    "testdif[testdif == None] = 0\n",
    "#print(testdif)"
   ]
  },
  {
   "cell_type": "code",
   "execution_count": 7,
   "id": "6abff0ed",
   "metadata": {},
   "outputs": [
    {
     "name": "stdout",
     "output_type": "stream",
     "text": [
      "----------Making the initial approximation----------\n",
      "d0 squares to zero: False\n",
      "----------Correcting order 1 in u for brane 0----------\n",
      "Making the system\n",
      "We have 3 rows 2 columns\n",
      "Number of terms to correct: 3\n",
      "Transfoming to a symmetric square system\n",
      "Solving the system\n",
      "Exit_Code: 0\n",
      "Found a solution!\n",
      "Correcting 2 matrix elements\n",
      "Correcting the differential\n",
      "d0 squares to zero: True\n",
      "----------Making the initial approximation----------\n",
      "d0 squares to zero: False\n",
      "----------Correcting order 1 in u for brane 1----------\n",
      "Making the system\n",
      "We have 3 rows 2 columns\n",
      "Number of terms to correct: 3\n",
      "Transfoming to a symmetric square system\n",
      "Solving the system\n",
      "Exit_Code: 0\n",
      "Found a solution!\n",
      "Correcting 2 matrix elements\n",
      "Correcting the differential\n",
      "d0 squares to zero: True\n",
      "d0 squares to zero: False\n",
      "d0 squares to zero mod (u,h): True\n",
      "d0 squares to zero mod (u^2,h): True\n",
      "d0 squares to zero mod (u^3,h): True\n",
      "d0 squares to zero mod h: True\n",
      "d0 squares to zero mod h^2: False\n",
      "----------Correcting order 1 in h for the product of the first 2 branes----------\n",
      "Making the system\n",
      "We have 694 rows 384 columns\n",
      "Number of terms to correct: 42\n",
      "Zero column in the original matrix: 346\n",
      "Zero column in the original matrix: 347\n",
      "Zero column in the original matrix: 352\n",
      "Zero column in the original matrix: 353\n",
      "Transfoming to a symmetric square system\n",
      "Solving the system\n",
      "Exit_Code: 0\n",
      "Found a solution!\n",
      "Correcting 24 matrix elements\n",
      "Correcting the differential\n",
      "d0 squares to zero: True\n"
     ]
    }
   ],
   "source": [
    "I.make_differential()\n",
    "dif2d = I.differential.as_an_array()\n",
    "dif2d[dif2d == None] = 0"
   ]
  },
  {
   "cell_type": "code",
   "execution_count": 8,
   "id": "e2520677",
   "metadata": {
    "scrolled": false
   },
   "outputs": [
    {
     "name": "stdout",
     "output_type": "stream",
     "text": [
      "[[0 0 0 ... 0 0 0]\n",
      " [E_{1, 5}*s4*s3*E_{1, 3} 0 E_{1, 5}*s5*E_{1, 6} ... 0 0 0]\n",
      " [0 0 0 ... 0 0 0]\n",
      " ...\n",
      " [0 0 0 ... 0 -E_{2, 5}*s2*E_{3, 5} 0]\n",
      " [0 0 0 ... 0 0 0]\n",
      " [0 0 0 ... 0 -E_{4, 5}*s3*E_{3, 5} 0]]\n"
     ]
    }
   ],
   "source": [
    "print(dif2d)"
   ]
  },
  {
   "cell_type": "code",
   "execution_count": 9,
   "id": "85afdd73",
   "metadata": {
    "scrolled": true
   },
   "outputs": [
    {
     "data": {
      "text/plain": [
       "{0: Product of T-Thimbles: (1, 3), 0, -1, (0, 4), -1, 2, 3, (0, 10),\n",
       " 1: Product of T-Thimbles: (1, 5), -1, 1, (0, 13), 1, 2, 5, (0, 5),\n",
       " 2: Product of T-Thimbles: (1, 6), 0, 1, (0, 15), 1, 2, 6, (0, 6),\n",
       " 3: Product of T-Thimbles: (1, 3), 1, -2, (0, 5), -2, 2, 3, (0, 12),\n",
       " 4: Product of T-Thimbles: (1, 4), 2, -2, (0, 8), -2, 2, 4, (0, 4),\n",
       " 5: Product of T-Thimbles: (1, 5), 1, -1, (0, 9), -1, 2, 5, (0, 13),\n",
       " 6: Product of T-Thimbles: (2, 3), -1, 0, (1, 4), 0, 2, 3, (1, 10),\n",
       " 7: Product of T-Thimbles: (2, 5), -2, 2, (1, 13), 2, 2, 5, (1, 5),\n",
       " 8: Product of T-Thimbles: (2, 6), -1, 2, (1, 15), 2, 2, 6, (1, 6),\n",
       " 9: Product of T-Thimbles: (2, 3), 0, -1, (1, 5), -1, 2, 3, (1, 12),\n",
       " 10: Product of T-Thimbles: (2, 4), 1, -1, (1, 8), -1, 2, 4, (1, 4),\n",
       " 11: Product of T-Thimbles: (2, 5), 0, 0, (1, 9), 0, 2, 5, (1, 13),\n",
       " 12: Product of T-Thimbles: (5, 2), 0, 1, (11, 4), 1, 1, 2, (9, 10),\n",
       " 13: Product of T-Thimbles: (4, 5), -1, 2, (11, 13), 2, 2, 5, (9, 5),\n",
       " 14: Product of T-Thimbles: (4, 6), 0, 2, (11, 15), 2, 2, 6, (9, 6),\n",
       " 15: Product of T-Thimbles: (5, 2), 1, 0, (11, 5), 0, 1, 2, (9, 12),\n",
       " 16: Product of T-Thimbles: (5, 3), 2, 0, (11, 8), 0, 1, 3, (9, 4),\n",
       " 17: Product of T-Thimbles: (5, 4), 1, 1, (11, 9), 1, 1, 4, (9, 13),\n",
       " 18: Product of T-Thimbles: (3, 2), 1, -1, (6, 4), -1, 1, 2, (14, 10),\n",
       " 19: Product of T-Thimbles: (2, 5), 0, 0, (6, 13), 0, 2, 5, (14, 5),\n",
       " 20: Product of T-Thimbles: (2, 6), 1, 0, (6, 15), 0, 2, 6, (14, 6),\n",
       " 21: Product of T-Thimbles: (3, 2), 2, -2, (6, 5), -2, 1, 2, (14, 12),\n",
       " 22: Product of T-Thimbles: (2, 4), 3, -1, (6, 8), -1, 2, 4, (14, 4),\n",
       " 23: Product of T-Thimbles: (2, 5), 2, 0, (6, 9), 0, 2, 5, (14, 13),\n",
       " 24: Product of T-Thimbles: (4, 2), 2, -1, (7, 4), -1, 1, 2, (2, 10),\n",
       " 25: Product of T-Thimbles: (3, 5), 1, 0, (7, 13), 0, 2, 5, (2, 5),\n",
       " 26: Product of T-Thimbles: (3, 6), 2, 0, (7, 15), 0, 2, 6, (2, 6),\n",
       " 27: Product of T-Thimbles: (4, 2), 3, -2, (7, 5), -2, 1, 2, (2, 12),\n",
       " 28: Product of T-Thimbles: (3, 4), 4, -1, (7, 8), -1, 2, 4, (2, 4),\n",
       " 29: Product of T-Thimbles: (3, 5), 3, 0, (7, 9), 0, 2, 5, (2, 13),\n",
       " 30: Product of T-Thimbles: (5, 2), 1, 0, (10, 4), 0, 1, 2, (15, 10),\n",
       " 31: Product of T-Thimbles: (4, 5), 0, 1, (10, 13), 1, 2, 5, (15, 5),\n",
       " 32: Product of T-Thimbles: (4, 6), 1, 1, (10, 15), 1, 2, 6, (15, 6),\n",
       " 33: Product of T-Thimbles: (5, 2), 2, -1, (10, 5), -1, 1, 2, (15, 12),\n",
       " 34: Product of T-Thimbles: (5, 3), 3, -1, (10, 8), -1, 1, 3, (15, 4),\n",
       " 35: Product of T-Thimbles: (5, 4), 2, 0, (10, 9), 0, 1, 4, (15, 13)}"
      ]
     },
     "execution_count": 9,
     "metadata": {},
     "output_type": "execute_result"
    }
   ],
   "source": [
    "I.thimbles"
   ]
  },
  {
   "cell_type": "code",
   "execution_count": 10,
   "id": "58ee30c8",
   "metadata": {},
   "outputs": [
    {
     "name": "stdout",
     "output_type": "stream",
     "text": [
      "The number of relevant thimbles: 8\n"
     ]
    },
    {
     "data": {
      "text/plain": [
       "t^2*q^-1 + q + 1 + t^-2*q^2"
      ]
     },
     "execution_count": 10,
     "metadata": {},
     "output_type": "execute_result"
    }
   ],
   "source": [
    "I.find_cohomology(QQ)"
   ]
  },
  {
   "cell_type": "code",
   "execution_count": 11,
   "id": "7451504c",
   "metadata": {},
   "outputs": [],
   "source": [
    "import sys\n",
    "if \"./build/lib.macosx-11.0-arm64-cpython-311/\" not in sys.path:\n",
    "    sys.path.insert(0,\"./build/lib.macosx-11.0-arm64-cpython-311/\") \n",
    "from Solver import InitialData"
   ]
  },
  {
   "cell_type": "code",
   "execution_count": 12,
   "id": "2f614fec",
   "metadata": {},
   "outputs": [
    {
     "name": "stdout",
     "output_type": "stream",
     "text": [
      "[[0], [1, 3], [2, 4], [5, 7], [6], [], []]\n",
      "[[0, 1, 2, 3], [4, 5, 6, 7]]\n"
     ]
    }
   ],
   "source": [
    "n = 6 #number of punctures\n",
    "k = 2 #number of E-branes\n",
    "\n",
    "I = InitialData(n,k)\n",
    "print(I.intersections)\n",
    "print(I.branes)"
   ]
  },
  {
   "cell_type": "code",
   "execution_count": 13,
   "id": "eaa491af",
   "metadata": {},
   "outputs": [
    {
     "name": "stdout",
     "output_type": "stream",
     "text": [
      "[[0, 40, 42, 44, 46], [10, 8, 3, 1, 48, 50, 52, 54, 56, 58, 60, 62, 64, 66, 68, 70, 72, 74, 76, 78, 80, 82], [38, 36, 34, 32, 30, 28, 26, 24, 22, 20, 18, 16, 2, 4, 47, 45, 43, 41], [49, 51, 53, 55, 57, 59, 61, 63, 65, 67, 69, 71, 73, 75, 77, 79, 81, 83, 9, 11, 5, 7, 12, 14, 84, 86, 88, 90, 92, 94, 96, 98, 100, 102, 104, 106, 108], [6, 27, 25, 23, 21, 19, 17, 39, 37, 35, 33, 31, 29], [85, 87, 89, 91, 93, 95, 97, 99, 101, 103, 105, 107, 109, 15, 13], []]\n",
      "[[0, 59, 2, 58, 97, 17, 38, 82, 39, 95, 60, 16, 61, 42, 3, 51, 43, 50], [54, 47, 55, 10, 46, 57, 4, 56, 13, 71, 26, 70, 85, 29, 72, 28, 73, 15]]\n"
     ]
    }
   ],
   "source": [
    "I.apply_braid([-2,4,4,3,3,1,-2,4])\n",
    "print(I.intersections)\n",
    "print(I.branes)"
   ]
  },
  {
   "cell_type": "code",
   "execution_count": 14,
   "id": "2bbe5b38",
   "metadata": {},
   "outputs": [
    {
     "data": {
      "text/plain": [
       "[[1, 25, 18, 9, 34, 29, 14, 13, 30, 33, 10, 17, 26, 2, 5, 22, 21, 6],\n",
       " [7, 20, 23, 4, 3, 24, 19, 8, 36, 27, 16, 11, 32, 31, 12, 15, 28, 35]]"
      ]
     },
     "execution_count": 14,
     "metadata": {},
     "output_type": "execute_result"
    }
   ],
   "source": [
    "#to match LL in Mathematica\n",
    "\n",
    "thimbles = [item for row in I.intersections for item in row]\n",
    "branes = [item for row in I.branes for item in row]\n",
    "\n",
    "for b in copy(thimbles):\n",
    "    if b not in branes:\n",
    "        thimbles.remove(b)\n",
    "        \n",
    "[[thimbles.index(i)+1 for i in row] for row in I.branes]"
   ]
  },
  {
   "cell_type": "code",
   "execution_count": 15,
   "id": "75dcacd5",
   "metadata": {},
   "outputs": [
    {
     "name": "stdout",
     "output_type": "stream",
     "text": [
      "----------Making the initial approximation----------\n",
      "d0 squares to zero: False\n",
      "----------Correcting order 1 in u for brane 0----------\n",
      "Making the system\n",
      "We have 24 rows 23 columns\n",
      "Number of terms to correct: 10\n",
      "Transfoming to a symmetric square system\n",
      "Solving the system\n",
      "Exit_Code: 0\n",
      "Found a solution!\n",
      "Correcting 19 matrix elements\n",
      "Correcting the differential\n",
      "d0 squares to zero: True\n"
     ]
    }
   ],
   "source": [
    "testdif = I.one_dimentional_differential(0).as_an_array()\n",
    "testdif[testdif == None] = 0\n",
    "#print(testdif)"
   ]
  },
  {
   "cell_type": "code",
   "execution_count": 16,
   "id": "5589086d",
   "metadata": {},
   "outputs": [
    {
     "name": "stdout",
     "output_type": "stream",
     "text": [
      "----------Making the initial approximation----------\n",
      "d0 squares to zero: False\n",
      "----------Correcting order 1 in u for brane 0----------\n",
      "Making the system\n",
      "We have 24 rows 23 columns\n",
      "Number of terms to correct: 10\n",
      "Transfoming to a symmetric square system\n",
      "Solving the system\n",
      "Exit_Code: 0\n",
      "Found a solution!\n",
      "Correcting 19 matrix elements\n",
      "Correcting the differential\n",
      "d0 squares to zero: True\n",
      "----------Making the initial approximation----------\n",
      "d0 squares to zero: False\n",
      "----------Correcting order 1 in u for brane 1----------\n",
      "Making the system\n",
      "We have 16 rows 19 columns\n",
      "Number of terms to correct: 8\n",
      "Zero column in the original matrix: 6\n",
      "Zero column in the original matrix: 7\n",
      "Transfoming to a symmetric square system\n",
      "Solving the system\n",
      "Exit_Code: 0\n",
      "Found a solution!\n",
      "Correcting 13 matrix elements\n",
      "Correcting the differential\n",
      "d0 squares to zero: False\n",
      "----------Correcting order 2 in u for brane 1----------\n",
      "Making the system\n",
      "We have 10 rows 9 columns\n",
      "Number of terms to correct: 3\n",
      "Transfoming to a symmetric square system\n",
      "Solving the system\n",
      "Exit_Code: 0\n",
      "Found a solution!\n",
      "Correcting 6 matrix elements\n",
      "Correcting the differential\n",
      "d0 squares to zero: True\n"
     ]
    },
    {
     "name": "stdout",
     "output_type": "stream",
     "text": [
      "d0 squares to zero: False\n",
      "d0 squares to zero mod (u,h): True\n",
      "d0 squares to zero mod (u^2,h): True\n",
      "d0 squares to zero mod (u^3,h): True\n",
      "d0 squares to zero mod h: True\n",
      "d0 squares to zero mod h^2: False\n",
      "----------Correcting order 1 in h for the product of the first 2 branes----------\n",
      "Making the system\n",
      "We have 82406 rows 29869 columns\n",
      "Number of terms to correct: 825\n",
      "Zero column in the original matrix: 10945\n",
      "Zero column in the original matrix: 16399\n",
      "Zero column in the original matrix: 16400\n",
      "Zero column in the original matrix: 16401\n",
      "Zero column in the original matrix: 19778\n",
      "Zero column in the original matrix: 19779\n",
      "Zero column in the original matrix: 26376\n",
      "Zero column in the original matrix: 26379\n",
      "Zero column in the original matrix: 26388\n",
      "Zero column in the original matrix: 26389\n",
      "Zero column in the original matrix: 26429\n",
      "Zero column in the original matrix: 26430\n",
      "Transfoming to a symmetric square system\n",
      "Solving the system\n",
      "Exit_Code: 0\n"
     ]
    },
    {
     "ename": "AssertionError",
     "evalue": "Solution is not integral",
     "output_type": "error",
     "traceback": [
      "\u001b[0;31m---------------------------------------------------------------------------\u001b[0m",
      "\u001b[0;31mAssertionError\u001b[0m                            Traceback (most recent call last)",
      "Cell \u001b[0;32mIn [16], line 1\u001b[0m\n\u001b[0;32m----> 1\u001b[0m \u001b[43mI\u001b[49m\u001b[38;5;241;43m.\u001b[39;49m\u001b[43mmake_differential\u001b[49m\u001b[43m(\u001b[49m\u001b[43m)\u001b[49m\n\u001b[1;32m      2\u001b[0m dif2d \u001b[38;5;241m=\u001b[39m I\u001b[38;5;241m.\u001b[39mdifferential\u001b[38;5;241m.\u001b[39mas_an_array()\n\u001b[1;32m      3\u001b[0m dif2d[dif2d \u001b[38;5;241m==\u001b[39m \u001b[38;5;28;01mNone\u001b[39;00m] \u001b[38;5;241m=\u001b[39m Integer(\u001b[38;5;241m0\u001b[39m)\n",
      "File \u001b[0;32m~/SageMath/Knot Homology with Initial Data/Solver.pyx:1760\u001b[0m, in \u001b[0;36mSolver.InitialData.make_differential\u001b[0;34m()\u001b[0m\n\u001b[1;32m   1758\u001b[0m print(\"----------Correcting order {} in h for the product of the first {} branes----------\".format(order,next_brane_number+1))\n\u001b[1;32m   1759\u001b[0m multiplier = (S.KRLW_algebra().hbar * S.KRLW_algebra().u)**order\n\u001b[0;32m-> 1760\u001b[0m S.make_corrections(multiplier = multiplier, order = order, graded_type = \"h^order\")\n\u001b[1;32m   1761\u001b[0m if S.d0_squares_to_zero():\n\u001b[1;32m   1762\u001b[0m     break\n",
      "File \u001b[0;32m~/SageMath/Knot Homology with Initial Data/Solver.pyx:790\u001b[0m, in \u001b[0;36mSolver.Solver.make_corrections\u001b[0;34m()\u001b[0m\n\u001b[1;32m    788\u001b[0m         print(\"Zero column in the square matrix:\", i)\n\u001b[1;32m    789\u001b[0m \n\u001b[0;32m--> 790\u001b[0m x = self.solve_system_for_differential(M,bb)\n\u001b[1;32m    791\u001b[0m del M,bb\n\u001b[1;32m    792\u001b[0m \n",
      "File \u001b[0;32m~/SageMath/Knot Homology with Initial Data/Solver.pyx:651\u001b[0m, in \u001b[0;36mSolver.Solver.solve_system_for_differential\u001b[0;34m()\u001b[0m\n\u001b[1;32m    649\u001b[0m x_int = np.rint(x)#.astype(dtype=np.dtype(\"intc\"))\n\u001b[1;32m    650\u001b[0m \n\u001b[0;32m--> 651\u001b[0m assert np.allclose(M@x_int, y), \"Solution is not integral\"\n\u001b[1;32m    652\u001b[0m return x_int    \n\u001b[1;32m    653\u001b[0m \n",
      "\u001b[0;31mAssertionError\u001b[0m: Solution is not integral"
     ]
    }
   ],
   "source": [
    "I.make_differential()\n",
    "dif2d = I.differential.as_an_array()\n",
    "dif2d[dif2d == None] = 0"
   ]
  },
  {
   "cell_type": "code",
   "execution_count": 17,
   "id": "00ac9952",
   "metadata": {},
   "outputs": [],
   "source": [
    "import sys\n",
    "if \"./build/lib.macosx-11.0-arm64-cpython-311/\" not in sys.path:\n",
    "    sys.path.insert(0,\"./build/lib.macosx-11.0-arm64-cpython-311/\") \n",
    "from Solver import InitialData"
   ]
  },
  {
   "cell_type": "code",
   "execution_count": 18,
   "id": "74c658a8",
   "metadata": {},
   "outputs": [
    {
     "name": "stdout",
     "output_type": "stream",
     "text": [
      "[[0], [1, 3], [2, 4], [5, 7], [6], [], []]\n",
      "[[0, 1, 2, 3], [4, 5, 6, 7]]\n"
     ]
    }
   ],
   "source": [
    "n = 6 #number of punctures\n",
    "k = 2 #number of E-branes\n",
    "\n",
    "I = InitialData(n,k)\n",
    "print(I.intersections)\n",
    "print(I.branes)"
   ]
  },
  {
   "cell_type": "code",
   "execution_count": 19,
   "id": "ab0752ec",
   "metadata": {},
   "outputs": [
    {
     "name": "stdout",
     "output_type": "stream",
     "text": [
      "[[0], [1, 3, 8, 10, 12, 14], [2, 4], [13, 15, 9, 11, 5, 7], [6], [], []]\n",
      "[[0, 1, 9, 14, 2, 15], [10, 5, 6, 12, 4, 13]]\n"
     ]
    }
   ],
   "source": [
    "I.apply_braid([2,2])\n",
    "print(I.intersections)\n",
    "print(I.branes)"
   ]
  },
  {
   "cell_type": "code",
   "execution_count": 20,
   "id": "2bf05056",
   "metadata": {},
   "outputs": [
    {
     "data": {
      "text/plain": [
       "[[1, 2, 10, 5, 6, 9], [3, 11, 12, 4, 7, 8]]"
      ]
     },
     "execution_count": 20,
     "metadata": {},
     "output_type": "execute_result"
    }
   ],
   "source": [
    "#to match LL in Mathematica\n",
    "\n",
    "thimbles = [item for row in I.intersections for item in row]\n",
    "branes = [item for row in I.branes for item in row]\n",
    "\n",
    "for b in copy(thimbles):\n",
    "    if b not in branes:\n",
    "        thimbles.remove(b)\n",
    "        \n",
    "[[thimbles.index(i)+1 for i in row] for row in I.branes]"
   ]
  },
  {
   "cell_type": "code",
   "execution_count": 21,
   "id": "8eddfcbc",
   "metadata": {},
   "outputs": [
    {
     "name": "stdout",
     "output_type": "stream",
     "text": [
      "----------Making the initial approximation----------\n",
      "d0 squares to zero: False\n",
      "----------Correcting order 1 in u for brane 0----------\n",
      "Making the system\n",
      "We have 3 rows 2 columns\n",
      "Number of terms to correct: 3\n",
      "Transfoming to a symmetric square system\n",
      "Solving the system\n",
      "Exit_Code: 0\n",
      "Found a solution!\n",
      "Correcting 2 matrix elements\n",
      "Correcting the differential\n",
      "d0 squares to zero: True\n"
     ]
    }
   ],
   "source": [
    "testdif = I.one_dimentional_differential(0).as_an_array()\n",
    "testdif[testdif == None] = 0\n",
    "#print(testdif)"
   ]
  },
  {
   "cell_type": "code",
   "execution_count": 22,
   "id": "d1cb6d82",
   "metadata": {},
   "outputs": [
    {
     "name": "stdout",
     "output_type": "stream",
     "text": [
      "----------Making the initial approximation----------\n",
      "d0 squares to zero: False\n",
      "----------Correcting order 1 in u for brane 0----------\n",
      "Making the system\n",
      "We have 3 rows 2 columns\n",
      "Number of terms to correct: 3\n",
      "Transfoming to a symmetric square system\n",
      "Solving the system\n",
      "Exit_Code: 0\n",
      "Found a solution!\n",
      "Correcting 2 matrix elements\n",
      "Correcting the differential\n",
      "d0 squares to zero: True\n",
      "----------Making the initial approximation----------\n",
      "d0 squares to zero: False\n",
      "----------Correcting order 1 in u for brane 1----------\n",
      "Making the system\n",
      "We have 3 rows 2 columns\n",
      "Number of terms to correct: 3\n",
      "Transfoming to a symmetric square system\n",
      "Solving the system\n",
      "Exit_Code: 0\n",
      "Found a solution!\n",
      "Correcting 2 matrix elements\n",
      "Correcting the differential\n",
      "d0 squares to zero: True\n",
      "d0 squares to zero: False\n",
      "d0 squares to zero mod (u,h): True\n",
      "d0 squares to zero mod (u^2,h): True\n",
      "d0 squares to zero mod (u^3,h): True\n",
      "d0 squares to zero mod h: True\n",
      "d0 squares to zero mod h^2: False\n",
      "----------Correcting order 1 in h for the product of the first 2 branes----------\n",
      "Making the system\n",
      "We have 694 rows 384 columns\n",
      "Number of terms to correct: 42\n",
      "Zero column in the original matrix: 346\n",
      "Zero column in the original matrix: 347\n",
      "Zero column in the original matrix: 352\n",
      "Zero column in the original matrix: 353\n",
      "Transfoming to a symmetric square system\n",
      "Solving the system\n",
      "Exit_Code: 0\n",
      "Found a solution!\n",
      "Correcting 24 matrix elements\n",
      "Correcting the differential\n",
      "d0 squares to zero: True\n"
     ]
    }
   ],
   "source": [
    "I.make_differential()\n",
    "dif2d = I.differential.as_an_array()\n",
    "dif2d[dif2d == None] = 0"
   ]
  },
  {
   "cell_type": "code",
   "execution_count": 23,
   "id": "6b3505e4",
   "metadata": {},
   "outputs": [
    {
     "name": "stdout",
     "output_type": "stream",
     "text": [
      "[[0 0 0 ... 0 0 0]\n",
      " [E_{1, 5}*s4*s3*E_{1, 3} 0 E_{1, 5}*s5*E_{1, 6} ... 0 0 0]\n",
      " [0 0 0 ... 0 0 0]\n",
      " ...\n",
      " [0 0 0 ... 0 -E_{2, 5}*s2*E_{3, 5} 0]\n",
      " [0 0 0 ... 0 0 0]\n",
      " [0 0 0 ... 0 -E_{4, 5}*s3*E_{3, 5} 0]]\n"
     ]
    }
   ],
   "source": [
    "print(dif2d)"
   ]
  },
  {
   "cell_type": "code",
   "execution_count": 24,
   "id": "62e41cad",
   "metadata": {},
   "outputs": [
    {
     "data": {
      "text/plain": [
       "{0: Product of T-Thimbles: (1, 3), 0, -1, (0, 4), -1, 2, 3, (0, 10),\n",
       " 1: Product of T-Thimbles: (1, 5), -1, 1, (0, 13), 1, 2, 5, (0, 5),\n",
       " 2: Product of T-Thimbles: (1, 6), 0, 1, (0, 15), 1, 2, 6, (0, 6),\n",
       " 3: Product of T-Thimbles: (1, 3), 1, -2, (0, 5), -2, 2, 3, (0, 12),\n",
       " 4: Product of T-Thimbles: (1, 4), 2, -2, (0, 8), -2, 2, 4, (0, 4),\n",
       " 5: Product of T-Thimbles: (1, 5), 1, -1, (0, 9), -1, 2, 5, (0, 13),\n",
       " 6: Product of T-Thimbles: (2, 3), -1, 0, (1, 4), 0, 2, 3, (1, 10),\n",
       " 7: Product of T-Thimbles: (2, 5), -2, 2, (1, 13), 2, 2, 5, (1, 5),\n",
       " 8: Product of T-Thimbles: (2, 6), -1, 2, (1, 15), 2, 2, 6, (1, 6),\n",
       " 9: Product of T-Thimbles: (2, 3), 0, -1, (1, 5), -1, 2, 3, (1, 12),\n",
       " 10: Product of T-Thimbles: (2, 4), 1, -1, (1, 8), -1, 2, 4, (1, 4),\n",
       " 11: Product of T-Thimbles: (2, 5), 0, 0, (1, 9), 0, 2, 5, (1, 13),\n",
       " 12: Product of T-Thimbles: (5, 2), 0, 1, (11, 4), 1, 1, 2, (9, 10),\n",
       " 13: Product of T-Thimbles: (4, 5), -1, 2, (11, 13), 2, 2, 5, (9, 5),\n",
       " 14: Product of T-Thimbles: (4, 6), 0, 2, (11, 15), 2, 2, 6, (9, 6),\n",
       " 15: Product of T-Thimbles: (5, 2), 1, 0, (11, 5), 0, 1, 2, (9, 12),\n",
       " 16: Product of T-Thimbles: (5, 3), 2, 0, (11, 8), 0, 1, 3, (9, 4),\n",
       " 17: Product of T-Thimbles: (5, 4), 1, 1, (11, 9), 1, 1, 4, (9, 13),\n",
       " 18: Product of T-Thimbles: (3, 2), 1, -1, (6, 4), -1, 1, 2, (14, 10),\n",
       " 19: Product of T-Thimbles: (2, 5), 0, 0, (6, 13), 0, 2, 5, (14, 5),\n",
       " 20: Product of T-Thimbles: (2, 6), 1, 0, (6, 15), 0, 2, 6, (14, 6),\n",
       " 21: Product of T-Thimbles: (3, 2), 2, -2, (6, 5), -2, 1, 2, (14, 12),\n",
       " 22: Product of T-Thimbles: (2, 4), 3, -1, (6, 8), -1, 2, 4, (14, 4),\n",
       " 23: Product of T-Thimbles: (2, 5), 2, 0, (6, 9), 0, 2, 5, (14, 13),\n",
       " 24: Product of T-Thimbles: (4, 2), 2, -1, (7, 4), -1, 1, 2, (2, 10),\n",
       " 25: Product of T-Thimbles: (3, 5), 1, 0, (7, 13), 0, 2, 5, (2, 5),\n",
       " 26: Product of T-Thimbles: (3, 6), 2, 0, (7, 15), 0, 2, 6, (2, 6),\n",
       " 27: Product of T-Thimbles: (4, 2), 3, -2, (7, 5), -2, 1, 2, (2, 12),\n",
       " 28: Product of T-Thimbles: (3, 4), 4, -1, (7, 8), -1, 2, 4, (2, 4),\n",
       " 29: Product of T-Thimbles: (3, 5), 3, 0, (7, 9), 0, 2, 5, (2, 13),\n",
       " 30: Product of T-Thimbles: (5, 2), 1, 0, (10, 4), 0, 1, 2, (15, 10),\n",
       " 31: Product of T-Thimbles: (4, 5), 0, 1, (10, 13), 1, 2, 5, (15, 5),\n",
       " 32: Product of T-Thimbles: (4, 6), 1, 1, (10, 15), 1, 2, 6, (15, 6),\n",
       " 33: Product of T-Thimbles: (5, 2), 2, -1, (10, 5), -1, 1, 2, (15, 12),\n",
       " 34: Product of T-Thimbles: (5, 3), 3, -1, (10, 8), -1, 1, 3, (15, 4),\n",
       " 35: Product of T-Thimbles: (5, 4), 2, 0, (10, 9), 0, 1, 4, (15, 13)}"
      ]
     },
     "execution_count": 24,
     "metadata": {},
     "output_type": "execute_result"
    }
   ],
   "source": [
    "I.thimbles"
   ]
  },
  {
   "cell_type": "code",
   "execution_count": 25,
   "id": "02601056",
   "metadata": {},
   "outputs": [
    {
     "name": "stdout",
     "output_type": "stream",
     "text": [
      "The number of relevant thimbles: 8\n"
     ]
    },
    {
     "data": {
      "text/plain": [
       "t^2*q^-1 + q + 1 + t^-2*q^2"
      ]
     },
     "execution_count": 25,
     "metadata": {},
     "output_type": "execute_result"
    }
   ],
   "source": [
    "I.find_cohomology(QQ)"
   ]
  }
 ],
 "metadata": {
  "kernelspec": {
   "display_name": "SageMath 10.0",
   "language": "sage",
   "name": "SageMath-10.0"
  },
  "language_info": {
   "codemirror_mode": {
    "name": "ipython",
    "version": 3
   },
   "file_extension": ".py",
   "mimetype": "text/x-python",
   "name": "python",
   "nbconvert_exporter": "python",
   "pygments_lexer": "ipython3",
   "version": "3.11.1"
  }
 },
 "nbformat": 4,
 "nbformat_minor": 5
}
