{
 "cells": [
  {
   "cell_type": "code",
   "execution_count": null,
   "id": "1f8ad1d9",
   "metadata": {},
   "outputs": [],
   "source": [
    "from klrw.combinatorial_ebranes import CombinatorialEBrane"
   ]
  },
  {
   "cell_type": "code",
   "execution_count": null,
   "id": "3f14a9e6",
   "metadata": {},
   "outputs": [],
   "source": [
    "n = 6 #number of punctures\n",
    "k = 2 #number of E-branes\n",
    "\n",
    "I = CombinatorialEBrane(n,k)"
   ]
  },
  {
   "cell_type": "code",
   "execution_count": null,
   "id": "f4f80635",
   "metadata": {},
   "outputs": [],
   "source": [
    "I.apply_braid([2, 3, 4, 3, 4, -2])"
   ]
  },
  {
   "cell_type": "code",
   "execution_count": null,
   "id": "6abff0ed",
   "metadata": {},
   "outputs": [],
   "source": [
    "I.make_differential(max_number_of_dots=1, method=\"cg\")"
   ]
  },
  {
   "cell_type": "code",
   "execution_count": null,
   "id": "85afdd73",
   "metadata": {
    "scrolled": true
   },
   "outputs": [],
   "source": [
    "from pickle import dump\n",
    "\n",
    "with open(\"ebrane_local\", \"wb\") as f:\n",
    "    dump(I, file=f)"
   ]
  },
  {
   "cell_type": "code",
   "execution_count": null,
   "id": "58ee30c8",
   "metadata": {},
   "outputs": [],
   "source": [
    "I.find_cohomology(ZZ)"
   ]
  },
  {
   "cell_type": "code",
   "execution_count": null,
   "id": "68969baf",
   "metadata": {},
   "outputs": [],
   "source": [
    "from pickle import load\n",
    "\n",
    "with open(\"ebrane_local\", \"rb\") as f:\n",
    "    I2 = load(f)\n",
    "\n",
    "I2.find_cohomology(GF(2))"
   ]
  },
  {
   "cell_type": "code",
   "execution_count": null,
   "id": "18043ab3",
   "metadata": {},
   "outputs": [],
   "source": []
  }
 ],
 "metadata": {
  "kernelspec": {
   "display_name": "SageMath 10.0",
   "language": "sage",
   "name": "SageMath-10.0"
  },
  "language_info": {
   "codemirror_mode": {
    "name": "ipython",
    "version": 3
   },
   "file_extension": ".py",
   "mimetype": "text/x-python",
   "name": "python",
   "nbconvert_exporter": "python",
   "pygments_lexer": "ipython3",
   "version": "3.11.1"
  }
 },
 "nbformat": 4,
 "nbformat_minor": 5
}
