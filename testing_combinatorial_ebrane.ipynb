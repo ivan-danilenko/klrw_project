{
 "cells": [
  {
   "cell_type": "code",
   "execution_count": null,
   "id": "3f14a9e6",
   "metadata": {
    "tags": [
     "parameters"
    ]
   },
   "outputs": [],
   "source": [
    "n, k = 6, 3\n",
    "braid = [2,4,-3,2,4]\n",
    "link_name=\"L5a1\"\n",
    "folder_path = \"./pickles/\""
   ]
  },
  {
   "cell_type": "code",
   "execution_count": null,
   "id": "f4f80635",
   "metadata": {},
   "outputs": [],
   "source": [
    "from klrw.combinatorial_ebranes import CombinatorialEBrane\n",
    "\n",
    "I = CombinatorialEBrane(n, k)\n",
    "I.apply_braid(braid)"
   ]
  },
  {
   "cell_type": "code",
   "execution_count": null,
   "id": "6abff0ed",
   "metadata": {},
   "outputs": [],
   "source": [
    "I.link_homology(\n",
    "    ZZ,\n",
    "    pickle=\"save\",\n",
    "    link_name=link_name,\n",
    "    folder_path=folder_path,\n",
    ")"
   ]
  },
  {
   "cell_type": "code",
   "execution_count": null,
   "id": "85afdd73",
   "metadata": {
    "scrolled": true
   },
   "outputs": [],
   "source": [
    "# testing if load from pickles work\n",
    "\n",
    "I.link_homology(\n",
    "    ZZ,\n",
    "    pickle=\"load\",\n",
    "    link_name=link_name,\n",
    "    folder_path=folder_path,\n",
    ")"
   ]
  },
  {
   "cell_type": "code",
   "execution_count": null,
   "id": "2b54f1e5",
   "metadata": {},
   "outputs": [],
   "source": []
  }
 ],
 "metadata": {
  "kernelspec": {
   "display_name": "SageMath 10.0",
   "language": "sage",
   "name": "SageMath-10.0"
  },
  "language_info": {
   "codemirror_mode": {
    "name": "ipython",
    "version": 3
   },
   "file_extension": ".py",
   "mimetype": "text/x-python",
   "name": "python",
   "nbconvert_exporter": "python",
   "pygments_lexer": "ipython3",
   "version": "3.11.1"
  }
 },
 "nbformat": 4,
 "nbformat_minor": 5
}
