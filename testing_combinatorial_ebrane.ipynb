{
 "cells": [
  {
   "cell_type": "code",
   "execution_count": null,
   "id": "1f8ad1d9",
   "metadata": {},
   "outputs": [],
   "source": [
    "from klrw.combinatorial_ebranes import CombinatorialEBrane"
   ]
  },
  {
   "cell_type": "code",
   "execution_count": null,
   "id": "3f14a9e6",
   "metadata": {},
   "outputs": [],
   "source": [
    "n = 6 #number of punctures\n",
    "k = 3 #number of E-branes\n",
    "\n",
    "I = CombinatorialEBrane(n,k)"
   ]
  },
  {
   "cell_type": "code",
   "execution_count": null,
   "id": "f4f80635",
   "metadata": {},
   "outputs": [],
   "source": [
    "link_name = \"L5a1\"\n",
    "I.apply_braid([2,4,-3,2,4])"
   ]
  },
  {
   "cell_type": "code",
   "execution_count": null,
   "id": "6abff0ed",
   "metadata": {},
   "outputs": [],
   "source": [
    "I.make_differential(max_number_of_dots=1, method=\"cg\")"
   ]
  },
  {
   "cell_type": "code",
   "execution_count": null,
   "id": "85afdd73",
   "metadata": {
    "scrolled": true
   },
   "outputs": [],
   "source": [
    "from pickle import dump\n",
    "\n",
    "with open(link_name+\"_ebrane_local\", \"wb\") as f:\n",
    "    dump(I, file=f)"
   ]
  },
  {
   "cell_type": "code",
   "execution_count": null,
   "id": "58ee30c8",
   "metadata": {},
   "outputs": [],
   "source": [
    "I.find_homology(ZZ)"
   ]
  },
  {
   "cell_type": "code",
   "execution_count": null,
   "id": "2b54f1e5",
   "metadata": {},
   "outputs": [],
   "source": []
  }
 ],
 "metadata": {
  "kernelspec": {
   "display_name": "SageMath 10.0",
   "language": "sage",
   "name": "SageMath-10.0"
  },
  "language_info": {
   "codemirror_mode": {
    "name": "ipython",
    "version": 3
   },
   "file_extension": ".py",
   "mimetype": "text/x-python",
   "name": "python",
   "nbconvert_exporter": "python",
   "pygments_lexer": "ipython3",
   "version": "3.11.1"
  }
 },
 "nbformat": 4,
 "nbformat_minor": 5
}
