{
 "cells": [
  {
   "cell_type": "code",
   "execution_count": null,
   "id": "1f8ad1d9",
   "metadata": {},
   "outputs": [],
   "source": [
    "from klrw.combinatorial_ebranes import CombinatorialEBrane"
   ]
  },
  {
   "cell_type": "code",
   "execution_count": null,
   "id": "3f14a9e6",
   "metadata": {},
   "outputs": [],
   "source": [
    "n = 6 #number of punctures\n",
    "k = 2 #number of E-branes\n",
    "\n",
    "I = CombinatorialEBrane(n,k)\n",
    "print(I.intersections)\n",
    "print(I.branes)"
   ]
  },
  {
   "cell_type": "code",
   "execution_count": null,
   "id": "f4f80635",
   "metadata": {},
   "outputs": [],
   "source": [
    "#I.apply_braid([1,2,1,2])\n",
    "I.apply_braid([2,2])\n",
    "#I.apply_braid([-2,4,4,3,3,1,-2,4])\n",
    "print(I.intersections)\n",
    "print(I.branes)"
   ]
  },
  {
   "cell_type": "code",
   "execution_count": null,
   "id": "b767d51e",
   "metadata": {},
   "outputs": [],
   "source": [
    "#to match LL in Mathematica\n",
    "\n",
    "thimbles = [item for row in I.intersections for item in row]\n",
    "branes = [item for row in I.branes for item in row]\n",
    "\n",
    "for b in copy(thimbles):\n",
    "    if b not in branes:\n",
    "        thimbles.remove(b)\n",
    "        \n",
    "[[thimbles.index(i)+1 for i in row] for row in I.branes]"
   ]
  },
  {
   "cell_type": "code",
   "execution_count": null,
   "id": "4cda64c8",
   "metadata": {
    "scrolled": true
   },
   "outputs": [],
   "source": [
    "from klrw.cython_exts.solver import Solver\n",
    "d0 = I.one_dimentional_differential_initial(0)\n",
    "\n",
    "S = Solver(I.klrw_algebra[1])\n",
    "S.set_d0(d0)\n",
    "S.check_d0()\n",
    "\n",
    "d1 = I.one_dimentional_differential_corrections(0,1)\n",
    "\n",
    "print(list(d1._data()))\n",
    "print(list(d1._indices()))\n",
    "print(list(d1._indptrs()))\n"
   ]
  },
  {
   "cell_type": "code",
   "execution_count": null,
   "id": "6abff0ed",
   "metadata": {},
   "outputs": [],
   "source": [
    "I.make_differential(max_number_of_dots=1, method=\"cg\")"
   ]
  },
  {
   "cell_type": "code",
   "execution_count": null,
   "id": "85afdd73",
   "metadata": {
    "scrolled": true
   },
   "outputs": [],
   "source": [
    "I.thimbles"
   ]
  },
  {
   "cell_type": "code",
   "execution_count": null,
   "id": "58ee30c8",
   "metadata": {},
   "outputs": [],
   "source": [
    "I.find_cohomology(ZZ)"
   ]
  },
  {
   "cell_type": "code",
   "execution_count": null,
   "id": "25a1d5f7",
   "metadata": {},
   "outputs": [],
   "source": []
  }
 ],
 "metadata": {
  "kernelspec": {
   "display_name": "SageMath 10.0",
   "language": "sage",
   "name": "SageMath-10.0"
  },
  "language_info": {
   "codemirror_mode": {
    "name": "ipython",
    "version": 3
   },
   "file_extension": ".py",
   "mimetype": "text/x-python",
   "name": "python",
   "nbconvert_exporter": "python",
   "pygments_lexer": "ipython3",
   "version": "3.11.1"
  }
 },
 "nbformat": 4,
 "nbformat_minor": 5
}
