{
 "cells": [
  {
   "cell_type": "code",
   "execution_count": 1,
   "id": "1f8ad1d9",
   "metadata": {},
   "outputs": [],
   "source": [
    "from klrw.combinatorial_ebranes import CombinatorialEBrane"
   ]
  },
  {
   "cell_type": "code",
   "execution_count": 2,
   "id": "3f14a9e6",
   "metadata": {},
   "outputs": [
    {
     "name": "stdout",
     "output_type": "stream",
     "text": [
      "****\n",
      "****\n",
      "[[0], [1, 3], [2, 4], [5, 7], [6], [], []]\n",
      "[[0, 1, 2, 3], [4, 5, 6, 7]]\n"
     ]
    }
   ],
   "source": [
    "n = 6 #number of punctures\n",
    "k = 2 #number of E-branes\n",
    "\n",
    "I = CombinatorialEBrane(n,k)\n",
    "print(I.intersections)\n",
    "print(I.branes)"
   ]
  },
  {
   "cell_type": "code",
   "execution_count": 3,
   "id": "f4f80635",
   "metadata": {},
   "outputs": [
    {
     "name": "stdout",
     "output_type": "stream",
     "text": [
      "[[0, 40, 42, 44, 46], [10, 8, 3, 1, 48, 50, 52, 54, 56, 58, 60, 62, 64, 66, 68, 70, 72, 74, 76, 78, 80, 82], [38, 36, 34, 32, 30, 28, 26, 24, 22, 20, 18, 16, 2, 4, 47, 45, 43, 41], [49, 51, 53, 55, 57, 59, 61, 63, 65, 67, 69, 71, 73, 75, 77, 79, 81, 83, 9, 11, 5, 7, 12, 14, 84, 86, 88, 90, 92, 94, 96, 98, 100, 102, 104, 106, 108], [6, 27, 25, 23, 21, 19, 17, 39, 37, 35, 33, 31, 29], [85, 87, 89, 91, 93, 95, 97, 99, 101, 103, 105, 107, 109, 15, 13], []]\n",
      "[[0, 59, 2, 58, 97, 17, 38, 82, 39, 95, 60, 16, 61, 42, 3, 51, 43, 50], [54, 47, 55, 10, 46, 57, 4, 56, 13, 71, 26, 70, 85, 29, 72, 28, 73, 15]]\n"
     ]
    }
   ],
   "source": [
    "#I.apply_braid([1,2,1,2])\n",
    "I.apply_braid([2,2])\n",
    "#I.apply_braid([-2,4,4,3,3,1,-2,4])\n",
    "print(I.intersections)\n",
    "print(I.branes)"
   ]
  },
  {
   "cell_type": "code",
   "execution_count": 4,
   "id": "db2369aa",
   "metadata": {},
   "outputs": [
    {
     "data": {
      "text/plain": [
       "{(1,\n",
       "  1): Ring morphism:\n",
       "   From: Multivariate Polynomial Ring in h_1, u_1, x_1_1 over Integer Ring\n",
       "   To:   Multivariate Polynomial Ring in h_1, u_1, x_1_1, x_1_2 over Integer Ring\n",
       "   Defn: h_1 |--> h_1\n",
       "         u_1 |--> u_1\n",
       "         x_1_1 |--> x_1_1,\n",
       " (1,\n",
       "  2): Ring morphism:\n",
       "   From: Multivariate Polynomial Ring in h_1, u_1, x_1_1 over Integer Ring\n",
       "   To:   Multivariate Polynomial Ring in h_1, u_1, x_1_1, x_1_2 over Integer Ring\n",
       "   Defn: h_1 |--> h_1\n",
       "         u_1 |--> u_1\n",
       "         x_1_1 |--> x_1_2}"
      ]
     },
     "execution_count": 4,
     "metadata": {},
     "output_type": "execute_result"
    }
   ],
   "source": [
    "I.hom_one_to_many_dots"
   ]
  },
  {
   "cell_type": "code",
   "execution_count": 5,
   "id": "ace72e16",
   "metadata": {},
   "outputs": [
    {
     "data": {
      "text/plain": [
       "{(1,\n",
       "  1): Ring morphism:\n",
       "   From: Multivariate Polynomial Ring in h_1, u_1, x_1_1 over Integer Ring\n",
       "   To:   Multivariate Polynomial Ring in h_1, u_1, x_1_1, x_1_2 over Integer Ring\n",
       "   Defn: h_1 |--> h_1\n",
       "         u_1 |--> u_1\n",
       "         x_1_1 |--> x_1_2,\n",
       " (1,\n",
       "  2): Ring morphism:\n",
       "   From: Multivariate Polynomial Ring in h_1, u_1, x_1_1 over Integer Ring\n",
       "   To:   Multivariate Polynomial Ring in h_1, u_1, x_1_1, x_1_2 over Integer Ring\n",
       "   Defn: h_1 |--> h_1\n",
       "         u_1 |--> u_1\n",
       "         x_1_1 |--> x_1_1}"
      ]
     },
     "execution_count": 5,
     "metadata": {},
     "output_type": "execute_result"
    }
   ],
   "source": [
    "I.hom_add_one_more_strand"
   ]
  },
  {
   "cell_type": "code",
   "execution_count": 6,
   "id": "b767d51e",
   "metadata": {},
   "outputs": [
    {
     "data": {
      "text/plain": [
       "[[1, 25, 18, 9, 34, 29, 14, 13, 30, 33, 10, 17, 26, 2, 5, 22, 21, 6],\n",
       " [7, 20, 23, 4, 3, 24, 19, 8, 36, 27, 16, 11, 32, 31, 12, 15, 28, 35]]"
      ]
     },
     "execution_count": 6,
     "metadata": {},
     "output_type": "execute_result"
    }
   ],
   "source": [
    "#to match LL in Mathematica\n",
    "\n",
    "thimbles = [item for row in I.intersections for item in row]\n",
    "branes = [item for row in I.branes for item in row]\n",
    "\n",
    "for b in copy(thimbles):\n",
    "    if b not in branes:\n",
    "        thimbles.remove(b)\n",
    "        \n",
    "[[thimbles.index(i)+1 for i in row] for row in I.branes]"
   ]
  },
  {
   "cell_type": "code",
   "execution_count": 7,
   "id": "4cda64c8",
   "metadata": {
    "scrolled": true
   },
   "outputs": [
    {
     "name": "stdout",
     "output_type": "stream",
     "text": [
      "h position:  0 u position:  1\n",
      "d0 squares to zero: False\n",
      "d0 squares to zero mod (u,h): True\n",
      "d0 squares to zero mod (u^2,h): False\n",
      "d0 squares to zero mod (u^3,h): False\n",
      "d0 squares to zero mod h: False\n",
      "d0 squares to zero mod h^2: False\n",
      "[{5: x_1_1*E_(W1, V1, W1, W1, W1, W1, W1)*s1*E_(V1, W1, W1, W1, W1, W1, W1)}, {1: x_1_1*E_(W1, W1, W1, V1, W1, W1, W1)*s4*s5*E_(W1, W1, W1, W1, W1, V1, W1)}, {16: x_1_1*E_(W1, W1, W1, V1, W1, W1, W1)*s4*E_(W1, W1, W1, W1, V1, W1, W1)}, {2: x_1_1*E_(W1, W1, W1, V1, W1, W1, W1)*s3*E_(W1, W1, V1, W1, W1, W1, W1)}, {6: x_1_1*E_(W1, V1, W1, W1, W1, W1, W1)*s2*E_(W1, W1, V1, W1, W1, W1, W1)}, {9: x_1_1*E_(W1, W1, V1, W1, W1, W1, W1)}, {13: x_1_1*E_(W1, V1, W1, W1, W1, W1, W1)}, {19: x_1_1*E_(W1, W1, W1, W1, V1, W1, W1)}, {21: x_1_1*E_(W1, W1, W1, V1, W1, W1, W1)*s4*E_(W1, W1, W1, W1, V1, W1, W1)}, {12: x_1_1*E_(W1, W1, W1, W1, W1, V1, W1)}, {17: x_1_1*E_(W1, W1, W1, V1, W1, W1, W1)*s4*s5*E_(W1, W1, W1, W1, W1, V1, W1)}, {7: x_1_1*E_(W1, V1, W1, W1, W1, W1, W1)}, {0: x_1_1*E_(W1, W1, V1, W1, W1, W1, W1)}, {3: x_1_1*E_(W1, W1, W1, V1, W1, W1, W1)}, {11: x_1_1*E_(V1, W1, W1, W1, W1, W1, W1)}, {14: x_1_1*E_(W1, V1, W1, W1, W1, W1, W1)*s1*E_(V1, W1, W1, W1, W1, W1, W1)}, {20: x_1_1*E_(W1, V1, W1, W1, W1, W1, W1)}, {22: x_1_1*E_(W1, V1, W1, W1, W1, W1, W1)}, {18: x_1_1*E_(W1, W1, W1, V1, W1, W1, W1)}, {4: x_1_1*E_(W1, W1, W1, V1, W1, W1, W1)*s3*E_(W1, W1, V1, W1, W1, W1, W1)}, {8: x_1_1*E_(W1, V1, W1, W1, W1, W1, W1)*s2*E_(W1, W1, V1, W1, W1, W1, W1)}, {10: x_1_1*E_(W1, W1, V1, W1, W1, W1, W1)}, {15: x_1_1*E_(W1, V1, W1, W1, W1, W1, W1)}]\n",
      "[3, 1, 12, 1, 3, 11, 10, 5, 15, 4, 12, 3, 2, 1, 0, 10, 7, 17, 12, 1, 3, 11, 10]\n",
      "[0, 1, 1, 1, 1, 2, 3, 6, 7, 9, 11, 12, 13, 14, 16, 18, 19, 22, 23]\n"
     ]
    }
   ],
   "source": [
    "from klrw.cython_exts.solver import Solver\n",
    "d0 = I.one_dimentional_differential_initial(0)\n",
    "\n",
    "S = Solver(I.klrw_algebra[1])\n",
    "S.set_d0(d0)\n",
    "S.check_d0()\n",
    "\n",
    "d1 = I.one_dimentional_differential_corrections(0,1)\n",
    "\n",
    "print(list(d1._data()))\n",
    "print(list(d1._indices()))\n",
    "print(list(d1._indptrs()))\n"
   ]
  },
  {
   "cell_type": "code",
   "execution_count": 8,
   "id": "6abff0ed",
   "metadata": {},
   "outputs": [
    {
     "name": "stdout",
     "output_type": "stream",
     "text": [
      "----------Making the initial approximation----------\n",
      "h position:  0 u position:  1\n",
      "d0 squares to zero: False\n",
      "----------Correcting order 1 in u for brane 0----------\n",
      "Making the system\n",
      "We have 24 rows 23 columns\n",
      "Number of terms to correct: 10\n",
      "Transfoming to a symmetric square system\n",
      "Solving the system\n",
      "Exit_Code: 0\n",
      "Found a solution!\n",
      "Correcting 19 matrix elements\n",
      "Correcting the differential\n",
      "d0 squares to zero: True\n",
      "----------Making the initial approximation----------\n",
      "h position:  0 u position:  1\n",
      "d0 squares to zero: False\n",
      "----------Correcting order 1 in u for brane 1----------\n",
      "Making the system\n",
      "We have 16 rows 19 columns\n",
      "Number of terms to correct: 8\n",
      "Zero column in the original matrix: 6\n",
      "Zero column in the original matrix: 7\n",
      "Transfoming to a symmetric square system\n",
      "Solving the system\n",
      "Exit_Code: 0\n",
      "Found a solution!\n",
      "Correcting 13 matrix elements\n",
      "Correcting the differential\n",
      "d0 squares to zero: False\n",
      "----------Correcting order 2 in u for brane 1----------\n",
      "Making the system\n",
      "We have 10 rows 9 columns\n",
      "Number of terms to correct: 3\n",
      "Transfoming to a symmetric square system\n",
      "Solving the system\n",
      "Exit_Code: 0\n",
      "Found a solution!\n",
      "Correcting 6 matrix elements\n",
      "Correcting the differential\n",
      "d0 squares to zero: True\n",
      "h position:  0 u position:  1\n",
      "d0 squares to zero: False\n",
      "d0 squares to zero mod (u,h): True\n",
      "d0 squares to zero mod (u^2,h): True\n",
      "d0 squares to zero mod (u^3,h): True\n",
      "d0 squares to zero mod h: True\n",
      "d0 squares to zero mod h^2: False\n",
      "Homological degrees: 10\n",
      "0  :  68\n",
      "-1  :  44\n",
      "1  :  76\n",
      "-2  :  20\n",
      "2  :  61\n",
      "3  :  34\n",
      "-3  :  6\n",
      "-4  :  1\n",
      "4  :  12\n",
      "5  :  2\n",
      "-4 :: 6\n",
      "-3 :: 170\n",
      "-2 :: 1233\n",
      "-1 :: 4029\n",
      "0 :: 6547\n",
      "1 :: 5538\n",
      "2 :: 2386\n",
      "3 :: 471\n",
      "4 :: 27\n",
      "----------Correcting order 1 in h for the product of the first 2 branes----------\n",
      "Making the system\n",
      "We have 53602 rows 20407 columns\n",
      "Number of terms to correct: 606\n",
      "Zero column in the original matrix: 7444\n",
      "Zero column in the original matrix: 13680\n",
      "Zero column in the original matrix: 13681\n",
      "Zero column in the original matrix: 18058\n",
      "Zero column in the original matrix: 18060\n",
      "Zero column in the original matrix: 18071\n",
      "Zero column in the original matrix: 18072\n",
      "Zero column in the original matrix: 18101\n",
      "Zero column in the original matrix: 18102\n",
      "Transfoming to a symmetric square system\n",
      "Solving the system\n",
      "Exit_Code: 0\n"
     ]
    },
    {
     "ename": "AssertionError",
     "evalue": "Solution is not integral",
     "output_type": "error",
     "traceback": [
      "\u001b[0;31m---------------------------------------------------------------------------\u001b[0m",
      "\u001b[0;31mAssertionError\u001b[0m                            Traceback (most recent call last)",
      "Cell \u001b[0;32mIn [8], line 1\u001b[0m\n\u001b[0;32m----> 1\u001b[0m \u001b[43mI\u001b[49m\u001b[38;5;241;43m.\u001b[39;49m\u001b[43mmake_differential\u001b[49m\u001b[43m(\u001b[49m\u001b[43mmax_number_of_dots\u001b[49m\u001b[38;5;241;43m=\u001b[39;49m\u001b[43mInteger\u001b[49m\u001b[43m(\u001b[49m\u001b[38;5;241;43m1\u001b[39;49m\u001b[43m)\u001b[49m\u001b[43m)\u001b[49m\n\u001b[1;32m      2\u001b[0m dif2d \u001b[38;5;241m=\u001b[39m I\u001b[38;5;241m.\u001b[39mdifferential\u001b[38;5;241m.\u001b[39mas_an_array()\n\u001b[1;32m      3\u001b[0m dif2d[dif2d \u001b[38;5;241m==\u001b[39m \u001b[38;5;28;01mNone\u001b[39;00m] \u001b[38;5;241m=\u001b[39m Integer(\u001b[38;5;241m0\u001b[39m)\n",
      "File \u001b[0;32m~/SageMath/klrw_project/klrw/combinatorial_ebranes.py:1246\u001b[0m, in \u001b[0;36mCombinatorialEBrane.make_differential\u001b[0;34m(self, max_number_of_dots)\u001b[0m\n\u001b[1;32m   1244\u001b[0m \u001b[38;5;66;03m# multiplier = (h * u) ** order\u001b[39;00m\n\u001b[1;32m   1245\u001b[0m multiplier \u001b[38;5;241m=\u001b[39m h\u001b[38;5;241m*\u001b[39m\u001b[38;5;241m*\u001b[39morder\n\u001b[0;32m-> 1246\u001b[0m \u001b[43mS\u001b[49m\u001b[38;5;241;43m.\u001b[39;49m\u001b[43mmake_corrections\u001b[49m\u001b[43m(\u001b[49m\n\u001b[1;32m   1247\u001b[0m \u001b[43m    \u001b[49m\u001b[43mmultiplier\u001b[49m\u001b[38;5;241;43m=\u001b[39;49m\u001b[43mmultiplier\u001b[49m\u001b[43m,\u001b[49m\n\u001b[1;32m   1248\u001b[0m \u001b[43m    \u001b[49m\u001b[43morder\u001b[49m\u001b[38;5;241;43m=\u001b[39;49m\u001b[43morder\u001b[49m\u001b[43m,\u001b[49m\n\u001b[1;32m   1249\u001b[0m \u001b[43m    \u001b[49m\u001b[43mgraded_type\u001b[49m\u001b[38;5;241;43m=\u001b[39;49m\u001b[38;5;124;43m\"\u001b[39;49m\u001b[38;5;124;43mh^order\u001b[39;49m\u001b[38;5;124;43m\"\u001b[39;49m\u001b[43m,\u001b[49m\n\u001b[1;32m   1250\u001b[0m \u001b[43m\u001b[49m\u001b[43m)\u001b[49m\n\u001b[1;32m   1251\u001b[0m \u001b[38;5;28;01mif\u001b[39;00m S\u001b[38;5;241m.\u001b[39md0_squares_to_zero():\n\u001b[1;32m   1252\u001b[0m     \u001b[38;5;28;01mbreak\u001b[39;00m\n",
      "File \u001b[0;32m~/SageMath/klrw_project/klrw/cython_exts/solver.pyx:527\u001b[0m, in \u001b[0;36mklrw.cython_exts.solver.Solver.make_corrections\u001b[0;34m()\u001b[0m\n\u001b[1;32m    525\u001b[0m         print(\"Zero column in the square matrix:\", i)\n\u001b[1;32m    526\u001b[0m \n\u001b[0;32m--> 527\u001b[0m x = self.solve_system_for_differential(M, bb)\n\u001b[1;32m    528\u001b[0m del M, bb\n\u001b[1;32m    529\u001b[0m \n",
      "File \u001b[0;32m~/SageMath/klrw_project/klrw/cython_exts/solver.pyx:350\u001b[0m, in \u001b[0;36mklrw.cython_exts.solver.Solver.solve_system_for_differential\u001b[0;34m()\u001b[0m\n\u001b[1;32m    348\u001b[0m x_int = np.rint(x)  # .astype(dtype=np.dtype(\"intc\"))\n\u001b[1;32m    349\u001b[0m \n\u001b[0;32m--> 350\u001b[0m assert np.allclose(M @ x_int, y), \"Solution is not integral\"\n\u001b[1;32m    351\u001b[0m return x_int\n\u001b[1;32m    352\u001b[0m \n",
      "\u001b[0;31mAssertionError\u001b[0m: Solution is not integral"
     ]
    }
   ],
   "source": [
    "I.make_differential(max_number_of_dots=1)\n",
    "dif2d = I.differential.as_an_array()\n",
    "dif2d[dif2d == None] = 0"
   ]
  },
  {
   "cell_type": "code",
   "execution_count": null,
   "id": "e2520677",
   "metadata": {
    "scrolled": false
   },
   "outputs": [
    {
     "ename": "",
     "evalue": "",
     "output_type": "error",
     "traceback": [
      "\u001b[1;31mFailed to start the Kernel. \n",
      "\u001b[1;31mView Jupyter <a href='command:jupyter.viewOutput'>log</a> for further details."
     ]
    }
   ],
   "source": []
  },
  {
   "cell_type": "code",
   "execution_count": null,
   "id": "85afdd73",
   "metadata": {
    "scrolled": true
   },
   "outputs": [
    {
     "ename": "",
     "evalue": "",
     "output_type": "error",
     "traceback": [
      "\u001b[1;31mFailed to start the Kernel. \n",
      "\u001b[1;31mView Jupyter <a href='command:jupyter.viewOutput'>log</a> for further details."
     ]
    }
   ],
   "source": [
    "I.thimbles"
   ]
  },
  {
   "cell_type": "code",
   "execution_count": null,
   "id": "58ee30c8",
   "metadata": {},
   "outputs": [
    {
     "ename": "",
     "evalue": "",
     "output_type": "error",
     "traceback": [
      "\u001b[1;31mFailed to start the Kernel. \n",
      "\u001b[1;31mView Jupyter <a href='command:jupyter.viewOutput'>log</a> for further details."
     ]
    }
   ],
   "source": [
    "I.find_cohomology(ZZ)"
   ]
  },
  {
   "cell_type": "code",
   "execution_count": null,
   "id": "25a1d5f7",
   "metadata": {},
   "outputs": [
    {
     "ename": "",
     "evalue": "",
     "output_type": "error",
     "traceback": [
      "\u001b[1;31mFailed to start the Kernel. \n",
      "\u001b[1;31mView Jupyter <a href='command:jupyter.viewOutput'>log</a> for further details."
     ]
    }
   ],
   "source": []
  }
 ],
 "metadata": {
  "kernelspec": {
   "display_name": "SageMath 10.0",
   "language": "sage",
   "name": "SageMath-10.0"
  },
  "language_info": {
   "codemirror_mode": {
    "name": "ipython",
    "version": 3
   },
   "file_extension": ".py",
   "mimetype": "text/x-python",
   "name": "python",
   "nbconvert_exporter": "python",
   "pygments_lexer": "ipython3",
   "version": "3.11.1"
  }
 },
 "nbformat": 4,
 "nbformat_minor": 5
}
