{
 "cells": [
  {
   "cell_type": "code",
   "execution_count": null,
   "id": "68556fea",
   "metadata": {
    "vscode": {
     "languageId": "python"
    }
   },
   "outputs": [],
   "source": [
    "%%capture\n",
    "%run setup.py build_ext --inplace"
   ]
  },
  {
   "cell_type": "code",
   "execution_count": null,
   "id": "3f14a9e6",
   "metadata": {
    "tags": [
     "parameters"
    ],
    "vscode": {
     "languageId": "python"
    }
   },
   "outputs": [],
   "source": [
    "n, k = 6, 3\n",
    "braid = [-4,3,-2,1,-3,-3,-2,-4]\n",
    "link_name=\"8_19\"\n",
    "folder_path = \"./pickles/\""
   ]
  },
  {
   "cell_type": "code",
   "execution_count": null,
   "id": "f4f80635",
   "metadata": {
    "vscode": {
     "languageId": "python"
    }
   },
   "outputs": [],
   "source": [
    "from klrw.combinatorial_ebranes import CombinatorialEBrane\n",
    "\n",
    "E = CombinatorialEBrane(n, k)\n",
    "E.apply_braid(braid)"
   ]
  },
  {
   "cell_type": "code",
   "execution_count": null,
   "id": "6abff0ed",
   "metadata": {
    "vscode": {
     "languageId": "python"
    }
   },
   "outputs": [],
   "source": [
    "%%time\n",
    "E.link_homology(\n",
    "    ZZ,\n",
    "    pickle=\"save\",\n",
    "    link_name=link_name,\n",
    "    folder_path=folder_path,\n",
    "    parallel_processes=8,\n",
    ")"
   ]
  },
  {
   "cell_type": "code",
   "execution_count": null,
   "id": "507e7c24",
   "metadata": {
    "vscode": {
     "languageId": "python"
    }
   },
   "outputs": [],
   "source": [
    "hom = E.link_homology(\n",
    "    ZZ,\n",
    "    pickle=\"load\",\n",
    "    link_name=link_name,\n",
    "    folder_path=folder_path,\n",
    "    dualize_complex=True,\n",
    ")"
   ]
  }
 ],
 "metadata": {
  "kernelspec": {
   "display_name": "SageMath 10.0",
   "language": "sage",
   "name": "SageMath-10.0"
  },
  "language_info": {
   "codemirror_mode": {
    "name": "ipython",
    "version": 3
   },
   "file_extension": ".py",
   "mimetype": "text/x-python",
   "name": "sage",
   "nbconvert_exporter": "python",
   "pygments_lexer": "ipython3",
   "version": "3.11.1"
  }
 },
 "nbformat": 4,
 "nbformat_minor": 5
}
