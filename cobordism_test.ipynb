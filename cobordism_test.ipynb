{
 "cells": [
  {
   "cell_type": "code",
   "execution_count": 12,
   "id": "d28613c5",
   "metadata": {},
   "outputs": [],
   "source": [
    "%%capture\n",
    "%run setup.py build_ext --inplace"
   ]
  },
  {
   "cell_type": "code",
   "execution_count": 18,
   "id": "56d5dc9a",
   "metadata": {},
   "outputs": [],
   "source": [
    "import sage.all\n",
    "from klrw.perfect_complex import (KLRWHomOfPerfectComplexes, )\n",
    "from klrw.combinatorial_ebranes import CombinatorialEBrane\n",
    "folder_path = \"./pickles/\""
   ]
  },
  {
   "cell_type": "markdown",
   "id": "26d014b5",
   "metadata": {},
   "source": [
    "## Maps from the unlink to itself"
   ]
  },
  {
   "cell_type": "code",
   "execution_count": 15,
   "id": "082c246a",
   "metadata": {},
   "outputs": [],
   "source": [
    "n, k = 4, 2\n",
    "link_name = \"0_1^2\"\n",
    "\n",
    "E = CombinatorialEBrane(n, k)\n",
    "# no braid to apply"
   ]
  },
  {
   "cell_type": "code",
   "execution_count": 21,
   "id": "6555ac79",
   "metadata": {},
   "outputs": [
    {
     "name": "stdout",
     "output_type": "stream",
     "text": [
      "====Making the complex for 0 E-brane====\n",
      "Differential closes!\n",
      "====Making the complex for 1 E-brane====\n",
      "Differential closes!\n",
      "====Making the complex for 0, 1 E-branes====\n",
      "Differential closes!\n"
     ]
    }
   ],
   "source": [
    "E_complex = E.complex(\n",
    "    *range(k),\n",
    "    pickle=\"save\",\n",
    "    link_name=link_name,\n",
    "    folder_path=folder_path,\n",
    "    parallel_processes=8,\n",
    ")"
   ]
  },
  {
   "cell_type": "code",
   "execution_count": 27,
   "id": "1729d904",
   "metadata": {},
   "outputs": [],
   "source": [
    "rhom = KLRWHomOfPerfectComplexes(E_complex, E_complex)"
   ]
  },
  {
   "cell_type": "code",
   "execution_count": 28,
   "id": "7fe4bd2c",
   "metadata": {},
   "outputs": [],
   "source": [
    "# The space has maps, see e.g.\n",
    "#rhom[0].basis().values()"
   ]
  },
  {
   "cell_type": "code",
   "execution_count": 29,
   "id": "1e2fcb58",
   "metadata": {},
   "outputs": [
    {
     "ename": "AttributeError",
     "evalue": "'FGP_Module_class_with_category' object has no attribute 'basis'",
     "output_type": "error",
     "traceback": [
      "\u001b[0;31m---------------------------------------------------------------------------\u001b[0m",
      "\u001b[0;31mKeyError\u001b[0m                                  Traceback (most recent call last)",
      "File \u001b[0;32m~/.conda/envs/sagemath/lib/python3.11/site-packages/sage/structure/category_object.pyx:855\u001b[0m, in \u001b[0;36msage.structure.category_object.CategoryObject.getattr_from_category (build/cythonized/sage/structure/category_object.c:10061)\u001b[0;34m()\u001b[0m\n\u001b[1;32m    854\u001b[0m try:\n\u001b[0;32m--> 855\u001b[0m     return self._cached_methods[name]\n\u001b[1;32m    856\u001b[0m except KeyError:\n",
      "\u001b[0;31mKeyError\u001b[0m: 'basis'",
      "\nDuring handling of the above exception, another exception occurred:\n",
      "\u001b[0;31mAttributeError\u001b[0m                            Traceback (most recent call last)",
      "Cell \u001b[0;32mIn[29], line 1\u001b[0m\n\u001b[0;32m----> 1\u001b[0m \u001b[43mrhom\u001b[49m\u001b[38;5;241;43m.\u001b[39;49m\u001b[43mext\u001b[49m\u001b[43m(\u001b[49m\u001b[43mInteger\u001b[49m\u001b[43m(\u001b[49m\u001b[38;5;241;43m0\u001b[39;49m\u001b[43m)\u001b[49m\u001b[43m)\u001b[49m\n",
      "File \u001b[0;32m~/klrw_project/klrw/perfect_complex.py:784\u001b[0m, in \u001b[0;36mKLRWHomOfPerfectComplexes.ext\u001b[0;34m(self, shift)\u001b[0m\n\u001b[1;32m    780\u001b[0m \u001b[38;5;28;01mdef\u001b[39;00m \u001b[38;5;21mext\u001b[39m(\u001b[38;5;28mself\u001b[39m, shift):\n\u001b[1;32m    781\u001b[0m \u001b[38;5;250m    \u001b[39m\u001b[38;5;124;03m\"\"\"\u001b[39;00m\n\u001b[1;32m    782\u001b[0m \u001b[38;5;124;03m    Returns Ext^degree\u001b[39;00m\n\u001b[1;32m    783\u001b[0m \u001b[38;5;124;03m    \"\"\"\u001b[39;00m\n\u001b[0;32m--> 784\u001b[0m     ext \u001b[38;5;241m=\u001b[39m \u001b[43mKLRWExtOfGradedProjectives\u001b[49m\u001b[43m(\u001b[49m\u001b[43mambient\u001b[49m\u001b[38;5;241;43m=\u001b[39;49m\u001b[38;5;28;43mself\u001b[39;49m\u001b[43m,\u001b[49m\u001b[43m \u001b[49m\u001b[43mshift\u001b[49m\u001b[38;5;241;43m=\u001b[39;49m\u001b[43mshift\u001b[49m\u001b[43m)\u001b[49m\n\u001b[1;32m    786\u001b[0m     \u001b[38;5;28;01mreturn\u001b[39;00m ext\n",
      "File \u001b[0;32m~/klrw_project/klrw/perfect_complex.py:591\u001b[0m, in \u001b[0;36mKLRWExtOfGradedProjectives.__init__\u001b[0;34m(self, ambient, shift)\u001b[0m\n\u001b[1;32m    588\u001b[0m image \u001b[38;5;241m=\u001b[39m previous_differential_matrix\u001b[38;5;241m.\u001b[39mcolumn_module()\n\u001b[1;32m    589\u001b[0m \u001b[38;5;28mself\u001b[39m\u001b[38;5;241m.\u001b[39m_homology_ \u001b[38;5;241m=\u001b[39m kernel\u001b[38;5;241m.\u001b[39mquotient(image)\n\u001b[1;32m    590\u001b[0m \u001b[38;5;28mself\u001b[39m\u001b[38;5;241m.\u001b[39m_basis_vectors_ \u001b[38;5;241m=\u001b[39m \u001b[38;5;28mtuple\u001b[39m(\n\u001b[0;32m--> 591\u001b[0m     \u001b[38;5;28mself\u001b[39m\u001b[38;5;241m.\u001b[39m_homology_\u001b[38;5;241m.\u001b[39mlift(b) \u001b[38;5;28;01mfor\u001b[39;00m b \u001b[38;5;129;01min\u001b[39;00m \u001b[38;5;28;43mself\u001b[39;49m\u001b[38;5;241;43m.\u001b[39;49m\u001b[43m_homology_\u001b[49m\u001b[38;5;241;43m.\u001b[39;49m\u001b[43mbasis\u001b[49m()\n\u001b[1;32m    592\u001b[0m )\n\u001b[1;32m    593\u001b[0m \u001b[38;5;28mself\u001b[39m\u001b[38;5;241m.\u001b[39m_relations_vectors_ \u001b[38;5;241m=\u001b[39m \u001b[38;5;28mtuple\u001b[39m(b \u001b[38;5;28;01mfor\u001b[39;00m b \u001b[38;5;129;01min\u001b[39;00m image\u001b[38;5;241m.\u001b[39mbasis())\n",
      "File \u001b[0;32m~/.conda/envs/sagemath/lib/python3.11/site-packages/sage/structure/category_object.pyx:849\u001b[0m, in \u001b[0;36msage.structure.category_object.CategoryObject.__getattr__ (build/cythonized/sage/structure/category_object.c:9981)\u001b[0;34m()\u001b[0m\n\u001b[1;32m    847\u001b[0m         AttributeError: 'PrimeNumbers_with_category' object has no attribute 'sadfasdf'...\n\u001b[1;32m    848\u001b[0m     \"\"\"\n\u001b[0;32m--> 849\u001b[0m     return self.getattr_from_category(name)\n\u001b[1;32m    850\u001b[0m \n\u001b[1;32m    851\u001b[0m cdef getattr_from_category(self, name) noexcept:\n",
      "File \u001b[0;32m~/.conda/envs/sagemath/lib/python3.11/site-packages/sage/structure/category_object.pyx:864\u001b[0m, in \u001b[0;36msage.structure.category_object.CategoryObject.getattr_from_category (build/cythonized/sage/structure/category_object.c:10145)\u001b[0;34m()\u001b[0m\n\u001b[1;32m    862\u001b[0m     cls = self._category.parent_class\n\u001b[1;32m    863\u001b[0m \n\u001b[0;32m--> 864\u001b[0m attr = getattr_from_other_class(self, cls, name)\n\u001b[1;32m    865\u001b[0m self._cached_methods[name] = attr\n\u001b[1;32m    866\u001b[0m return attr\n",
      "File \u001b[0;32m~/.conda/envs/sagemath/lib/python3.11/site-packages/sage/cpython/getattr.pyx:357\u001b[0m, in \u001b[0;36msage.cpython.getattr.getattr_from_other_class (build/cythonized/sage/cpython/getattr.c:4394)\u001b[0;34m()\u001b[0m\n\u001b[1;32m    355\u001b[0m     dummy_error_message.cls = type(self)\n\u001b[1;32m    356\u001b[0m     dummy_error_message.name = name\n\u001b[0;32m--> 357\u001b[0m     raise AttributeError(dummy_error_message)\n\u001b[1;32m    358\u001b[0m cdef PyObject* attr = instance_getattr(cls, name)\n\u001b[1;32m    359\u001b[0m if attr is NULL:\n",
      "\u001b[0;31mAttributeError\u001b[0m: 'FGP_Module_class_with_category' object has no attribute 'basis'"
     ]
    }
   ],
   "source": [
    "rhom.ext(0)"
   ]
  },
  {
   "cell_type": "markdown",
   "id": "a33bdd84",
   "metadata": {},
   "source": [
    "## Cobordism(s) from the unknot to the unlink"
   ]
  },
  {
   "cell_type": "code",
   "execution_count": 30,
   "id": "06612721",
   "metadata": {},
   "outputs": [],
   "source": [
    "from klrw.combinatorial_ebranes import CombinatorialEBrane\n",
    "\n",
    "E_unlink = CombinatorialEBrane(n, k)\n",
    "# no braid to apply\n",
    "\n",
    "E_unknot = CombinatorialEBrane(n, k)\n",
    "E_unknot.apply_braid([2])"
   ]
  },
  {
   "cell_type": "code",
   "execution_count": 31,
   "id": "88d1f613",
   "metadata": {},
   "outputs": [
    {
     "data": {
      "text/plain": [
       "[[0, 1, 2, 3], [4, 5, 6, 7]]"
      ]
     },
     "execution_count": 31,
     "metadata": {},
     "output_type": "execute_result"
    }
   ],
   "source": [
    "E_unlink.branes"
   ]
  },
  {
   "cell_type": "code",
   "execution_count": 32,
   "id": "29129326",
   "metadata": {},
   "outputs": [
    {
     "data": {
      "text/plain": [
       "[[0, 1, 9, 2], [10, 5, 6, 4]]"
      ]
     },
     "execution_count": 32,
     "metadata": {},
     "output_type": "execute_result"
    }
   ],
   "source": [
    "E_unknot.branes"
   ]
  },
  {
   "cell_type": "code",
   "execution_count": 33,
   "id": "48b87711",
   "metadata": {},
   "outputs": [
    {
     "name": "stdout",
     "output_type": "stream",
     "text": [
      "====Making the complex for 0 E-brane====\n",
      "Differential closes!\n",
      "====Making the complex for 1 E-brane====\n",
      "Differential closes!\n",
      "====Making the complex for 0, 1 E-branes====\n",
      "Differential closes!\n",
      "====Making the complex for 0 E-brane====\n",
      "Differential closes!\n",
      "====Making the complex for 1 E-brane====\n",
      "Differential closes!\n",
      "====Making the complex for 0, 1 E-branes====\n",
      "Correcting degree d_{V1} + 2*d_{V1--W1}\n",
      "Start: Finding possible corrections for C_2 -> C_1\n",
      "End: Finding possible corrections for C_2 -> C_1\n",
      "Start: Finding possible corrections for C_-1 -> C_-2\n",
      "End: Finding possible corrections for C_-1 -> C_-2\n",
      "Making the left hand side for the corrections C_-1 -> C_-3\n",
      "Making the left hand side for the corrections C_0 -> C_-2\n",
      "Making the left hand side for the corrections C_1 -> C_-1\n",
      "Making the left hand side for the corrections C_2 -> C_0\n",
      "Making the right hand side for the corrections C_-1 -> C_-3\n",
      "Making the right hand side for the corrections C_0 -> C_-2\n",
      "Making the right hand side for the corrections C_1 -> C_-1\n",
      "Making the right hand side for the corrections C_2 -> C_0\n",
      "Set parameter WLSAccessID\n",
      "Set parameter WLSSecret\n",
      "Set parameter LicenseID to value 2523342\n",
      "Academic license 2523342 - for non-commercial use only - registered to ma___@berkeley.edu\n",
      "Set parameter Method to value 0\n",
      "Gurobi Optimizer version 11.0.2 build v11.0.2rc0 (linux64 - \"Scientific Linux 7.9 (Nitrogen)\")\n",
      "\n",
      "CPU model: Intel(R) Xeon Phi(TM) CPU 7210 @ 1.30GHz, instruction set [SSE2|AVX|AVX2|AVX512]\n",
      "Thread count: 64 physical cores, 256 logical processors, using up to 32 threads\n",
      "\n",
      "Academic license 2523342 - for non-commercial use only - registered to ma___@berkeley.edu\n",
      "Optimize a model with 8 rows, 4 columns and 10 nonzeros\n",
      "Model fingerprint: 0xcb8eee94\n",
      "Coefficient statistics:\n",
      "  Matrix range     [1e+00, 1e+00]\n",
      "  Objective range  [0e+00, 0e+00]\n",
      "  Bounds range     [0e+00, 0e+00]\n",
      "  RHS range        [1e+00, 1e+00]\n",
      "Presolve removed 8 rows and 4 columns\n",
      "Presolve time: 0.14s\n",
      "Presolve: All rows and columns removed\n",
      "Iteration    Objective       Primal Inf.    Dual Inf.      Time\n",
      "       0    0.0000000e+00   0.000000e+00   0.000000e+00      0s\n",
      "\n",
      "Solved in 0 iterations and 0.17 seconds (0.00 work units)\n",
      "Optimal objective  0.000000000e+00\n",
      "Differential closes!\n"
     ]
    }
   ],
   "source": [
    "E_unlink_complex = E_unlink.complex(\n",
    "    *range(k),\n",
    "    pickle=\"save\",\n",
    "    link_name=link_name,\n",
    "    folder_path=folder_path,\n",
    "    parallel_processes=8,\n",
    ")\n",
    "\n",
    "E_unknot_complex = E_unknot.complex(\n",
    "    *range(k),\n",
    "    pickle=\"save\",\n",
    "    link_name=link_name,\n",
    "    folder_path=folder_path,\n",
    "    parallel_processes=8,\n",
    ")"
   ]
  },
  {
   "cell_type": "code",
   "execution_count": 34,
   "id": "62115551",
   "metadata": {},
   "outputs": [],
   "source": [
    "rhom = KLRWHomOfPerfectComplexes(E_unknot_complex, E_unlink_complex)"
   ]
  },
  {
   "cell_type": "code",
   "execution_count": 42,
   "id": "2fb267a3",
   "metadata": {},
   "outputs": [
    {
     "data": {
      "text/plain": [
       "[2 -> -2:\n",
       " [E_(V1, V1, W1, W1, W1, W1) + E_(V1, W1, V1, W1, W1, W1) + E_(V1, W1, W1, V1, W1, W1) + E_(V1, W1, W1, W1, V1, W1) + E_(V1, W1, W1, W1, W1, V1) + E_(W1, V1, V1, W1, W1, W1) + E_(W1, V1, W1, V1, W1, W1) + E_(W1, V1, W1, W1, V1, W1) + E_(W1, V1, W1, W1, W1, V1) + E_(W1, W1, V1, V1, W1, W1) + E_(W1, W1, V1, W1, V1, W1) + E_(W1, W1, V1, W1, W1, V1) + E_(W1, W1, W1, V1, V1, W1) + E_(W1, W1, W1, V1, W1, V1) + E_(W1, W1, W1, W1, V1, V1)]\n",
       " ]"
      ]
     },
     "execution_count": 42,
     "metadata": {},
     "output_type": "execute_result"
    }
   ],
   "source": [
    "# There are maps from shift = -4 to shift = 1, mainly id\n",
    "rhom[-4].basis().values()"
   ]
  },
  {
   "cell_type": "code",
   "execution_count": 25,
   "id": "07445d3f",
   "metadata": {},
   "outputs": [
    {
     "name": "stdout",
     "output_type": "stream",
     "text": [
      "The identity of KLRW is used' often this is done deep in Sage's code.\n",
      "It's faster to replace this by a function that does not use it.\n"
     ]
    },
    {
     "data": {
      "text/plain": [
       "[3 -> -2:\n",
       " [E_(V1, V1, W1, W1, W1, W1) + E_(V1, W1, V1, W1, W1, W1) + E_(V1, W1, W1, V1, W1, W1) + E_(V1, W1, W1, W1, V1, W1) + E_(V1, W1, W1, W1, W1, V1) + E_(W1, V1, V1, W1, W1, W1) + E_(W1, V1, W1, V1, W1, W1) + E_(W1, V1, W1, W1, V1, W1) + E_(W1, V1, W1, W1, W1, V1) + E_(W1, W1, V1, V1, W1, W1) + E_(W1, W1, V1, W1, V1, W1) + E_(W1, W1, V1, W1, W1, V1) + E_(W1, W1, W1, V1, V1, W1) + E_(W1, W1, W1, V1, W1, V1) + E_(W1, W1, W1, W1, V1, V1)]\n",
       " ]"
      ]
     },
     "execution_count": 25,
     "metadata": {},
     "output_type": "execute_result"
    }
   ],
   "source": [
    "rhom.ext(0)"
   ]
  },
  {
   "cell_type": "code",
   "execution_count": null,
   "id": "e3156e2c",
   "metadata": {},
   "outputs": [],
   "source": []
  }
 ],
 "metadata": {
  "kernelspec": {
   "display_name": "SageMath 10.3 (.conda/envs/)",
   "language": "sage",
   "name": "sagemath-10.3-symlink"
  },
  "language_info": {
   "codemirror_mode": {
    "name": "ipython",
    "version": 3
   },
   "file_extension": ".py",
   "mimetype": "text/x-python",
   "name": "python",
   "nbconvert_exporter": "python",
   "pygments_lexer": "ipython3",
   "version": "3.11.9"
  }
 },
 "nbformat": 4,
 "nbformat_minor": 5
}
