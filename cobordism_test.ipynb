{
 "cells": [
  {
   "cell_type": "code",
   "execution_count": null,
   "id": "d28613c5",
   "metadata": {},
   "outputs": [],
   "source": [
    "%%capture\n",
    "%run setup.py build_ext --inplace"
   ]
  },
  {
   "cell_type": "code",
   "execution_count": null,
   "id": "56d5dc9a",
   "metadata": {},
   "outputs": [],
   "source": [
    "import sys\n",
    "from itertools import product, starmap, tee\n",
    "from pprint import pprint\n",
    "from pickle import dump, load\n",
    "\n",
    "import sage.all\n",
    "from klrw.perfect_complex import (KLRWHomOfPerfectComplexes, )\n",
    "from klrw.combinatorial_ebranes import CombinatorialEBrane\n",
    "folder_path = \"./pickles/\""
   ]
  },
  {
   "cell_type": "code",
   "execution_count": null,
   "id": "3199bd9e",
   "metadata": {},
   "outputs": [],
   "source": [
    "def get_base(E):\n",
    "    cls, args, kwrds = E.klrw_algebra[k]._reduction\n",
    "    R = QQ\n",
    "    kwrds[\"base_R\"] = R\n",
    "    kwrds['vertex_scaling'] = False\n",
    "    kwrds['edge_scaling'] = False\n",
    "    kwrds[\"default_vertex_parameter\"] = R.one()\n",
    "    kwrds[\"default_edge_parameter\"] = R.one()\n",
    "    return cls(*args, **kwrds)"
   ]
  },
  {
   "cell_type": "code",
   "execution_count": null,
   "id": "71897393",
   "metadata": {},
   "outputs": [],
   "source": [
    "unlink_name = \"0_1^2\"\n",
    "unknot_name = \"0_1\""
   ]
  },
  {
   "cell_type": "markdown",
   "id": "26d014b5",
   "metadata": {},
   "source": [
    "## Maps from the unlink to itself"
   ]
  },
  {
   "cell_type": "code",
   "execution_count": null,
   "id": "082c246a",
   "metadata": {},
   "outputs": [],
   "source": [
    "n, k = 4, 2\n",
    "\n",
    "E = CombinatorialEBrane(n, k)\n",
    "# no braid to apply"
   ]
  },
  {
   "cell_type": "code",
   "execution_count": null,
   "id": "6555ac79",
   "metadata": {},
   "outputs": [],
   "source": [
    "E_complex = E.complex(\n",
    "    *range(k),\n",
    "    pickle=\"save\",\n",
    "    link_name=unlink_name,\n",
    "    folder_path=folder_path,\n",
    ").base_change(get_base(E))"
   ]
  },
  {
   "cell_type": "markdown",
   "id": "cb831561",
   "metadata": {},
   "source": [
    "**Collect the dimensions of the ext spaces into a dict**"
   ]
  },
  {
   "cell_type": "code",
   "execution_count": null,
   "id": "1e2fcb58",
   "metadata": {},
   "outputs": [],
   "source": [
    "%%time\n",
    "MAX_DEG = 30\n",
    "\n",
    "# TQDM seems to not work with sage noteboks :(\n",
    "#for (i, shift), ext in tqdm(zip(degrees, exts):\n",
    "\n",
    "exts = {}\n",
    "ext_dims = {}\n",
    "total = (2 * MAX_DEG)**2\n",
    "progress = 0\n",
    "for shift, i in product(range(-MAX_DEG, MAX_DEG), range(-MAX_DEG, MAX_DEG)):\n",
    "    rhom = KLRWHomOfPerfectComplexes(E_complex, E_complex[shift,i])\n",
    "    ext = rhom.ext(0)\n",
    "    dim = ext.dimension()\n",
    "    if dim:\n",
    "        exts[shift, i] = ext\n",
    "        ext_dims[shift, i] = dim\n",
    "    \n",
    "    progress += 1\n",
    "    sys.stdout.write(f\"\\rCompleted {progress}/{total} exts, now computing ({shift},{i})\")"
   ]
  },
  {
   "cell_type": "code",
   "execution_count": null,
   "id": "61c91b35",
   "metadata": {},
   "outputs": [],
   "source": [
    "pprint(ext_dims)"
   ]
  },
  {
   "cell_type": "code",
   "execution_count": null,
   "id": "e296cc11",
   "metadata": {},
   "outputs": [],
   "source": [
    "print(len(exts))"
   ]
  },
  {
   "cell_type": "code",
   "execution_count": null,
   "id": "ad4df329",
   "metadata": {},
   "outputs": [],
   "source": [
    "with open(folder_path + link_name + \"_exts.pickle\", \"wb\") as f:\n",
    "    dump(exts, file=f)"
   ]
  },
  {
   "cell_type": "markdown",
   "id": "a33bdd84",
   "metadata": {},
   "source": [
    "## Cobordism(s) from the unknot to the unlink"
   ]
  },
  {
   "cell_type": "code",
   "execution_count": null,
   "id": "06612721",
   "metadata": {},
   "outputs": [],
   "source": [
    "n, k = 4, 2\n",
    "\n",
    "E_unlink = CombinatorialEBrane(n, k)\n",
    "# no braid to apply\n",
    "\n",
    "E_unknot = CombinatorialEBrane(n, k)\n",
    "E_unknot.apply_braid([2])"
   ]
  },
  {
   "cell_type": "code",
   "execution_count": null,
   "id": "88d1f613",
   "metadata": {},
   "outputs": [],
   "source": [
    "E_unlink.branes"
   ]
  },
  {
   "cell_type": "code",
   "execution_count": null,
   "id": "29129326",
   "metadata": {},
   "outputs": [],
   "source": [
    "E_unknot.branes"
   ]
  },
  {
   "cell_type": "code",
   "execution_count": null,
   "id": "48b87711",
   "metadata": {},
   "outputs": [],
   "source": [
    "E_unlink_complex = E_unlink.complex(\n",
    "    *range(k),\n",
    "    #pickle=\"save\",\n",
    "    #link_name=unlink_name,\n",
    "    #folder_path=folder_path,\n",
    ").base_change(get_base(E_unlink))\n",
    "\n",
    "E_unknot_complex = E_unknot.complex(\n",
    "    *range(k),\n",
    "    #pickle=\"save\",\n",
    "    #link_name=unknot_name,\n",
    "    #folder_path=folder_path,\n",
    ").base_change(get_base(E_unknot))"
   ]
  },
  {
   "cell_type": "code",
   "execution_count": null,
   "id": "62115551",
   "metadata": {},
   "outputs": [],
   "source": [
    "rhom = KLRWHomOfPerfectComplexes(E_unknot_complex, E_unlink_complex)"
   ]
  },
  {
   "cell_type": "code",
   "execution_count": null,
   "id": "2fb267a3",
   "metadata": {},
   "outputs": [],
   "source": [
    "# There are maps from shift = -4 to shift = 1, mainly id\n",
    "rhom[-4].basis().values()"
   ]
  },
  {
   "cell_type": "code",
   "execution_count": null,
   "id": "07445d3f",
   "metadata": {},
   "outputs": [],
   "source": [
    "rhom.ext(0) ## now works!"
   ]
  },
  {
   "cell_type": "code",
   "execution_count": null,
   "id": "e3156e2c",
   "metadata": {},
   "outputs": [],
   "source": []
  }
 ],
 "metadata": {
  "kernelspec": {
   "display_name": "SageMath 10.3 (.conda/envs/)",
   "language": "sage",
   "name": "sagemath-10.3-symlink"
  },
  "language_info": {
   "codemirror_mode": {
    "name": "ipython",
    "version": 3
   },
   "file_extension": ".py",
   "mimetype": "text/x-python",
   "name": "python",
   "nbconvert_exporter": "python",
   "pygments_lexer": "ipython3",
   "version": "3.11.9"
  }
 },
 "nbformat": 4,
 "nbformat_minor": 5
}
