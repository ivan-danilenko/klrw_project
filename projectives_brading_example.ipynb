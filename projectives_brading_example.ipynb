{
 "cells": [
  {
   "cell_type": "markdown",
   "metadata": {},
   "source": [
    "# Bradings of T-branes"
   ]
  },
  {
   "cell_type": "markdown",
   "metadata": {},
   "source": [
    "We want to reproduce the answer from Peng's notes"
   ]
  },
  {
   "cell_type": "code",
   "execution_count": null,
   "metadata": {},
   "outputs": [],
   "source": [
    "from klrw.framed_dynkin import FramedDynkinDiagram_with_dimensions\n",
    "from klrw.klrw_algebra import KLRWAlgebra\n",
    "from klrw.perfect_complex import (\n",
    "    KLRWPerfectComplex,\n",
    "    KLRWProjectiveModule,\n",
    "    KLRWHomOfPerfectComplexes,\n",
    ")"
   ]
  },
  {
   "cell_type": "markdown",
   "metadata": {},
   "source": [
    "## Setup"
   ]
  },
  {
   "cell_type": "markdown",
   "metadata": {},
   "source": [
    "Defining the framed quiver"
   ]
  },
  {
   "cell_type": "code",
   "execution_count": null,
   "metadata": {},
   "outputs": [],
   "source": [
    "DD = FramedDynkinDiagram_with_dimensions(CartanType([\"A\", 1]))\n",
    "DD.inject_nodes(scope=globals())\n",
    "\n",
    "DD[V1] = 2\n",
    "DD[W1] = 2\n",
    "\n",
    "print(\"Framed quiver:\")\n",
    "print(DD)"
   ]
  },
  {
   "cell_type": "markdown",
   "metadata": {},
   "source": [
    "Defining the KLRW algebra"
   ]
  },
  {
   "cell_type": "code",
   "execution_count": null,
   "metadata": {},
   "outputs": [],
   "source": [
    "R = QQ\n",
    "KLRW = KLRWAlgebra(\n",
    "    R,\n",
    "    DD,\n",
    "    edge_scaling=False,\n",
    "    vertex_scaling=False,\n",
    "    default_vertex_parameter=R.one(),\n",
    "    default_edge_parameter=R.one(),\n",
    "    warnings=True,\n",
    ")\n",
    "\n",
    "grading_group = KLRW.grading_group"
   ]
  },
  {
   "cell_type": "markdown",
   "metadata": {},
   "source": [
    "Now it's time to write Peng's candidate for a braded T-brane.  \n",
    "We introduce the signs to make it square to zero."
   ]
  },
  {
   "cell_type": "code",
   "execution_count": null,
   "metadata": {},
   "outputs": [],
   "source": [
    "# From Peng's notes\n",
    "# The intersections with the horizontal lines are\n",
    "# A1A2 | B2B1 | C1C2\n",
    "# The vertical line separations are punctures\n",
    "\n",
    "projectives = {\n",
    "    0: [KLRWProjectiveModule(KLRW.state((W1, V1, V1, W1)), 0, grading_group)],  # B1B2\n",
    "    1: [\n",
    "        KLRWProjectiveModule(KLRW.state((V1, W1, V1, W1)), 1, grading_group),  # A1B2\n",
    "        KLRWProjectiveModule(KLRW.state((W1, V1, W1, V1)), 1, grading_group),  # B1C2\n",
    "        KLRWProjectiveModule(KLRW.state((W1, V1, W1, V1)), -1, grading_group),  # C1B2\n",
    "        KLRWProjectiveModule(KLRW.state((V1, W1, V1, W1)), -1, grading_group),  # B1A2\n",
    "    ],\n",
    "    2: [\n",
    "        KLRWProjectiveModule(KLRW.state((V1, V1, W1, W1)), 0, grading_group),  # A1A2\n",
    "        KLRWProjectiveModule(KLRW.state((V1, W1, W1, V1)), 0, grading_group),  # A1C2\n",
    "        KLRWProjectiveModule(KLRW.state((W1, W1, V1, V1)), 0, grading_group),  # C1C2\n",
    "        KLRWProjectiveModule(KLRW.state((V1, W1, W1, V1)), -2, grading_group),  # C1A2\n",
    "    ],\n",
    "}\n",
    "\n",
    "\n",
    "differentials = {}\n",
    "differentials[1] = matrix(\n",
    "    KLRW,\n",
    "    len(projectives[1]),\n",
    "    len(projectives[0]),\n",
    "    sparse=True,\n",
    ")\n",
    "\n",
    "differentials[1][0, 0] = KLRW.KLRWmonomial(\n",
    "    projectives[0][0].state, word=(1, 2)\n",
    ")  # A1B2-> B1B2\n",
    "differentials[1][1, 0] = KLRW.KLRWmonomial(\n",
    "    projectives[0][0].state, word=(3, 2)\n",
    ")  # B1C2-> B1B2\n",
    "differentials[1][2, 0] = KLRW.KLRWmonomial(\n",
    "    projectives[0][0].state, word=(3,)\n",
    ")  # C1B2-> B1B2\n",
    "differentials[1][3, 0] = KLRW.KLRWmonomial(\n",
    "    projectives[0][0].state, word=(1,)\n",
    ")  # B1A2-> B1B2\n",
    "\n",
    "\n",
    "differentials[2] = matrix(\n",
    "    KLRW,\n",
    "    len(projectives[2]),\n",
    "    len(projectives[1]),\n",
    "    sparse=True,\n",
    ")\n",
    "\n",
    "differentials[2][0, 0] = KLRW.KLRWmonomial(\n",
    "    projectives[1][0].state, word=(2,)\n",
    ")  # A1A2 -> A1B2\n",
    "differentials[2][0, 3] = -KLRW.KLRWmonomial(\n",
    "    projectives[1][3].state, word=(1, 2)\n",
    ")  # A1A2 -> B1A2\n",
    "differentials[2][1, 0] = KLRW.KLRWmonomial(\n",
    "    projectives[1][0].state, word=(3,)\n",
    ")  # A1C2 -> A1B2\n",
    "differentials[2][1, 1] = -KLRW.KLRWmonomial(\n",
    "    projectives[1][1].state, word=(1,)\n",
    ")  # A1C2 -> B1C2\n",
    "differentials[2][2, 1] = KLRW.KLRWmonomial(\n",
    "    projectives[1][1].state, word=(2,)\n",
    ")  # C1C2 -> B1C2\n",
    "differentials[2][2, 2] = -KLRW.KLRWmonomial(\n",
    "    projectives[1][2].state, word=(3, 2)\n",
    ")  # C1C2 -> C1B2\n",
    "differentials[2][3, 2] = KLRW.KLRWmonomial(\n",
    "    projectives[1][2].state, word=(1,)\n",
    ")  # C1A2 -> C1B2\n",
    "differentials[2][3, 3] = -KLRW.KLRWmonomial(\n",
    "    projectives[1][3].state, word=(3,)\n",
    ")  # C1A2 -> B1A2\n",
    "\n",
    "T_twisted = KLRWPerfectComplex(\n",
    "    KLRW_algebra=KLRW,\n",
    "    differentials=differentials,\n",
    "    projectives=projectives,\n",
    "    check=True,\n",
    ")\n",
    "\n",
    "T_twisted"
   ]
  },
  {
   "cell_type": "markdown",
   "metadata": {},
   "source": [
    "`check=True` option made sure that the differential squares to zero and that degrees are correct.  \n",
    "So, it's a good complex!"
   ]
  },
  {
   "cell_type": "markdown",
   "metadata": {},
   "source": [
    "## Exts"
   ]
  },
  {
   "cell_type": "markdown",
   "metadata": {},
   "source": [
    "We will need a computation of exts:"
   ]
  },
  {
   "cell_type": "code",
   "execution_count": null,
   "metadata": {},
   "outputs": [],
   "source": [
    "def find_exts(domain, codomain, rang=None, max_eq_deg = 10, min_eq_deg=-10):\n",
    "    exts ={}\n",
    "    ext_dims = {}\n",
    "\n",
    "    if rang is None:\n",
    "        from itertools import product\n",
    "        max_hom_deg = max(-deg1 + deg2 for deg1 in domain.projectives for deg2 in codomain.projectives)\n",
    "        min_hom_deg = min(-deg1 + deg2 for deg1 in domain.projectives for deg2 in codomain.projectives)\n",
    "        rang = product(range(min_hom_deg, max_hom_deg+1), range(min_eq_deg, max_eq_deg+1))\n",
    "\n",
    "    for shift, i in rang:\n",
    "        print(\"Working on {} {}\".format(shift, i))\n",
    "        rhom = KLRWHomOfPerfectComplexes(domain, codomain[shift,i])\n",
    "        ext = rhom.ext(0)\n",
    "        dim = len(ext.basis())\n",
    "        if dim:\n",
    "            exts[shift, i] = ext\n",
    "            ext_dims[shift, i] = dim\n",
    "\n",
    "    return exts, ext_dims"
   ]
  },
  {
   "cell_type": "markdown",
   "metadata": {},
   "source": [
    "We expect Exts from braided T to itself to be only in Maslov degree 0 [projectives!] and in equvariant degrees -2 [simple crossing] and higher.  \n",
    "Let's compute the first several."
   ]
  },
  {
   "cell_type": "code",
   "execution_count": null,
   "metadata": {},
   "outputs": [],
   "source": [
    "exts, ext_dims = find_exts(T_twisted, T_twisted, rang=((0,0),(0,-1),(0,-2)))\n",
    "ext_dims"
   ]
  },
  {
   "cell_type": "markdown",
   "metadata": {},
   "source": [
    "As expected, we got 1 ext in equivariant degree -2 [the simple crossing] and no exts in equivariant degree -1.  \n",
    "We can also see that the three exts in equivariant degree 0 match 3 braids between untwisted T-branes:"
   ]
  },
  {
   "cell_type": "code",
   "execution_count": null,
   "metadata": {},
   "outputs": [],
   "source": [
    "state = KLRW.state((W1, V1, V1, W1))\n",
    "KLRW[state: state: grading_group.zero()].basis()"
   ]
  },
  {
   "cell_type": "markdown",
   "metadata": {},
   "source": [
    "Now it's time to look at the ext of equivariant degree -2.  \n",
    "It is the image of the simple crossing."
   ]
  },
  {
   "cell_type": "code",
   "execution_count": null,
   "metadata": {},
   "outputs": [],
   "source": [
    "crossing_ext = exts[0,-2].basis()[0]\n",
    "crossing_ext"
   ]
  },
  {
   "cell_type": "markdown",
   "metadata": {},
   "source": [
    "It might be hard to read from this matrix, let's summarize it in Peng's notation for intersection points.  \n",
    "\n",
    "We write maps as  \n",
    "state -> state *coefficient  \n",
    "Braids are often clear from the context. If they are not, look at the matrix.\n",
    "\n",
    "\n",
    "In (Maslov) degree 1:\n",
    "\n",
    "* C1B2 -> A1B2 *1\n",
    "* C1B2- > B1C2 *(-1)\n",
    "\n",
    "In (Maslov) degree 2:\n",
    "\n",
    "* C1A2 -> A1A2 *1\n",
    "* C1A2 -> A1C2 *1\n",
    "* C1C2 -> C1C2 *1\n"
   ]
  },
  {
   "cell_type": "markdown",
   "metadata": {},
   "source": [
    "## Matching"
   ]
  },
  {
   "cell_type": "markdown",
   "metadata": {},
   "source": [
    "Our answer doesn't look similar to Peng's.  \n",
    "No worries, there are chain homotopies, so our answers can still be chain homotopic.  \n",
    "\n",
    "Let's look at all the chain homotopies."
   ]
  },
  {
   "cell_type": "code",
   "execution_count": null,
   "metadata": {},
   "outputs": [],
   "source": [
    "relations = exts[0,-2].relations()\n",
    "from pprint import pprint\n",
    "for x in relations:\n",
    "    print(\"==============================\")\n",
    "    pprint(x)"
   ]
  },
  {
   "cell_type": "markdown",
   "metadata": {},
   "source": [
    "After some meditation we find the desired correction."
   ]
  },
  {
   "cell_type": "code",
   "execution_count": null,
   "metadata": {},
   "outputs": [],
   "source": [
    "modified_crossing_ext =  crossing_ext - relations[0] - relations[1] -relations[3]\n",
    "modified_crossing_ext"
   ]
  },
  {
   "cell_type": "markdown",
   "metadata": {},
   "source": [
    "This is\n",
    "\n",
    "In (Maslov) degree 0:\n",
    "\n",
    "* B1B2 -> B1B2 *(-1)\n",
    "\n",
    "In (Maslov) degree 1:\n",
    "\n",
    "* B1A2 -> A1B2 *(-1)\n",
    "* C1B2 -> B1C2 *(-1)\n",
    "\n",
    "In (Maslov) degree 2:\n",
    "\n",
    "* A1A2 -> A1A2 *1\n",
    "* C1A2 -> A1C2 *1\n",
    "* C1C2 -> C1C2 *1"
   ]
  },
  {
   "cell_type": "markdown",
   "metadata": {},
   "source": [
    "This is Peng's answer!"
   ]
  },
  {
   "cell_type": "markdown",
   "metadata": {},
   "source": [
    "Hooray!"
   ]
  },
  {
   "cell_type": "markdown",
   "metadata": {},
   "source": [
    "## Square"
   ]
  },
  {
   "cell_type": "markdown",
   "metadata": {},
   "source": [
    "Now we check if the elements squares to zero.  \n",
    "For technical reason the second one has to be shifted in equivariant degree"
   ]
  },
  {
   "cell_type": "code",
   "execution_count": null,
   "metadata": {},
   "outputs": [],
   "source": [
    "def shift_chain_map(chain_map, shift):\n",
    "    domain = chain_map.parent().domain\n",
    "    codomain = chain_map.parent().codomain\n",
    "    rhom = KLRWHomOfPerfectComplexes(domain[shift], codomain[shift])\n",
    "    ext = rhom.ext(0)\n",
    "    hom = ext.hom_of_graded\n",
    "\n",
    "    return hom._from_dict(\n",
    "        {\n",
    "            stype: entry\n",
    "            for stype, entry in chain_map\n",
    "        }\n",
    "    )"
   ]
  },
  {
   "cell_type": "code",
   "execution_count": null,
   "metadata": {},
   "outputs": [],
   "source": [
    "crossing_ext_shifted = shift_chain_map(crossing_ext, shift = (0, -2))\n",
    "crossing_ext_shifted*crossing_ext"
   ]
  },
  {
   "cell_type": "markdown",
   "metadata": {},
   "source": [
    "Zero, as expected!"
   ]
  },
  {
   "cell_type": "markdown",
   "metadata": {},
   "source": [
    "## Dots"
   ]
  },
  {
   "cell_type": "code",
   "execution_count": null,
   "metadata": {},
   "outputs": [],
   "source": [
    "from klrw.perfect_complex import SummandType\n",
    "\n",
    "KLRW.base().inject_variables()\n",
    "\n",
    "x1_dict = {\n",
    "    SummandType(domain_grading=hom_deg, domain_index=i, codomain_index=i):\n",
    "    KLRW.KLRWmonomial(projs[i].state)\n",
    "    for hom_deg, projs in T_twisted.projectives.items()\n",
    "    for i in range(len(projs))\n",
    "}\n",
    "\n",
    "# terms proportional to the identity\n",
    "stype = SummandType(domain_grading=0, domain_index=0, codomain_index=0)\n",
    "x1_dict[stype] = x_1_2 * x1_dict[stype] # B1B2\n",
    "stype = SummandType(domain_grading=1, domain_index=0, codomain_index=0)\n",
    "x1_dict[stype] = x_1_1 * x1_dict[stype]  # A1B2\n",
    "stype = SummandType(domain_grading=1, domain_index=1, codomain_index=1)\n",
    "x1_dict[stype] = x_1_1* x1_dict[stype] # B1C2\n",
    "stype = SummandType(domain_grading=1, domain_index=2, codomain_index=2)\n",
    "x1_dict[stype] = x_1_2 * x1_dict[stype]  # C1B2\n",
    "stype = SummandType(domain_grading=1, domain_index=3, codomain_index=3)\n",
    "x1_dict[stype] = x_1_2 * x1_dict[stype] # B1A2\n",
    "stype = SummandType(domain_grading=2, domain_index=0, codomain_index=0)\n",
    "x1_dict[stype] = x_1_1 * x1_dict[stype]  # A1A2\n",
    "stype = SummandType(domain_grading=2, domain_index=1, codomain_index=1)\n",
    "x1_dict[stype] = x_1_1 * x1_dict[stype]  # A1C2\n",
    "stype = SummandType(domain_grading=2, domain_index=2, codomain_index=2)\n",
    "x1_dict[stype] = x_1_1 * x1_dict[stype]  # C1C2\n",
    "stype = SummandType(domain_grading=2, domain_index=3, codomain_index=3)\n",
    "x1_dict[stype] = x_1_2 * x1_dict[stype]  # C1A2\n",
    "\n",
    "\n",
    "# special terms\n",
    "stype = SummandType(domain_grading=1, domain_index=0, codomain_index=3)\n",
    "x1_dict[stype] = - KLRW.KLRWmonomial(T_twisted.projectives[1][0].state) # A1B2 -> B1A2\n",
    "stype = SummandType(domain_grading=1, domain_index=1, codomain_index=2)\n",
    "x1_dict[stype] = - KLRW.KLRWmonomial(T_twisted.projectives[1][1].state) # B1C2 -> C1B2\n",
    "stype = SummandType(domain_grading=2, domain_index=1, codomain_index=3)\n",
    "x1_dict[stype] = KLRW.KLRWmonomial(T_twisted.projectives[2][1].state) # A1C2 -> C1A2\n",
    "\n",
    "hom = KLRWHomOfPerfectComplexes(T_twisted, T_twisted[0,2]).ext(0).hom_of_graded\n",
    "x1 = hom._from_dict(\n",
    "    x1_dict,\n",
    "    coerce=False,\n",
    ")\n",
    "x1"
   ]
  },
  {
   "cell_type": "markdown",
   "metadata": {},
   "source": [
    "We want to check if it's indeed a chain complex. To do this, we try to make a cone."
   ]
  },
  {
   "cell_type": "code",
   "execution_count": null,
   "metadata": {},
   "outputs": [],
   "source": [
    "x1.cone()"
   ]
  },
  {
   "cell_type": "markdown",
   "metadata": {},
   "source": [
    "Since there is no error in making the cone, it's indeed a chain map!"
   ]
  },
  {
   "cell_type": "markdown",
   "metadata": {},
   "source": [
    "Now let's do the other dot."
   ]
  },
  {
   "cell_type": "code",
   "execution_count": null,
   "metadata": {},
   "outputs": [],
   "source": [
    "x2_dict = {\n",
    "    SummandType(domain_grading=hom_deg, domain_index=i, codomain_index=i):\n",
    "    KLRW.KLRWmonomial(projs[i].state)\n",
    "    for hom_deg, projs in T_twisted.projectives.items()\n",
    "    for i in range(len(projs))\n",
    "}\n",
    "\n",
    "# terms proportional to the identity\n",
    "stype = SummandType(domain_grading=0, domain_index=0, codomain_index=0)\n",
    "x2_dict[stype] = x_1_1 * x2_dict[stype] # B1B2\n",
    "stype = SummandType(domain_grading=1, domain_index=0, codomain_index=0)\n",
    "x2_dict[stype] = x_1_2 * x2_dict[stype]  # A1B2\n",
    "stype = SummandType(domain_grading=1, domain_index=1, codomain_index=1)\n",
    "x2_dict[stype] = x_1_2* x2_dict[stype] # B1C2\n",
    "stype = SummandType(domain_grading=1, domain_index=2, codomain_index=2)\n",
    "x2_dict[stype] = x_1_1 * x2_dict[stype]  # C1B2\n",
    "stype = SummandType(domain_grading=1, domain_index=3, codomain_index=3)\n",
    "x2_dict[stype] = x_1_1 * x2_dict[stype] # B1A2\n",
    "stype = SummandType(domain_grading=2, domain_index=0, codomain_index=0)\n",
    "x2_dict[stype] = x_1_2 * x2_dict[stype]  # A1A2\n",
    "stype = SummandType(domain_grading=2, domain_index=1, codomain_index=1)\n",
    "x2_dict[stype] = x_1_2 * x2_dict[stype]  # A1C2\n",
    "stype = SummandType(domain_grading=2, domain_index=2, codomain_index=2)\n",
    "x2_dict[stype] = x_1_2 * x2_dict[stype]  # C1C2\n",
    "stype = SummandType(domain_grading=2, domain_index=3, codomain_index=3)\n",
    "x2_dict[stype] = x_1_1 * x2_dict[stype]  # C1A2\n",
    "\n",
    "\n",
    "# special terms\n",
    "stype = SummandType(domain_grading=1, domain_index=0, codomain_index=3)\n",
    "x2_dict[stype] = KLRW.KLRWmonomial(T_twisted.projectives[1][0].state) # A1B2 -> B1A2\n",
    "stype = SummandType(domain_grading=1, domain_index=1, codomain_index=2)\n",
    "x2_dict[stype] = KLRW.KLRWmonomial(T_twisted.projectives[1][1].state) # B1C2 -> C1B2\n",
    "stype = SummandType(domain_grading=2, domain_index=1, codomain_index=3)\n",
    "x2_dict[stype] = - KLRW.KLRWmonomial(T_twisted.projectives[2][1].state) # A1C2 -> C1A2\n",
    "\n",
    "hom = KLRWHomOfPerfectComplexes(T_twisted, T_twisted[0,2]).ext(0).hom_of_graded\n",
    "x2 = hom._from_dict(\n",
    "    x2_dict,\n",
    "    coerce=False,\n",
    ")\n",
    "x2"
   ]
  },
  {
   "cell_type": "markdown",
   "metadata": {},
   "source": [
    "Again, checking if it's indeed a chain complex."
   ]
  },
  {
   "cell_type": "code",
   "execution_count": null,
   "metadata": {},
   "outputs": [],
   "source": [
    "x2.cone()"
   ]
  },
  {
   "cell_type": "markdown",
   "metadata": {},
   "source": [
    "Time to check the relation"
   ]
  },
  {
   "cell_type": "markdown",
   "metadata": {},
   "source": [
    "In KLRW it looks this way:"
   ]
  },
  {
   "cell_type": "code",
   "execution_count": null,
   "metadata": {},
   "outputs": [],
   "source": [
    "x_1_ = x_1_1*KLRW.KLRWmonomial(state=KLRW.state((W1,V1,V1,W1)))\n",
    "x_2_ = x_1_2*KLRW.KLRWmonomial(state=KLRW.state((W1,V1,V1,W1)))\n",
    "crossing = KLRW.KLRWmonomial(state=KLRW.state((W1,V1,V1,W1)), word = (2,))\n",
    "x_1_, x_2_, crossing"
   ]
  },
  {
   "cell_type": "markdown",
   "metadata": {},
   "source": [
    "The first relation is:"
   ]
  },
  {
   "cell_type": "code",
   "execution_count": null,
   "metadata": {},
   "outputs": [],
   "source": [
    "print(x_1_, \"*\", crossing)\n",
    "print(\" - \")\n",
    "print(crossing, \"*\", x_2_)\n",
    "print(\" = \")\n",
    "print(x_1_ * crossing - crossing * x_2_)"
   ]
  },
  {
   "cell_type": "markdown",
   "metadata": {},
   "source": [
    "and the second one"
   ]
  },
  {
   "cell_type": "code",
   "execution_count": null,
   "metadata": {},
   "outputs": [],
   "source": [
    "print(x_2_, \"*\", crossing)\n",
    "print(\" - \")\n",
    "print(crossing, \"*\", x_1_)\n",
    "print(\" = \")\n",
    "print(x_2_ * crossing - crossing * x_1_)"
   ]
  },
  {
   "cell_type": "markdown",
   "metadata": {},
   "source": [
    "Let's check the relation now"
   ]
  },
  {
   "cell_type": "code",
   "execution_count": null,
   "metadata": {},
   "outputs": [],
   "source": [
    "lhs = shift_chain_map(x1, shift=(0,-2)) * crossing_ext - shift_chain_map(crossing_ext, shift=(0,2)) * x2\n",
    "\n",
    "rhom = KLRWHomOfPerfectComplexes(T_twisted, T_twisted)\n",
    "ext = rhom.ext(0)\n",
    "rhs = ext.hom_of_graded.one()\n",
    "\n",
    "ext.reduce(lhs - rhs).is_zero()"
   ]
  },
  {
   "cell_type": "code",
   "execution_count": null,
   "metadata": {},
   "outputs": [],
   "source": [
    "lhs = shift_chain_map(x2, shift=(0,-2)) * crossing_ext - shift_chain_map(crossing_ext, shift=(0,2)) * x1\n",
    "\n",
    "rhs = - ext.hom_of_graded.one()\n",
    "\n",
    "ext.reduce(lhs - rhs).is_zero()"
   ]
  },
  {
   "cell_type": "markdown",
   "metadata": {},
   "source": [
    "Both relations work!"
   ]
  }
 ],
 "metadata": {
  "kernelspec": {
   "display_name": "SageMath 10.0",
   "language": "sage",
   "name": "SageMath-10.0"
  },
  "language_info": {
   "codemirror_mode": {
    "name": "ipython",
    "version": 3
   },
   "file_extension": ".py",
   "mimetype": "text/x-python",
   "name": "python",
   "nbconvert_exporter": "python",
   "pygments_lexer": "ipython3",
   "version": "3.11.1"
  }
 },
 "nbformat": 4,
 "nbformat_minor": 2
}
