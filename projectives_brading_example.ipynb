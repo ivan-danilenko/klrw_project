{
 "cells": [
  {
   "cell_type": "markdown",
   "metadata": {},
   "source": [
    "# Bradings of T-branes"
   ]
  },
  {
   "cell_type": "markdown",
   "metadata": {},
   "source": [
    "We want to reproduce the answer from Peng's notes"
   ]
  },
  {
   "cell_type": "code",
   "execution_count": null,
   "metadata": {},
   "outputs": [],
   "source": [
    "from klrw.framed_dynkin import FramedDynkinDiagram_with_dimensions\n",
    "from klrw.klrw_algebra import KLRWAlgebra\n",
    "from klrw.perfect_complex import (\n",
    "    KLRWPerfectComplex,\n",
    "    KLRWProjectiveModule,\n",
    "    KLRWHomOfPerfectComplexes,\n",
    ")"
   ]
  },
  {
   "cell_type": "markdown",
   "metadata": {},
   "source": [
    "## Setup"
   ]
  },
  {
   "cell_type": "markdown",
   "metadata": {},
   "source": [
    "Defining the framed quiver"
   ]
  },
  {
   "cell_type": "code",
   "execution_count": null,
   "metadata": {},
   "outputs": [],
   "source": [
    "DD = FramedDynkinDiagram_with_dimensions(CartanType([\"A\", 1]))\n",
    "DD.inject_nodes(scope=globals())\n",
    "\n",
    "DD[V1] = 2\n",
    "DD[W1] = 2\n",
    "\n",
    "print(\"Framed quiver:\")\n",
    "print(DD)"
   ]
  },
  {
   "cell_type": "markdown",
   "metadata": {},
   "source": [
    "Defining the KLRW algebra"
   ]
  },
  {
   "cell_type": "code",
   "execution_count": null,
   "metadata": {},
   "outputs": [],
   "source": [
    "R = QQ\n",
    "KLRW = KLRWAlgebra(\n",
    "    R,\n",
    "    DD,\n",
    "    edge_scaling=False,\n",
    "    vertex_scaling=False,\n",
    "    default_vertex_parameter=R.one(),\n",
    "    default_edge_parameter=R.one(),\n",
    "    warnings=True,\n",
    ")\n",
    "\n",
    "grading_group = KLRW.grading_group"
   ]
  },
  {
   "cell_type": "markdown",
   "metadata": {},
   "source": [
    "Now it's time to write Peng's candidate for a braded T-brane.  \n",
    "We introduce the signs to make it square to zero."
   ]
  },
  {
   "cell_type": "code",
   "execution_count": null,
   "metadata": {},
   "outputs": [],
   "source": [
    "# From Peng's notes\n",
    "# The intersections with the horizontal lines are\n",
    "# A1A2 | B2B1 | C1C2\n",
    "# The vertical line separations are punctures\n",
    "\n",
    "projectives = {\n",
    "    0: [KLRWProjectiveModule(KLRW.state((W1, V1, V1, W1)), 0, grading_group)],  # B1B2\n",
    "    1: [\n",
    "        KLRWProjectiveModule(KLRW.state((V1, W1, V1, W1)), 1, grading_group),  # A1B2\n",
    "        KLRWProjectiveModule(KLRW.state((W1, V1, W1, V1)), 1, grading_group),  # B1C2\n",
    "        KLRWProjectiveModule(KLRW.state((W1, V1, W1, V1)), -1, grading_group),  # C1B2\n",
    "        KLRWProjectiveModule(KLRW.state((V1, W1, V1, W1)), -1, grading_group),  # B1A2\n",
    "    ],\n",
    "    2: [\n",
    "        KLRWProjectiveModule(KLRW.state((V1, V1, W1, W1)), 0, grading_group),  # A1A2\n",
    "        KLRWProjectiveModule(KLRW.state((V1, W1, W1, V1)), 0, grading_group),  # A1C2\n",
    "        KLRWProjectiveModule(KLRW.state((W1, W1, V1, V1)), 0, grading_group),  # C1C2\n",
    "        KLRWProjectiveModule(KLRW.state((V1, W1, W1, V1)), -2, grading_group),  # C1A2\n",
    "    ],\n",
    "}\n",
    "\n",
    "\n",
    "differentials = {}\n",
    "differentials[1] = matrix(\n",
    "    KLRW,\n",
    "    len(projectives[1]),\n",
    "    len(projectives[0]),\n",
    "    sparse=True,\n",
    ")\n",
    "\n",
    "differentials[1][0, 0] = KLRW.KLRWmonomial(\n",
    "    projectives[0][0].state, word=(1, 2)\n",
    ")  # A1B2-> B1B2\n",
    "differentials[1][1, 0] = KLRW.KLRWmonomial(\n",
    "    projectives[0][0].state, word=(3, 2)\n",
    ")  # B1C2-> B1B2\n",
    "differentials[1][2, 0] = KLRW.KLRWmonomial(\n",
    "    projectives[0][0].state, word=(3,)\n",
    ")  # C1B2-> B1B2\n",
    "differentials[1][3, 0] = KLRW.KLRWmonomial(\n",
    "    projectives[0][0].state, word=(1,)\n",
    ")  # B1A2-> B1B2\n",
    "\n",
    "\n",
    "differentials[2] = matrix(\n",
    "    KLRW,\n",
    "    len(projectives[2]),\n",
    "    len(projectives[1]),\n",
    "    sparse=True,\n",
    ")\n",
    "\n",
    "differentials[2][0, 0] = KLRW.KLRWmonomial(\n",
    "    projectives[1][0].state, word=(2,)\n",
    ")  # A1A2 -> A1B2\n",
    "differentials[2][0, 3] = -KLRW.KLRWmonomial(\n",
    "    projectives[1][3].state, word=(1, 2)\n",
    ")  # A1A2 -> B1A2\n",
    "differentials[2][1, 0] = KLRW.KLRWmonomial(\n",
    "    projectives[1][0].state, word=(3,)\n",
    ")  # A1C2 -> A1B2\n",
    "differentials[2][1, 1] = -KLRW.KLRWmonomial(\n",
    "    projectives[1][1].state, word=(1,)\n",
    ")  # A1C2 -> B1C2\n",
    "differentials[2][2, 1] = KLRW.KLRWmonomial(\n",
    "    projectives[1][1].state, word=(2,)\n",
    ")  # C1C2 -> B1C2\n",
    "differentials[2][2, 2] = -KLRW.KLRWmonomial(\n",
    "    projectives[1][2].state, word=(3, 2)\n",
    ")  # C1C2 -> C1B2\n",
    "differentials[2][3, 2] = KLRW.KLRWmonomial(\n",
    "    projectives[1][2].state, word=(1,)\n",
    ")  # C1A2 -> C1B2\n",
    "differentials[2][3, 3] = -KLRW.KLRWmonomial(\n",
    "    projectives[1][3].state, word=(3,)\n",
    ")  # C1A2 -> B1A2\n",
    "\n",
    "T_twisted = KLRWPerfectComplex(\n",
    "    KLRW_algebra=KLRW,\n",
    "    differentials=differentials,\n",
    "    projectives=projectives,\n",
    "    check=True,\n",
    ")\n",
    "\n",
    "T_twisted"
   ]
  },
  {
   "cell_type": "markdown",
   "metadata": {},
   "source": [
    "`check=True` option made sure that the differential squares to zero and that degrees are correct.  \n",
    "So, it's a good complex!"
   ]
  },
  {
   "cell_type": "markdown",
   "metadata": {},
   "source": [
    "## Exts"
   ]
  },
  {
   "cell_type": "markdown",
   "metadata": {},
   "source": [
    "We will need a computation of exts:"
   ]
  },
  {
   "cell_type": "code",
   "execution_count": null,
   "metadata": {},
   "outputs": [],
   "source": [
    "def find_exts(domain, codomain, rang=None, max_eq_deg = 10, min_eq_deg=-10):\n",
    "    exts ={}\n",
    "    ext_dims = {}\n",
    "\n",
    "    if rang is None:\n",
    "        from itertools import product\n",
    "        max_hom_deg = max(-deg1 + deg2 for deg1 in domain.projectives for deg2 in codomain.projectives)\n",
    "        min_hom_deg = min(-deg1 + deg2 for deg1 in domain.projectives for deg2 in codomain.projectives)\n",
    "        rang = product(range(min_hom_deg, max_hom_deg+1), range(min_eq_deg, max_eq_deg+1))\n",
    "\n",
    "    for shift, i in rang:\n",
    "        print(\"Working on {} {}\".format(shift, i))\n",
    "        rhom = KLRWHomOfPerfectComplexes(domain, codomain[shift,i])\n",
    "        ext = rhom.ext(0)\n",
    "        dim = len(ext.basis())\n",
    "        if dim:\n",
    "            exts[shift, i] = ext\n",
    "            ext_dims[shift, i] = dim\n",
    "\n",
    "    return exts, ext_dims"
   ]
  },
  {
   "cell_type": "markdown",
   "metadata": {},
   "source": [
    "We expect Exts from braided T to itself to be only in Maslov degree 0 [projectives!] and in equvariant degrees -2 [simple crossing] and higher.  \n",
    "Let's compute the first several."
   ]
  },
  {
   "cell_type": "code",
   "execution_count": null,
   "metadata": {},
   "outputs": [],
   "source": [
    "exts, ext_dims = find_exts(T_twisted, T_twisted, rang=((0,0),(0,-1),(0,-2)))\n",
    "ext_dims"
   ]
  },
  {
   "cell_type": "markdown",
   "metadata": {},
   "source": [
    "As expected, we got 1 ext in equivariant degree -2 [the simple crossing] and no exts in equivariant degree -1.  \n",
    "We can also see that the three exts in equivariant degree 0 match 3 braids between untwisted T-branes:"
   ]
  },
  {
   "cell_type": "code",
   "execution_count": null,
   "metadata": {},
   "outputs": [],
   "source": [
    "state = KLRW.state((W1, V1, V1, W1))\n",
    "KLRW[state: state: grading_group.zero()].basis()"
   ]
  },
  {
   "cell_type": "markdown",
   "metadata": {},
   "source": [
    "Now it's time to look at the ext of equivariant degree -2.  \n",
    "It is the image of the simple crossing."
   ]
  },
  {
   "cell_type": "code",
   "execution_count": null,
   "metadata": {},
   "outputs": [],
   "source": [
    "crossing_ext = exts[0,-2].basis()[0]\n",
    "crossing_ext"
   ]
  },
  {
   "cell_type": "markdown",
   "metadata": {},
   "source": [
    "It might be hard to read from this matrix, let's summarize it in Peng's notation for intersection points.  \n",
    "\n",
    "We write maps as  \n",
    "state -> state *coefficient  \n",
    "Braids are often clear from the context. If they are not, look at the matrix.\n",
    "\n",
    "\n",
    "In (Maslov) degree 1:\n",
    "\n",
    "* C1B2 -> A1B2 *1\n",
    "* C1B2- > B1C2 *(-1)\n",
    "\n",
    "In (Maslov) degree 2:\n",
    "\n",
    "* C1A2 -> A1A2 *1\n",
    "* C1A2 -> A1C2 *1\n",
    "* C1C2 -> C1C2 *1\n"
   ]
  },
  {
   "cell_type": "markdown",
   "metadata": {},
   "source": [
    "## Matching"
   ]
  },
  {
   "cell_type": "markdown",
   "metadata": {},
   "source": [
    "Our answer doesn't look similar to Peng's.  \n",
    "No worries, there are chain homotopies, so our answers can still be chain homotopic.  \n",
    "\n",
    "Let's look at all the chain homotopies."
   ]
  },
  {
   "cell_type": "code",
   "execution_count": null,
   "metadata": {},
   "outputs": [],
   "source": [
    "relations = exts[0,-2].relations()\n",
    "from pprint import pprint\n",
    "for x in relations:\n",
    "    print(\"==============================\")\n",
    "    pprint(x)"
   ]
  },
  {
   "cell_type": "markdown",
   "metadata": {},
   "source": [
    "After some meditation we find the desired correction."
   ]
  },
  {
   "cell_type": "code",
   "execution_count": null,
   "metadata": {},
   "outputs": [],
   "source": [
    "modified_crossing_ext =  crossing_ext - relations[0] - relations[1] -relations[3]\n",
    "modified_crossing_ext"
   ]
  },
  {
   "cell_type": "markdown",
   "metadata": {},
   "source": [
    "This is\n",
    "\n",
    "In (Maslov) degree 0:\n",
    "\n",
    "* B1B2 -> B1B2 *(-1)\n",
    "\n",
    "In (Maslov) degree 1:\n",
    "\n",
    "* B1A2 -> A1B2 *(-1)\n",
    "* C1B2 -> B1C2 *(-1)\n",
    "\n",
    "In (Maslov) degree 2:\n",
    "\n",
    "* A1A2 -> A1A2 *1\n",
    "* C1A2 -> A1C2 *1\n",
    "* C1C2 -> C1C2 *1"
   ]
  },
  {
   "cell_type": "markdown",
   "metadata": {},
   "source": [
    "This is Peng's answer!"
   ]
  },
  {
   "cell_type": "markdown",
   "metadata": {},
   "source": [
    "Hooray!"
   ]
  }
 ],
 "metadata": {
  "kernelspec": {
   "display_name": "SageMath 10.0",
   "language": "sage",
   "name": "SageMath-10.0"
  },
  "language_info": {
   "codemirror_mode": {
    "name": "ipython",
    "version": 3
   },
   "file_extension": ".py",
   "mimetype": "text/x-python",
   "name": "python",
   "nbconvert_exporter": "python",
   "pygments_lexer": "ipython3",
   "version": "3.11.1"
  }
 },
 "nbformat": 4,
 "nbformat_minor": 2
}
