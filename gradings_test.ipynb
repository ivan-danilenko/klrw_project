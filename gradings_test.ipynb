{
 "cells": [
  {
   "cell_type": "code",
   "execution_count": 1,
   "id": "fa96bafb-897f-4566-a347-7206e7b0997d",
   "metadata": {},
   "outputs": [
    {
     "data": {
      "text/plain": [
       "0   2   \n",
       "W1  W2  \n",
       "□   □\n",
       "|   |\n",
       "◯=>=◯\n",
       "V1  V2  \n",
       "1   2   "
      ]
     },
     "execution_count": 1,
     "metadata": {},
     "output_type": "execute_result"
    }
   ],
   "source": [
    "from klrw.framed_dynkin import FramedDynkinDiagram_with_dimensions, NodeInFramedQuiver\n",
    "\n",
    "DD = FramedDynkinDiagram_with_dimensions(CartanType([\"B\",2]))\n",
    "#dim W1 = 1\n",
    "DD.set_dim(0,1, True)\n",
    "#dim V1 = 1\n",
    "DD.set_dim(1,1, False)\n",
    "#dim W2 = 0 \n",
    "DD.set_dim(2,2, True)\n",
    "#dim V2 = 1\n",
    "DD.set_dim(2,2, False)\n",
    "\n",
    "V1 = NodeInFramedQuiver(1, False)\n",
    "W1 = NodeInFramedQuiver(1, True)\n",
    "#V2 = NodeInFramedQuiver(2, False)\n",
    "#W2 = NodeInFramedQuiver(2, True)\n",
    "\n",
    "DD"
   ]
  },
  {
   "cell_type": "code",
   "execution_count": 2,
   "id": "20be7ba2-3321-4ffc-938c-205216989de0",
   "metadata": {},
   "outputs": [
    {
     "data": {
      "text/plain": [
       "-12"
      ]
     },
     "execution_count": 2,
     "metadata": {},
     "output_type": "execute_result"
    }
   ],
   "source": [
    "from klrw.klrw_tests import KLRWAlgebraWithTests\n",
    "KLRW = KLRWAlgebraWithTests(QQ,DD, warnings = False)\n",
    "BB = KLRW.KLRWBraid\n",
    "SS = BB.KLRWstate_set\n",
    "state = SS._element_constructor_((V1,V1,V1,W1,W1))\n",
    "braid = BB._element_constructor_(state, word = (2,1,2,3))\n",
    "x = KLRW.KLRWmonomial(state, word=(1,2,1))\n",
    "x.degree()"
   ]
  },
  {
   "cell_type": "code",
   "execution_count": 3,
   "id": "cbf6a0b9-f199-40ba-985c-31cd03f148a4",
   "metadata": {},
   "outputs": [
    {
     "ename": "KeyboardInterrupt",
     "evalue": "",
     "output_type": "error",
     "traceback": [
      "\u001b[0;31m---------------------------------------------------------------------------\u001b[0m",
      "\u001b[0;31mKeyboardInterrupt\u001b[0m                         Traceback (most recent call last)",
      "Cell \u001b[0;32mIn [3], line 1\u001b[0m\n\u001b[0;32m----> 1\u001b[0m \u001b[43mKLRW\u001b[49m\u001b[38;5;241;43m.\u001b[39;49m\u001b[43mcheck_welldef\u001b[49m\u001b[43m(\u001b[49m\u001b[43mKLRW\u001b[49m\u001b[38;5;241;43m.\u001b[39;49m\u001b[43mbasis_over_center\u001b[49m\u001b[43m(\u001b[49m\u001b[43m)\u001b[49m\u001b[43m,\u001b[49m\u001b[43mKLRW\u001b[49m\u001b[38;5;241;43m.\u001b[39;49m\u001b[43mbasis_over_center\u001b[49m\u001b[43m(\u001b[49m\u001b[43m)\u001b[49m\u001b[43m)\u001b[49m\n",
      "File \u001b[0;32m~/SageMath/klrw_algebra/klrw/klrw_tests.py:48\u001b[0m, in \u001b[0;36mKLRWAlgebraWithTests.check_welldef\u001b[0;34m(self, first_family, second_family, check_right_state, check_left_state, check_braids, check_degrees)\u001b[0m\n\u001b[1;32m     46\u001b[0m count \u001b[38;5;241m=\u001b[39m \u001b[38;5;241m0\u001b[39m\n\u001b[1;32m     47\u001b[0m \u001b[38;5;28;01mfor\u001b[39;00m a, b \u001b[38;5;129;01min\u001b[39;00m product(first_family, second_family):\n\u001b[0;32m---> 48\u001b[0m     ab \u001b[38;5;241m=\u001b[39m \u001b[43ma\u001b[49m\u001b[43m \u001b[49m\u001b[38;5;241;43m*\u001b[39;49m\u001b[43m \u001b[49m\u001b[43mb\u001b[49m\n\u001b[1;32m     49\u001b[0m     count \u001b[38;5;241m+\u001b[39m\u001b[38;5;241m=\u001b[39m \u001b[38;5;241m1\u001b[39m\n\u001b[1;32m     50\u001b[0m     \u001b[38;5;28;01mif\u001b[39;00m check_right_state:\n",
      "File \u001b[0;32m/private/var/tmp/sage-10.0-current/local/var/lib/sage/venv-python3.11.1/lib/python3.11/site-packages/sage/structure/element.pyx:1514\u001b[0m, in \u001b[0;36msage.structure.element.Element.__mul__ (build/cythonized/sage/structure/element.c:12350)\u001b[0;34m()\u001b[0m\n\u001b[1;32m   1512\u001b[0m cdef int cl = classify_elements(left, right)\n\u001b[1;32m   1513\u001b[0m if HAVE_SAME_PARENT(cl):\n\u001b[0;32m-> 1514\u001b[0m     return (<Element>left)._mul_(right)\n\u001b[1;32m   1515\u001b[0m if BOTH_ARE_ELEMENT(cl):\n\u001b[1;32m   1516\u001b[0m     return coercion_model.bin_op(left, right, mul)\n",
      "File \u001b[0;32m/private/var/tmp/sage-10.0-current/local/var/lib/sage/venv-python3.11.1/lib/python3.11/site-packages/sage/structure/element.pyx:1560\u001b[0m, in \u001b[0;36msage.structure.element.Element._mul_ (build/cythonized/sage/structure/element.c:12703)\u001b[0;34m()\u001b[0m\n\u001b[1;32m   1558\u001b[0m         raise bin_op_exception('*', self, other)\n\u001b[1;32m   1559\u001b[0m     else:\n\u001b[0;32m-> 1560\u001b[0m         return python_op(other)\n\u001b[1;32m   1561\u001b[0m \n\u001b[1;32m   1562\u001b[0m cdef _mul_long(self, long n):\n",
      "File \u001b[0;32m/private/var/tmp/sage-10.0-current/local/var/lib/sage/venv-python3.11.1/lib/python3.11/site-packages/sage/categories/coercion_methods.pyx:53\u001b[0m, in \u001b[0;36msage.categories.coercion_methods._mul_parent (build/cythonized/sage/categories/coercion_methods.c:2484)\u001b[0;34m()\u001b[0m\n\u001b[1;32m     51\u001b[0m     True\n\u001b[1;32m     52\u001b[0m \"\"\"\n\u001b[0;32m---> 53\u001b[0m return (<Element>self)._parent.product(self, other)\n",
      "File \u001b[0;32m~/SageMath/klrw_algebra/klrw/bimodule_monoid.py:46\u001b[0m, in \u001b[0;36mLeftFreeBimoduleMonoid._product_from_product_on_basis_multiply\u001b[0;34m(self, left, right)\u001b[0m\n\u001b[1;32m     36\u001b[0m \u001b[38;5;28;01mdef\u001b[39;00m \u001b[38;5;21m_product_from_product_on_basis_multiply\u001b[39m(\u001b[38;5;28mself\u001b[39m, left, right):\n\u001b[1;32m     37\u001b[0m     \u001b[38;5;124mr\u001b[39m\u001b[38;5;124;03m\"\"\"\u001b[39;00m\n\u001b[1;32m     38\u001b[0m \u001b[38;5;124;03m    Compute the product of two elements by extending\u001b[39;00m\n\u001b[1;32m     39\u001b[0m \u001b[38;5;124;03m    bilinearly the method :meth:`product_on_basis`\u001b[39;00m\n\u001b[0;32m   (...)\u001b[0m\n\u001b[1;32m     44\u001b[0m \u001b[38;5;124;03m    The product (ar) is the dictionary {mon_mid : coeff_mid}\u001b[39;00m\n\u001b[1;32m     45\u001b[0m \u001b[38;5;124;03m    \"\"\"\u001b[39;00m\n\u001b[0;32m---> 46\u001b[0m     \u001b[38;5;28;01mreturn\u001b[39;00m \u001b[38;5;28;43mself\u001b[39;49m\u001b[38;5;241;43m.\u001b[39;49m\u001b[43mlinear_combination\u001b[49m\u001b[43m(\u001b[49m\n\u001b[1;32m     47\u001b[0m \u001b[43m        \u001b[49m\u001b[43m(\u001b[49m\u001b[38;5;28;43mself\u001b[39;49m\u001b[38;5;241;43m.\u001b[39;49m\u001b[43mproduct_on_basis\u001b[49m\u001b[43m(\u001b[49m\u001b[43mmon_mid\u001b[49m\u001b[43m,\u001b[49m\u001b[43m \u001b[49m\u001b[43mmon_right\u001b[49m\u001b[43m)\u001b[49m\u001b[43m,\u001b[49m\u001b[43m \u001b[49m\u001b[43mcoeff_left\u001b[49m\u001b[43m \u001b[49m\u001b[38;5;241;43m*\u001b[39;49m\u001b[43m \u001b[49m\u001b[43mcoeff_mid\u001b[49m\u001b[43m)\u001b[49m\n\u001b[1;32m     48\u001b[0m \u001b[43m        \u001b[49m\u001b[38;5;28;43;01mfor\u001b[39;49;00m\u001b[43m \u001b[49m\u001b[43m(\u001b[49m\u001b[43mmon_left\u001b[49m\u001b[43m,\u001b[49m\u001b[43m \u001b[49m\u001b[43mcoeff_left\u001b[49m\u001b[43m)\u001b[49m\u001b[43m \u001b[49m\u001b[38;5;129;43;01min\u001b[39;49;00m\u001b[43m \u001b[49m\u001b[43mleft\u001b[49m\n\u001b[1;32m     49\u001b[0m \u001b[43m        \u001b[49m\u001b[38;5;28;43;01mfor\u001b[39;49;00m\u001b[43m \u001b[49m\u001b[43m(\u001b[49m\u001b[43mmon_right\u001b[49m\u001b[43m,\u001b[49m\u001b[43m \u001b[49m\u001b[43mcoeff_right\u001b[49m\u001b[43m)\u001b[49m\u001b[43m \u001b[49m\u001b[38;5;129;43;01min\u001b[39;49;00m\u001b[43m \u001b[49m\u001b[43mright\u001b[49m\n\u001b[1;32m     50\u001b[0m \u001b[43m        \u001b[49m\u001b[38;5;28;43;01mfor\u001b[39;49;00m\u001b[43m \u001b[49m\u001b[43m(\u001b[49m\u001b[43mmon_mid\u001b[49m\u001b[43m,\u001b[49m\u001b[43m \u001b[49m\u001b[43mcoeff_mid\u001b[49m\u001b[43m)\u001b[49m\u001b[43m \u001b[49m\u001b[38;5;129;43;01min\u001b[39;49;00m\u001b[43m \u001b[49m\u001b[38;5;28;43mself\u001b[39;49m\u001b[38;5;241;43m.\u001b[39;49m\u001b[43mmonomial\u001b[49m\u001b[43m(\u001b[49m\u001b[43mmon_left\u001b[49m\u001b[43m)\u001b[49m\u001b[43m \u001b[49m\u001b[38;5;241;43m*\u001b[39;49m\u001b[43m \u001b[49m\u001b[43mcoeff_right\u001b[49m\n\u001b[1;32m     51\u001b[0m \u001b[43m    \u001b[49m\u001b[43m)\u001b[49m\n",
      "File \u001b[0;32m/private/var/tmp/sage-10.0-current/local/var/lib/sage/venv-python3.11.1/lib/python3.11/site-packages/sage/combinat/free_module.py:1066\u001b[0m, in \u001b[0;36mCombinatorialFreeModule.linear_combination\u001b[0;34m(self, iter_of_elements_coeff, factor_on_left)\u001b[0m\n\u001b[1;32m   1042\u001b[0m \u001b[38;5;28;01mdef\u001b[39;00m \u001b[38;5;21mlinear_combination\u001b[39m(\u001b[38;5;28mself\u001b[39m, iter_of_elements_coeff, factor_on_left\u001b[38;5;241m=\u001b[39m\u001b[38;5;28;01mTrue\u001b[39;00m):\n\u001b[1;32m   1043\u001b[0m     \u001b[38;5;124mr\u001b[39m\u001b[38;5;124;03m\"\"\"\u001b[39;00m\n\u001b[1;32m   1044\u001b[0m \u001b[38;5;124;03m    Return the linear combination `\\lambda_1 v_1 + \\cdots +\u001b[39;00m\n\u001b[1;32m   1045\u001b[0m \u001b[38;5;124;03m    \\lambda_k v_k` (resp.  the linear combination `v_1 \\lambda_1 +\u001b[39;00m\n\u001b[0;32m   (...)\u001b[0m\n\u001b[1;32m   1064\u001b[0m \u001b[38;5;124;03m        20*B[1] + 20*B[2]\u001b[39;00m\n\u001b[1;32m   1065\u001b[0m \u001b[38;5;124;03m    \"\"\"\u001b[39;00m\n\u001b[0;32m-> 1066\u001b[0m     \u001b[38;5;28;01mreturn\u001b[39;00m \u001b[38;5;28mself\u001b[39m\u001b[38;5;241m.\u001b[39m_from_dict(\u001b[43mblas\u001b[49m\u001b[38;5;241;43m.\u001b[39;49m\u001b[43mlinear_combination\u001b[49m\u001b[43m(\u001b[49m\u001b[43m(\u001b[49m\u001b[43m(\u001b[49m\u001b[43melement\u001b[49m\u001b[38;5;241;43m.\u001b[39;49m\u001b[43m_monomial_coefficients\u001b[49m\u001b[43m,\u001b[49m\u001b[43m \u001b[49m\u001b[43mcoeff\u001b[49m\u001b[43m)\u001b[49m\n\u001b[1;32m   1067\u001b[0m \u001b[43m                                                    \u001b[49m\u001b[38;5;28;43;01mfor\u001b[39;49;00m\u001b[43m \u001b[49m\u001b[43melement\u001b[49m\u001b[43m,\u001b[49m\u001b[43m \u001b[49m\u001b[43mcoeff\u001b[49m\u001b[43m \u001b[49m\u001b[38;5;129;43;01min\u001b[39;49;00m\u001b[43m \u001b[49m\u001b[43miter_of_elements_coeff\u001b[49m\u001b[43m)\u001b[49m\u001b[43m,\u001b[49m\n\u001b[1;32m   1068\u001b[0m \u001b[43m                                                   \u001b[49m\u001b[43mfactor_on_left\u001b[49m\u001b[38;5;241;43m=\u001b[39;49m\u001b[43mfactor_on_left\u001b[49m\u001b[43m)\u001b[49m,\n\u001b[1;32m   1069\u001b[0m                            remove_zeros\u001b[38;5;241m=\u001b[39m\u001b[38;5;28;01mFalse\u001b[39;00m)\n",
      "File \u001b[0;32m/private/var/tmp/sage-10.0-current/local/var/lib/sage/venv-python3.11.1/lib/python3.11/site-packages/sage/data_structures/blas_dict.pyx:313\u001b[0m, in \u001b[0;36msage.data_structures.blas_dict.linear_combination (build/cythonized/sage/data_structures/blas_dict.c:3565)\u001b[0;34m()\u001b[0m\n\u001b[1;32m    311\u001b[0m     return remove_zeros(result)\n\u001b[1;32m    312\u001b[0m \n\u001b[0;32m--> 313\u001b[0m cpdef dict linear_combination(dict_factor_iter, bint factor_on_left=True):\n\u001b[1;32m    314\u001b[0m     r\"\"\"\n\u001b[1;32m    315\u001b[0m     Return the pointwise addition of dictionaries with coefficients.\n",
      "File \u001b[0;32m/private/var/tmp/sage-10.0-current/local/var/lib/sage/venv-python3.11.1/lib/python3.11/site-packages/sage/data_structures/blas_dict.pyx:348\u001b[0m, in \u001b[0;36msage.data_structures.blas_dict.linear_combination (build/cythonized/sage/data_structures/blas_dict.c:3281)\u001b[0;34m()\u001b[0m\n\u001b[1;32m    346\u001b[0m cdef dict D\n\u001b[1;32m    347\u001b[0m \n\u001b[0;32m--> 348\u001b[0m for D, a in dict_factor_iter:\n\u001b[1;32m    349\u001b[0m     if not a: # We multiply by 0, so nothing to do\n\u001b[1;32m    350\u001b[0m         continue\n",
      "File \u001b[0;32m/private/var/tmp/sage-10.0-current/local/var/lib/sage/venv-python3.11.1/lib/python3.11/site-packages/sage/combinat/free_module.py:1066\u001b[0m, in \u001b[0;36m<genexpr>\u001b[0;34m(.0)\u001b[0m\n\u001b[1;32m   1042\u001b[0m \u001b[38;5;28;01mdef\u001b[39;00m \u001b[38;5;21mlinear_combination\u001b[39m(\u001b[38;5;28mself\u001b[39m, iter_of_elements_coeff, factor_on_left\u001b[38;5;241m=\u001b[39m\u001b[38;5;28;01mTrue\u001b[39;00m):\n\u001b[1;32m   1043\u001b[0m     \u001b[38;5;124mr\u001b[39m\u001b[38;5;124;03m\"\"\"\u001b[39;00m\n\u001b[1;32m   1044\u001b[0m \u001b[38;5;124;03m    Return the linear combination `\\lambda_1 v_1 + \\cdots +\u001b[39;00m\n\u001b[1;32m   1045\u001b[0m \u001b[38;5;124;03m    \\lambda_k v_k` (resp.  the linear combination `v_1 \\lambda_1 +\u001b[39;00m\n\u001b[0;32m   (...)\u001b[0m\n\u001b[1;32m   1064\u001b[0m \u001b[38;5;124;03m        20*B[1] + 20*B[2]\u001b[39;00m\n\u001b[1;32m   1065\u001b[0m \u001b[38;5;124;03m    \"\"\"\u001b[39;00m\n\u001b[0;32m-> 1066\u001b[0m     \u001b[38;5;28;01mreturn\u001b[39;00m \u001b[38;5;28mself\u001b[39m\u001b[38;5;241m.\u001b[39m_from_dict(blas\u001b[38;5;241m.\u001b[39mlinear_combination(((element\u001b[38;5;241m.\u001b[39m_monomial_coefficients, coeff)\n\u001b[1;32m   1067\u001b[0m                                                     \u001b[38;5;28;01mfor\u001b[39;00m element, coeff \u001b[38;5;129;01min\u001b[39;00m iter_of_elements_coeff),\n\u001b[1;32m   1068\u001b[0m                                                    factor_on_left\u001b[38;5;241m=\u001b[39mfactor_on_left),\n\u001b[1;32m   1069\u001b[0m                            remove_zeros\u001b[38;5;241m=\u001b[39m\u001b[38;5;28;01mFalse\u001b[39;00m)\n",
      "File \u001b[0;32msrc/cysignals/signals.pyx:310\u001b[0m, in \u001b[0;36mcysignals.signals.python_check_interrupt\u001b[0;34m()\u001b[0m\n",
      "\u001b[0;31mKeyboardInterrupt\u001b[0m: "
     ]
    }
   ],
   "source": [
    "KLRW.check_welldef(KLRW.basis_over_center(),KLRW.basis_over_center())"
   ]
  },
  {
   "cell_type": "code",
   "execution_count": null,
   "id": "94f068a4-294a-4505-997a-47f8e069ff69",
   "metadata": {},
   "outputs": [],
   "source": []
  }
 ],
 "metadata": {
  "kernelspec": {
   "display_name": "SageMath 10.0",
   "language": "sage",
   "name": "SageMath-10.0"
  },
  "language_info": {
   "codemirror_mode": {
    "name": "ipython",
    "version": 3
   },
   "file_extension": ".py",
   "mimetype": "text/x-python",
   "name": "python",
   "nbconvert_exporter": "python",
   "pygments_lexer": "ipython3",
   "version": "3.11.1"
  },
  "vscode": {
   "interpreter": {
    "hash": "bc7e47da6b0f68c564b50633919aa996725353780bd54109029a9a7560b6eaa5"
   }
  }
 },
 "nbformat": 4,
 "nbformat_minor": 5
}
