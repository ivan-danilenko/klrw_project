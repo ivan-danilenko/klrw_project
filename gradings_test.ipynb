{
 "cells": [
  {
   "cell_type": "code",
   "execution_count": null,
   "id": "fa96bafb-897f-4566-a347-7206e7b0997d",
   "metadata": {},
   "outputs": [],
   "source": [
    "from klrw.framed_dynkin import FramedDynkinDiagram_with_dimensions, NodeInFramedQuiver\n",
    "\n",
    "DD = FramedDynkinDiagram_with_dimensions(CartanType([\"B\",2]))\n",
    "#dim W1 = 1\n",
    "DD.set_dim(0,1, True)\n",
    "#dim V1 = 1\n",
    "DD.set_dim(1,1, False)\n",
    "#dim W2 = 0 \n",
    "DD.set_dim(2,2, True)\n",
    "#dim V2 = 1\n",
    "DD.set_dim(2,2, False)\n",
    "\n",
    "V1 = NodeInFramedQuiver(1, False)\n",
    "W1 = NodeInFramedQuiver(1, True)\n",
    "#V2 = NodeInFramedQuiver(2, False)\n",
    "#W2 = NodeInFramedQuiver(2, True)\n",
    "\n",
    "DD"
   ]
  },
  {
   "cell_type": "code",
   "execution_count": null,
   "id": "20be7ba2-3321-4ffc-938c-205216989de0",
   "metadata": {},
   "outputs": [],
   "source": [
    "from klrw.klrw_tests import KLRWAlgebraWithTests\n",
    "KLRW = KLRWAlgebraWithTests(QQ,DD, warnings = False, extra_gradings=True)\n",
    "BB = KLRW.KLRWBraid\n",
    "SS = BB.KLRWstate_set\n",
    "\n",
    "state = SS._element_constructor_((V1,V1,V1,W1,W1))\n",
    "braid = BB._element_constructor_(state, word = (2,1,2,3))\n",
    "x = KLRW.KLRWmonomial(state, word=(1,2,1))\n",
    "x.degree()"
   ]
  },
  {
   "cell_type": "code",
   "execution_count": null,
   "id": "cbf6a0b9-f199-40ba-985c-31cd03f148a4",
   "metadata": {},
   "outputs": [],
   "source": [
    "KLRW.check_welldef(KLRW.basis_over_center(),KLRW.basis_over_center())"
   ]
  },
  {
   "cell_type": "code",
   "execution_count": null,
   "id": "849bb664",
   "metadata": {},
   "outputs": [],
   "source": []
  }
 ],
 "metadata": {
  "kernelspec": {
   "display_name": "SageMath 10.0",
   "language": "sage",
   "name": "SageMath-10.0"
  },
  "language_info": {
   "codemirror_mode": {
    "name": "ipython",
    "version": 3
   },
   "file_extension": ".py",
   "mimetype": "text/x-python",
   "name": "python",
   "nbconvert_exporter": "python",
   "pygments_lexer": "ipython3",
   "version": "3.11.1"
  },
  "vscode": {
   "interpreter": {
    "hash": "bc7e47da6b0f68c564b50633919aa996725353780bd54109029a9a7560b6eaa5"
   }
  }
 },
 "nbformat": 4,
 "nbformat_minor": 5
}
