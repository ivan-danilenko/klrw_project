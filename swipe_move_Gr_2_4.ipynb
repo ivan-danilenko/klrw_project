{
 "cells": [
  {
   "cell_type": "code",
   "execution_count": 1,
   "metadata": {},
   "outputs": [
    {
     "name": "stdout",
     "output_type": "stream",
     "text": [
      "Defining V1, W1, V2, W2, V3, W3\n"
     ]
    }
   ],
   "source": [
    "from klrw.framed_dynkin import FramedDynkinDiagram_with_dimensions\n",
    "from klrw.klrw_algebra import KLRWAlgebra\n",
    "from klrw.perfect_complex import (\n",
    "    KLRWPerfectComplex,\n",
    "    KLRWProjectiveModule,\n",
    "    KLRWHomOfPerfectComplexes,\n",
    "    SummandType,\n",
    ")\n",
    "from klrw.stable_envelopes import stable_envelope\n",
    "\n",
    "DD = FramedDynkinDiagram_with_dimensions(CartanType([\"A\", 3]))\n",
    "DD.inject_nodes(scope=globals())"
   ]
  },
  {
   "cell_type": "code",
   "execution_count": 2,
   "metadata": {
    "tags": [
     "parameters"
    ]
   },
   "outputs": [],
   "source": [
    "#check construct and check stable envelope in the setting with only two puctures.\n",
    "sequence = (V2, V1, V3, V2)\n",
    "left_framing = W2\n",
    "right_framing = W2\n"
   ]
  },
  {
   "cell_type": "code",
   "execution_count": 3,
   "metadata": {},
   "outputs": [
    {
     "name": "stdout",
     "output_type": "stream",
     "text": [
      "Framed quiver:\n",
      "0   2   0   \n",
      "W1  W2  W3  \n",
      "□   □   □\n",
      "|   |   |\n",
      "◯---◯---◯\n",
      "V1  V2  V3  \n",
      "1   2   1   \n"
     ]
    }
   ],
   "source": [
    "DD[left_framing] += 1\n",
    "DD[right_framing] += 1\n",
    "for node in sequence:\n",
    "    DD[node] += 1\n",
    "\n",
    "print(\"Framed quiver:\")\n",
    "print(DD)"
   ]
  },
  {
   "cell_type": "code",
   "execution_count": 4,
   "metadata": {},
   "outputs": [],
   "source": [
    "R = QQ\n",
    "KLRW = KLRWAlgebra(\n",
    "    R,\n",
    "    DD,\n",
    "    warnings=True,\n",
    "    default_vertex_parameter=R.one(),\n",
    "    default_edge_parameter=R.one(),\n",
    ")"
   ]
  },
  {
   "cell_type": "code",
   "execution_count": 5,
   "metadata": {},
   "outputs": [
    {
     "name": "stdout",
     "output_type": "stream",
     "text": [
      "-E_(W2, V1, V2, W2, V3, V2)*s5*s4*s3*s2*E_(W2, V2, V1, V2, W2, V3)\n",
      "*\n",
      "E_(W2, V2, V1, V2, W2, V3)*s5*s4*E_(W2, V2, V1, V3, V2, W2)\n",
      "=\n",
      "E_(W2, V1, V2, W2, V3, V2)*s2*s4*s5*E_(W2, V2, V1, V3, V2, W2) - E_(W2, V1, V2, W2, V3, V2)*s4*s3*s5*s4*s3*s2*E_(W2, V2, V1, V3, V2, W2)\n",
      "------------------------------------\n",
      "E_(W2, V1, V2, W2, V3, V2)*s4*s3*E_(W2, V1, V3, V2, W2, V2)\n",
      "*\n",
      "E_(W2, V1, V3, V2, W2, V2)*s5*s4*s3*s2*E_(W2, V2, V1, V3, V2, W2)\n",
      "=\n",
      "E_(W2, V1, V2, W2, V3, V2)*s4*s3*s5*s4*s3*s2*E_(W2, V2, V1, V3, V2, W2)\n",
      "W2  V2  V1  V2  W2  V3  \n",
      "|   |   |   |   |   |\n",
      "|    \\ /    |   |   |\n",
      "|     X     |   |   |\n",
      "|    / \\    |   |   |\n",
      "|   |   \\   |   |   |\n",
      "|   |    \\ /    |   |\n",
      "|   |     X     |   |\n",
      "|   |    / \\    |   |\n",
      "|   |   |   \\   |   |\n",
      "|   |   |    \\ /    |\n",
      "|   |   |     X     |\n",
      "|   |   |    / \\    |\n",
      "|   |   |   |   \\   |\n",
      "|   |   |   |    \\ / \n",
      "|   |   |   |     X  \n",
      "|   |   |   |    / \\ \n",
      "|   |   |   |   |   |\n",
      "W2  V1  V2  W2  V3  V2  \n",
      "\n",
      "W2  V2  V1  V3  V2  W2  \n",
      "|   |   |   |   |   |\n",
      "|   |   |    \\ /    |\n",
      "|   |   |     X     |\n",
      "|   |   |    / \\    |\n",
      "|   |   |   |   \\   |\n",
      "|   |   |   |    \\ / \n",
      "|   |   |   |     X  \n",
      "|   |   |   |    / \\ \n",
      "|   |   |   |   |   |\n",
      "W2  V2  V1  V2  W2  V3  \n",
      "\n",
      "W2  V1  V3  V2  W2  V2  \n",
      "|   |   |   |   |   |\n",
      "|   |    \\ /    |   |\n",
      "|   |     X     |   |\n",
      "|   |    / \\    |   |\n",
      "|   |   |   \\   |   |\n",
      "|   |   |    \\ /    |\n",
      "|   |   |     X     |\n",
      "|   |   |    / \\    |\n",
      "|   |   |   |   |   |\n",
      "W2  V1  V2  W2  V3  V2  \n",
      "\n",
      "W2  V2  V1  V3  V2  W2  \n",
      "|   |   |   |   |   |\n",
      "|    \\ /    |   |   |\n",
      "|     X     |   |   |\n",
      "|    / \\    |   |   |\n",
      "|   |   \\   |   |   |\n",
      "|   |    \\ /    |   |\n",
      "|   |     X     |   |\n",
      "|   |    / \\    |   |\n",
      "|   |   |   \\   |   |\n",
      "|   |   |    \\ /    |\n",
      "|   |   |     X     |\n",
      "|   |   |    / \\    |\n",
      "|   |   |   |   \\   |\n",
      "|   |   |   |    \\ / \n",
      "|   |   |   |     X  \n",
      "|   |   |   |    / \\ \n",
      "|   |   |   |   |   |\n",
      "W2  V1  V3  V2  W2  V2  \n",
      "\n"
     ]
    }
   ],
   "source": [
    "stab_without_corrections = stable_envelope(KLRW, left_framing, right_framing, sequence, 0, check=False)\n",
    "diff = stab_without_corrections.differentials\n",
    "print(diff[2][4,1])\n",
    "print(\"*\")\n",
    "print(diff[1][1,0])\n",
    "print(\"=\")\n",
    "print(diff[2][4,1]*diff[1][1,0])\n",
    "print(\"------------------------------------\")\n",
    "print(diff[2][4,3])\n",
    "print(\"*\")\n",
    "print(diff[1][3,0])\n",
    "print(\"=\")\n",
    "print(diff[2][4,3]*diff[1][3,0])\n",
    "for br, x in diff[2][4,1]:\n",
    "    br.print_ascii_art()\n",
    "for br, x in diff[1][1,0]:\n",
    "    br.print_ascii_art()\n",
    "for br, x in diff[2][4,3]:\n",
    "    br.print_ascii_art()\n",
    "for br, x in diff[1][3,0]:\n",
    "    br.print_ascii_art()\n"
   ]
  },
  {
   "cell_type": "code",
   "execution_count": null,
   "metadata": {},
   "outputs": [],
   "source": []
  }
 ],
 "metadata": {
  "kernelspec": {
   "display_name": "SageMath 10.0",
   "language": "sage",
   "name": "SageMath-10.0"
  },
  "language_info": {
   "codemirror_mode": {
    "name": "ipython",
    "version": 3
   },
   "file_extension": ".py",
   "mimetype": "text/x-python",
   "name": "python",
   "nbconvert_exporter": "python",
   "pygments_lexer": "ipython3",
   "version": "3.11.1"
  }
 },
 "nbformat": 4,
 "nbformat_minor": 2
}
