{
 "cells": [
  {
   "cell_type": "code",
   "execution_count": null,
   "metadata": {},
   "outputs": [],
   "source": [
    "from klrw.framed_dynkin import FramedDynkinDiagram_with_dimensions\n",
    "from klrw.klrw_algebra import KLRWAlgebra\n",
    "from klrw.perfect_complex import (\n",
    "    KLRWPerfectComplex,\n",
    "    KLRWProjectiveModule,\n",
    "    KLRWHomOfPerfectComplexes,\n",
    "    SummandType,\n",
    ")\n",
    "from klrw.stable_envelopes import stable_envelope\n",
    "\n",
    "DD = FramedDynkinDiagram_with_dimensions(CartanType([\"A\", 1]))\n",
    "DD.inject_nodes(scope=globals())"
   ]
  },
  {
   "cell_type": "code",
   "execution_count": null,
   "metadata": {},
   "outputs": [],
   "source": [
    "#check construct and check stable envelope in the setting with only two puctures.\n",
    "sequence = (V1,)\n",
    "left_framing = W1\n",
    "right_framing = W1\n"
   ]
  },
  {
   "cell_type": "code",
   "execution_count": null,
   "metadata": {},
   "outputs": [],
   "source": [
    "DD[left_framing] += 1\n",
    "DD[right_framing] += 1\n",
    "for node in sequence:\n",
    "    DD[node] += 1\n",
    "\n",
    "print(\"Framed quiver:\")\n",
    "print(DD)\n",
    "\n",
    "KLRW = KLRWAlgebra(\n",
    "    ZZ,\n",
    "    DD,\n",
    "    edge_scaling=True,\n",
    "    vertex_scaling=True,\n",
    "    warnings=True,\n",
    ")"
   ]
  },
  {
   "cell_type": "code",
   "execution_count": null,
   "metadata": {},
   "outputs": [],
   "source": [
    "stab = [stable_envelope(KLRW, left_framing, right_framing, sequence, k) for k in range(len(sequence)+1)]"
   ]
  },
  {
   "cell_type": "code",
   "execution_count": null,
   "metadata": {},
   "outputs": [],
   "source": [
    "R = QQ\n",
    "KLRW_one_grading = KLRWAlgebra(\n",
    "    R,\n",
    "    DD,\n",
    "    default_vertex_parameter=R.one(),\n",
    "    default_edge_parameter=R.one(),\n",
    "    warnings=True,\n",
    ")"
   ]
  },
  {
   "cell_type": "code",
   "execution_count": null,
   "metadata": {},
   "outputs": [],
   "source": [
    "stab = [st.base_change(KLRW_one_grading) for st in stab]"
   ]
  },
  {
   "cell_type": "code",
   "execution_count": null,
   "metadata": {},
   "outputs": [],
   "source": [
    "d = KLRW_one_grading.KLRWmonomial(state=stab[0].projectives[0][0].state, word = (1,)).degree()\n",
    "print(d)\n",
    "rhom = KLRWHomOfPerfectComplexes(stab[1],stab[0][0,d])\n",
    "ext = rhom.ext(0)\n",
    "assert len(ext.basis()) == 1\n",
    "v = ext.basis()[0]\n",
    "e_brane = v.cone()\n",
    "print(e_brane)\n"
   ]
  },
  {
   "cell_type": "code",
   "execution_count": null,
   "metadata": {},
   "outputs": [],
   "source": [
    "from itertools import product\n",
    "\n",
    "for state, i, shift in product(KLRW_one_grading.state_set(), range(-5, 5), range(-5, 5)):\n",
    "    projective = KLRWProjectiveModule(state, 0)\n",
    "\n",
    "    one_term = KLRWPerfectComplex(KLRW_one_grading, differentials={}, projectives={0:[projective]}, check=True)\n",
    "    rhom = KLRWHomOfPerfectComplexes(one_term,e_brane[shift,i])\n",
    "    ext = rhom.ext(0)\n",
    "    for v in ext.basis():\n",
    "        print(state, shift, i)\n",
    "        print(\"------\")\n",
    "        print(v)\n",
    "        print(\"------\")"
   ]
  },
  {
   "cell_type": "code",
   "execution_count": null,
   "metadata": {},
   "outputs": [],
   "source": [
    "new_sequence = sequence\n",
    "\n",
    "for node in sequence:\n",
    "    DD[node] += 1\n",
    "print(DD)\n",
    "\n",
    "KRLW_new = KLRWAlgebra(\n",
    "    R,\n",
    "    DD,\n",
    "    warnings=True,\n",
    "    default_vertex_parameter=R.one(),\n",
    "    default_edge_parameter=R.one(),\n",
    ")\n"
   ]
  },
  {
   "cell_type": "code",
   "execution_count": null,
   "metadata": {},
   "outputs": [],
   "source": [
    "projectives_left = {\n",
    "    i: [\n",
    "        KLRWProjectiveModule(\n",
    "            KRLW_new.state(new_sequence + pr.state.as_tuple()), pr.equivariant_degree\n",
    "        )\n",
    "        for pr in projs\n",
    "    ]\n",
    "    for i, projs in e_brane.projectives.items()\n",
    "}\n",
    "\n",
    "differentials_left = {}\n",
    "for ind, diff in e_brane.differentials.items():\n",
    "    differentials_left[ind] = matrix(\n",
    "        KRLW_new,\n",
    "        diff.nrows(),\n",
    "        diff.ncols(),\n",
    "        sparse=True,\n",
    "    )\n",
    "    for (i, j), entry in diff.dict(copy=False).items():\n",
    "        for braid, coeff in entry:\n",
    "            differentials_left[ind][i, j] += coeff * KRLW_new.KLRWmonomial(\n",
    "                state=KRLW_new.state(new_sequence + braid.right_state().as_tuple()),\n",
    "                word=tuple(x + len(new_sequence) for x in braid.word()),\n",
    "            )\n",
    "\n",
    "\n",
    "\n",
    "left = KLRWPerfectComplex(\n",
    "    KRLW_new, differentials=differentials_left, projectives=projectives_left, check=True\n",
    ")\n",
    "\n",
    "left"
   ]
  },
  {
   "cell_type": "code",
   "execution_count": null,
   "metadata": {},
   "outputs": [],
   "source": [
    "projectives_right = {\n",
    "    i: [\n",
    "        KLRWProjectiveModule(\n",
    "            KRLW_new.state(pr.state.as_tuple() + new_sequence), pr.equivariant_degree\n",
    "        )\n",
    "        for pr in projs\n",
    "    ]\n",
    "    for i, projs in e_brane.projectives.items()\n",
    "}\n",
    "\n",
    "differentials_right = {}\n",
    "for ind, diff in e_brane.differentials.items():\n",
    "    differentials_right[ind] = matrix(\n",
    "        KRLW_new,\n",
    "        diff.nrows(),\n",
    "        diff.ncols(),\n",
    "        sparse=True,\n",
    "    )\n",
    "    for (i, j), entry in diff.dict(copy=False).items():\n",
    "        for braid, coeff in entry:\n",
    "            differentials_right[ind][i, j] += coeff * KRLW_new.KLRWmonomial(\n",
    "                state=KRLW_new.state(braid.right_state().as_tuple() + new_sequence),\n",
    "                word=braid.word(),\n",
    "            )\n",
    "\n",
    "\n",
    "\n",
    "right = KLRWPerfectComplex(\n",
    "    KRLW_new, differentials=differentials_right, projectives=projectives_right, check=True\n",
    ")\n",
    "\n",
    "right"
   ]
  },
  {
   "cell_type": "code",
   "execution_count": null,
   "metadata": {},
   "outputs": [],
   "source": [
    "rhom = KLRWHomOfPerfectComplexes(left, right)\n",
    "ext = rhom.ext(0)\n",
    "assert len(ext.basis()) == 1\n",
    "v = ext.basis()[0]\n",
    "\n",
    "v"
   ]
  },
  {
   "cell_type": "code",
   "execution_count": null,
   "metadata": {},
   "outputs": [],
   "source": [
    "rhom = KLRWHomOfPerfectComplexes(right,left)\n",
    "ext = rhom.ext(0)\n",
    "assert len(ext.basis()) == 1\n",
    "u = ext.basis()[0]\n",
    "\n",
    "u"
   ]
  },
  {
   "cell_type": "code",
   "execution_count": null,
   "metadata": {},
   "outputs": [],
   "source": [
    "rhom_left = KLRWHomOfPerfectComplexes(left, left)\n",
    "ext_left = rhom_left.ext(0)\n",
    "hom_left = ext_left.hom_of_graded()\n",
    "\n",
    "uv_dict = {}\n",
    "for type_u, entry_u in u:\n",
    "    for type_v, entry_v in v:\n",
    "        # shift in general?\n",
    "        if type_u.domain_grading == type_v.domain_grading + v.parent().shift:\n",
    "            if type_u.domain_index == type_v.codomain_index:\n",
    "                product_type = SummandType(\n",
    "                    domain_grading=type_v.domain_grading,\n",
    "                    domain_index=type_v.domain_index,\n",
    "                    codomain_index=type_u.codomain_index,\n",
    "                )\n",
    "                if product_type in uv_dict:\n",
    "                    uv_dict[product_type] += entry_v*entry_u\n",
    "                else:\n",
    "                    uv_dict[product_type] = entry_v*entry_u\n",
    "\n",
    "uv = hom_left._from_dict(uv_dict)\n",
    "print(uv)\n",
    "\n",
    "ext_left.if_homotopic_to_scalar(uv)"
   ]
  },
  {
   "cell_type": "code",
   "execution_count": null,
   "metadata": {},
   "outputs": [],
   "source": [
    "rhom_right = KLRWHomOfPerfectComplexes(right, right)\n",
    "ext_right = rhom_right.ext(0)\n",
    "hom_right = ext_right.hom_of_graded()\n",
    "\n",
    "vu_dict = {}\n",
    "for type_u, entry_u in u:\n",
    "    for type_v, entry_v in v:\n",
    "        # shift in general?\n",
    "        if type_v.domain_grading == type_u.domain_grading + u.parent().shift:\n",
    "            if type_v.domain_index == type_u.codomain_index:\n",
    "                product_type = SummandType(\n",
    "                    domain_grading=type_u.domain_grading,\n",
    "                    domain_index=type_u.domain_index,\n",
    "                    codomain_index=type_v.codomain_index,\n",
    "                )\n",
    "                if product_type in vu_dict:\n",
    "                    vu_dict[product_type] += coeff*entry_u*entry_v\n",
    "                else:\n",
    "                    vu_dict[product_type] = coeff*entry_u*entry_v\n",
    "\n",
    "vu = hom_right._from_dict(vu_dict)\n",
    "print(vu)\n",
    "\n",
    "ext_right.if_homotopic_to_scalar(vu)"
   ]
  }
 ],
 "metadata": {
  "kernelspec": {
   "display_name": "SageMath 10.0",
   "language": "sage",
   "name": "SageMath-10.0"
  },
  "language_info": {
   "codemirror_mode": {
    "name": "ipython",
    "version": 3
   },
   "file_extension": ".py",
   "mimetype": "text/x-python",
   "name": "python",
   "nbconvert_exporter": "python",
   "pygments_lexer": "ipython3",
   "version": "3.11.1"
  }
 },
 "nbformat": 4,
 "nbformat_minor": 2
}
