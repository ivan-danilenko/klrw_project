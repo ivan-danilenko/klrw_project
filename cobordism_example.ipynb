{
 "cells": [
  {
   "cell_type": "markdown",
   "metadata": {},
   "source": [
    "# Cobordisms"
   ]
  },
  {
   "cell_type": "markdown",
   "metadata": {},
   "source": [
    "## We define the main objects"
   ]
  },
  {
   "cell_type": "code",
   "execution_count": null,
   "metadata": {},
   "outputs": [],
   "source": [
    "from klrw.perfect_complex import KLRWHomOfPerfectComplexes\n",
    "from klrw.combinatorial_ebranes import CombinatorialEBrane\n",
    "folder_path = \"./pickles/\""
   ]
  },
  {
   "cell_type": "markdown",
   "metadata": {},
   "source": [
    "We will need to \n",
    "- change the ground ring to a field [rational numbers],\n",
    "- turn off all gradings except the equivariant one,\n",
    "- set all auxilliary parameters to 1."
   ]
  },
  {
   "cell_type": "code",
   "execution_count": null,
   "metadata": {},
   "outputs": [],
   "source": [
    "def rational_base(E):\n",
    "    cls, args, kwrds = E.klrw_algebra[E.k]._reduction\n",
    "    R = QQ\n",
    "    kwrds[\"base_R\"] = R\n",
    "    kwrds['vertex_scaling'] = False\n",
    "    kwrds['edge_scaling'] = False\n",
    "    kwrds[\"default_vertex_parameter\"] = R.one()\n",
    "    kwrds[\"default_edge_parameter\"] = R.one()\n",
    "    return cls(*args, **kwrds)"
   ]
  },
  {
   "cell_type": "markdown",
   "metadata": {},
   "source": [
    "This defines an E brain after brading."
   ]
  },
  {
   "cell_type": "code",
   "execution_count": null,
   "metadata": {},
   "outputs": [],
   "source": [
    "def E_twisted(n, k, braid):\n",
    "    E = CombinatorialEBrane(n, k)\n",
    "    E.apply_braid(braid)\n",
    "    E_complex = E.complex(*range(k))\n",
    "    return E_complex.base_change(rational_base(E))"
   ]
  },
  {
   "cell_type": "markdown",
   "metadata": {},
   "source": [
    "Here are the [twisted] E-branes that we will use:"
   ]
  },
  {
   "cell_type": "code",
   "execution_count": null,
   "metadata": {},
   "outputs": [],
   "source": [
    "n, k = 4, 2\n",
    "E1 = E_twisted(n, k, [])\n",
    "E2 = E_twisted(n, k, [2,1])\n",
    "Ep = E_twisted(n, k, [2,])\n",
    "En = E_twisted(n, k, [-2,])\n",
    "\n",
    "En"
   ]
  },
  {
   "cell_type": "markdown",
   "metadata": {},
   "source": [
    "We will often compute exts between complexes of KRLW projectives [e.g. E-branes]"
   ]
  },
  {
   "cell_type": "code",
   "execution_count": null,
   "metadata": {},
   "outputs": [],
   "source": [
    "def find_exts(domain, codomain, rang=None, max_eq_deg = 10, min_eq_deg=-10):\n",
    "    exts ={}\n",
    "    ext_dims = {}\n",
    "\n",
    "    if rang is None:\n",
    "        from itertools import product\n",
    "        max_hom_deg = max(-deg1 + deg2 for deg1 in domain.projectives for deg2 in codomain.projectives)\n",
    "        min_hom_deg = min(-deg1 + deg2 for deg1 in domain.projectives for deg2 in codomain.projectives)\n",
    "        rang = product(range(min_hom_deg, max_hom_deg+1), range(min_eq_deg, max_eq_deg+1))\n",
    "\n",
    "    for shift, i in rang:\n",
    "        print(\"Working on {} {}\".format(shift, i))\n",
    "        rhom = KLRWHomOfPerfectComplexes(domain, codomain[shift,i])\n",
    "        ext = rhom.ext(0)\n",
    "        dim = len(ext.basis())\n",
    "        if dim:\n",
    "            exts[shift, i] = ext\n",
    "            ext_dims[shift, i] = dim\n",
    "\n",
    "    return exts, ext_dims"
   ]
  },
  {
   "cell_type": "markdown",
   "metadata": {},
   "source": [
    "For future reference, let's find the dimensions of self-exts of an E-brane.\n",
    "<br>\n",
    "Here we do it for E1, but since brading is abn autoequivalence, it is the same if we replace E1 with any twisted E-brane."
   ]
  },
  {
   "cell_type": "code",
   "execution_count": null,
   "metadata": {},
   "outputs": [],
   "source": [
    "# for faster run can comment\n",
    "exts, ext_dims = find_exts(E1, E1)\n",
    "ext_dims"
   ]
  },
  {
   "cell_type": "markdown",
   "metadata": {},
   "source": [
    "---"
   ]
  },
  {
   "cell_type": "markdown",
   "metadata": {},
   "source": [
    "## Maps from elementary cobordism"
   ]
  },
  {
   "cell_type": "markdown",
   "metadata": {},
   "source": [
    "Let's look at exts E1->E2."
   ]
  },
  {
   "cell_type": "code",
   "execution_count": null,
   "metadata": {},
   "outputs": [],
   "source": [
    "exts_E1_E2, ext_dims_E1_E2 = find_exts(E1, E2)\n",
    "# for faster run: use\n",
    "# exts_E1_E2, ext_dims_E1_E2 = find_exts(E1, E2, rang=((-1,0),))\n",
    "ext_dims_E1_E2"
   ]
  },
  {
   "cell_type": "markdown",
   "metadata": {},
   "source": [
    "We see dimensions (-1,0) and (-3,-2).\n",
    "<br>\n",
    "We expect (-1,0) to correspond to the \"simplest\" saddle-like cobordism.\n",
    "<br>\n",
    "(-3,-2) might come from attaching a handle to this cobordism.\n",
    "<br>\n",
    "[attaching handlebodies is the source of \"dots\" on cobordisms for Khovanov]"
   ]
  },
  {
   "cell_type": "markdown",
   "metadata": {},
   "source": [
    "---"
   ]
  },
  {
   "cell_type": "markdown",
   "metadata": {},
   "source": [
    "Let's look at exts E2->E1."
   ]
  },
  {
   "cell_type": "code",
   "execution_count": null,
   "metadata": {},
   "outputs": [],
   "source": [
    "exts_E2_E1, ext_dims_E2_E1 = find_exts(E2, E1)\n",
    "# for faster run: use\n",
    "# exts_E2_E1, ext_dims_E2_E1 = find_exts(E2, E1, rang=((-1,-2),))\n",
    "ext_dims_E2_E1"
   ]
  },
  {
   "cell_type": "markdown",
   "metadata": {},
   "source": [
    "We see dimensions (-1,-2) and (-3,-4).\n",
    "<br>\n",
    "We expect (-1,-2) to correspond to the \"simplest\" saddle-like cobordism."
   ]
  },
  {
   "cell_type": "markdown",
   "metadata": {},
   "source": [
    "---"
   ]
  },
  {
   "cell_type": "markdown",
   "metadata": {},
   "source": [
    "## Cones"
   ]
  },
  {
   "cell_type": "markdown",
   "metadata": {},
   "source": [
    "Now we look at cones over our candidates for the cobordisms."
   ]
  },
  {
   "cell_type": "code",
   "execution_count": null,
   "metadata": {},
   "outputs": [],
   "source": [
    "cone_E2_E1 = exts_E2_E1[-1,-2].basis()[0].cone()\n",
    "cone_E1_E2 = exts_E1_E2[-1,0].basis()[0].cone()"
   ]
  },
  {
   "cell_type": "markdown",
   "metadata": {},
   "source": [
    "We have a guess from Khovanov that cone_E2_E1 is En with some degree shift.\n",
    "<br>\n",
    "A guess for this degree shift comes from looking at Ext(cone_E2_E1,En) and comparing it to Ext(En,En)=Ext(E1,E1)."
   ]
  },
  {
   "cell_type": "code",
   "execution_count": null,
   "metadata": {},
   "outputs": [],
   "source": [
    "# can comment for a faster run\n",
    "find_exts(cone_E2_E1, En)"
   ]
  },
  {
   "cell_type": "markdown",
   "metadata": {},
   "source": [
    "Note: this is the cohomology of the the unknot with shift (-1,-2).\n",
    "<br>\n",
    "So, we expect cone_E2_E1 to be En[-1,-2]\n",
    "\n",
    "\n",
    "Let's check it.\n",
    "\n",
    "\n",
    "We will find non-nil-homotopic maps\n",
    "<br>\n",
    "u: En[-1,-2] -> cone_E2_E1\n",
    "<br>\n",
    "and\n",
    "<br>\n",
    "v: cone_E2_E1 -> En[-1,-2].\n",
    "\n",
    "\n",
    "Then we compute both their compositions and check that they are homotopic to a scalar.\n",
    "<br>\n",
    "Hence u and v are isomorphisms in the homotopy category\n",
    "<br>\n",
    "[so, also isomorphisms in the derived caterogy]"
   ]
  },
  {
   "cell_type": "code",
   "execution_count": null,
   "metadata": {},
   "outputs": [],
   "source": [
    "En_shifted = En[-1, -2]\n",
    "\n",
    "ext = KLRWHomOfPerfectComplexes(cone_E2_E1, En_shifted).ext(0)\n",
    "assert len(ext.basis()) == 1, len(ext.basis())\n",
    "v = ext.basis()[0]\n",
    "\n",
    "ext = KLRWHomOfPerfectComplexes(En_shifted, cone_E2_E1).ext(0)\n",
    "assert len(ext.basis()) == 1, len(ext.basis())\n",
    "u = ext.basis()[0]\n",
    "\n",
    "rhom_En_shifted = KLRWHomOfPerfectComplexes(En_shifted, En_shifted)\n",
    "ext_En_shifted = rhom_En_shifted.ext(0)\n",
    "hom_En_shifted = ext_En_shifted.hom_of_graded\n",
    "\n",
    "print(\"v*u ~ scalar:\", ext_En_shifted.if_homotopic_to_scalar(v*u))\n",
    "\n",
    "rhom_cone_shifted = KLRWHomOfPerfectComplexes(cone_E2_E1, cone_E2_E1)\n",
    "ext_cone_shifted = rhom_cone_shifted.ext(0)\n",
    "hom_cone_shifted = ext_cone_shifted.hom_of_graded\n",
    "\n",
    "print(\"u*v ~ scalar:\", ext_cone_shifted.if_homotopic_to_scalar(u*v))"
   ]
  },
  {
   "cell_type": "markdown",
   "metadata": {},
   "source": [
    "As expected, En[-1,-2] ~ cone_E2_E1!"
   ]
  },
  {
   "cell_type": "markdown",
   "metadata": {},
   "source": [
    "---"
   ]
  },
  {
   "cell_type": "markdown",
   "metadata": {},
   "source": [
    "\n",
    "\n",
    "Now, let's look at the other cobordism."
   ]
  },
  {
   "cell_type": "code",
   "execution_count": null,
   "metadata": {},
   "outputs": [],
   "source": [
    "# can comment for a faster run\n",
    "find_exts(cone_E1_E2, Ep)"
   ]
  },
  {
   "cell_type": "markdown",
   "metadata": {},
   "source": [
    "Note: this is the cohomology of the the unknot with shift (-1,0).\n",
    "<br>\n",
    "So, we expect cone_E1_E2 to be Ep[-1,0]\n",
    "\n",
    "\n",
    "Let's check it.\n",
    "\n",
    "\n",
    "We will find non-nil-homotopic maps\n",
    "<br>\n",
    "u: Ep[-1,0] -> cone_E1_E2\n",
    "<br>\n",
    "and\n",
    "<br>\n",
    "v: cone_E1_E2 -> Ep[-1,0].\n",
    "\n",
    "\n",
    "Then we compute both their compositions and check that they are homotopic to a scalar.\n",
    "<br>\n",
    "Hence u and v are isomorphisms in the homotopy category\n",
    "<br>\n",
    "[so, also isomorphisms in the derived caterogy]"
   ]
  },
  {
   "cell_type": "code",
   "execution_count": null,
   "metadata": {},
   "outputs": [],
   "source": [
    "Ep_shifted = Ep[-1, 0]\n",
    "\n",
    "ext = KLRWHomOfPerfectComplexes(cone_E1_E2, Ep_shifted).ext(0)\n",
    "assert len(ext.basis()) == 1, len(ext.basis())\n",
    "v = ext.basis()[0]\n",
    "\n",
    "ext = KLRWHomOfPerfectComplexes(Ep_shifted, cone_E1_E2).ext(0)\n",
    "assert len(ext.basis()) == 1, len(ext.basis())\n",
    "u = ext.basis()[0]\n",
    "\n",
    "rhom_Ep_shifted = KLRWHomOfPerfectComplexes(Ep_shifted, Ep_shifted)\n",
    "ext_Ep_shifted = rhom_Ep_shifted.ext(0)\n",
    "hom_Ep_shifted = ext_Ep_shifted.hom_of_graded\n",
    "\n",
    "print(\"v*u ~ scalar:\", ext_Ep_shifted.if_homotopic_to_scalar(v*u))\n",
    "\n",
    "rhom_cone_shifted = KLRWHomOfPerfectComplexes(cone_E1_E2, cone_E1_E2)\n",
    "ext_cone_shifted = rhom_cone_shifted.ext(0)\n",
    "hom_cone_shifted = ext_cone_shifted.hom_of_graded\n",
    "\n",
    "print(\"u*v ~ scalar:\", ext_cone_shifted.if_homotopic_to_scalar(u*v))"
   ]
  },
  {
   "cell_type": "markdown",
   "metadata": {},
   "source": [
    "Cobordisms work as expected!"
   ]
  }
 ],
 "metadata": {
  "kernelspec": {
   "display_name": "SageMath 10.0",
   "language": "sage",
   "name": "SageMath-10.0"
  },
  "language_info": {
   "codemirror_mode": {
    "name": "ipython",
    "version": 3
   },
   "file_extension": ".py",
   "mimetype": "text/x-python",
   "name": "python",
   "nbconvert_exporter": "python",
   "pygments_lexer": "ipython3",
   "version": "3.11.1"
  }
 },
 "nbformat": 4,
 "nbformat_minor": 2
}
