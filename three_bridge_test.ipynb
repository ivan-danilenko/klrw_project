{
 "cells": [
  {
   "cell_type": "code",
   "execution_count": null,
   "id": "6ba59935",
   "metadata": {
    "scrolled": true
   },
   "outputs": [],
   "source": [
    "%run setup.py build_ext --inplace"
   ]
  },
  {
   "cell_type": "code",
   "execution_count": null,
   "id": "344f9395",
   "metadata": {},
   "outputs": [],
   "source": [
    "%pip install xlrd\n",
    "%pip install pandas"
   ]
  },
  {
   "cell_type": "code",
   "execution_count": null,
   "id": "639f8d11",
   "metadata": {},
   "outputs": [],
   "source": [
    "from typing import NamedTuple\n",
    "\n",
    "knot_info_database = \"./KnotInfoDatabase/knotinfo_data_complete.xls\"\n",
    "folder_path = \"./pickles/\"\n",
    "\n",
    "class KnotInput(NamedTuple):\n",
    "    braid: list\n",
    "    n: int  # number of punctures\n",
    "    k: int  # number of E-branes\n",
    "\n",
    "pickle = \"load\"\n",
    "type = \"_reduced\""
   ]
  },
  {
   "cell_type": "code",
   "execution_count": null,
   "id": "3f14a9e6",
   "metadata": {},
   "outputs": [],
   "source": [
    "knots_braids = {\n",
    "    \"3_1\": [1, 2, 1, 2],\n",
    "    \"8_2\": [1, 1, 1, 1, 1, -2, 1, -2],\n",
    "    \"8_5\": [1, 1, 1, -2, 1, 1, 1, -2],\n",
    "    \"8_7\": [-1, -1, -1, -1, 2, -1, 2, 2],\n",
    "    \"8_9\": [1, 1, 1, -2, 1, -2, -2, -2],\n",
    "    \"8_10\": [-1, -1, -1, 2, -1, -1, 2, 2],\n",
    "    \"8_16\": [-1, -1, 2, -1, -1, 2, -1, 2],\n",
    "    \"8_17\": [1, 1, -2, 1, -2, 1, -2, -2],\n",
    "    \"8_18\": [1, -2, 1, -2, 1, -2, 1, -2],\n",
    "    \"8_19\": [1, 1, 1, 2, 1, 1, 1, 2],\n",
    "    \"8_20\": [1, 1, 1, -2, -1, -1, -1, -2],\n",
    "    \"8_21\": [1, 1, 1, 2, -1, -1, 2, 2],\n",
    "}"
   ]
  },
  {
   "cell_type": "code",
   "execution_count": null,
   "id": "47b14174",
   "metadata": {},
   "outputs": [],
   "source": [
    "inputs = {}\n",
    "for name, short_braid in knots_braids.items():\n",
    "    inputs[name] = KnotInput(\n",
    "        braid=[2] + [sign(s)*(abs(s)+2) for s in knots_braids[name]] + [-2],\n",
    "        n=6,\n",
    "        k=2,\n",
    "#        k=3,\n",
    "    )\n",
    "\n",
    "# just to illustrate how to change input\n",
    "#inputs[\"8_2\"] = inputs[\"8_2\"]._replace(max_dots=1, max_order=3)\n",
    "\n",
    "inputs"
   ]
  },
  {
   "cell_type": "code",
   "execution_count": null,
   "id": "ae85b08b",
   "metadata": {},
   "outputs": [],
   "source": [
    "import pandas as pd\n",
    "import re\n",
    "from collections import defaultdict\n",
    "\n",
    "from sage.groups.additive_abelian.additive_abelian_group import AdditiveAbelianGroup\n",
    "\n",
    "grading_group = AdditiveAbelianGroup([0, 0])\n",
    "\n",
    "database_answer = {}\n",
    "\n",
    "df = pd.read_excel(knot_info_database)\n",
    "for name in inputs:\n",
    "    # database_answer[name][grading] has a list of invariant factors\n",
    "    database_answer[name] = defaultdict(list)\n",
    "#    entry_string = df[df['name'] == name]['khovanov_unreduced_integral_vector'].values[0]\n",
    "    entry_string = df[df['name'] == name]['khovanov_reduced_integral_vector'].values[0]\n",
    "    pattern = r'(-?\\d+),\\s*(-?\\d+),\\s*(-?\\d+),\\s*(-?\\d+)'\n",
    "    list_of_strings = re.findall(pattern, entry_string)\n",
    "    for string in list_of_strings:\n",
    "        khovanov_piece = tuple(int(int_str) for int_str in string)\n",
    "        grading = grading_group((khovanov_piece[2], khovanov_piece[3]))\n",
    "        database_answer[name][grading] += [khovanov_piece[0]]*khovanov_piece[1]\n",
    "    for l in database_answer[name].values():\n",
    "        l.sort()\n",
    "\n",
    "    print(database_answer[name])"
   ]
  },
  {
   "cell_type": "code",
   "execution_count": null,
   "id": "f11ab9c3",
   "metadata": {},
   "outputs": [],
   "source": [
    "from klrw.combinatorial_ebranes import CombinatorialEBrane\n",
    "\n",
    "for name, input_data in inputs.items():\n",
    "    if pickle == \"load\":\n",
    "        print(\"================= Checking \" + name + \"=======================\")\n",
    "    else:\n",
    "        print(\"==============================================================\")\n",
    "        print(\"                  Solving \" + name + \"                        \")\n",
    "        print(\"==============================================================\")\n",
    "    E = CombinatorialEBrane(input_data.n, input_data.k)\n",
    "    E.apply_braid(input_data.braid)\n",
    "    try:\n",
    "        hom = E.link_homology(\n",
    "            ZZ,\n",
    "            pickle=pickle,\n",
    "            link_name=name + type,\n",
    "            folder_path=folder_path,\n",
    "            dualize_complex=True,\n",
    "        )\n",
    "\n",
    "        answer = defaultdict(list)\n",
    "        for grading, hom_group in hom.items():\n",
    "            if hom_group.order() != 1:\n",
    "                answer[grading] = sorted(hom_group.invariants())\n",
    "\n",
    "        shift = max(database_answer[name].keys()) - max(answer.keys())\n",
    "\n",
    "        try:\n",
    "            keys = frozenset(database_answer[name].keys())\n",
    "            keys |= frozenset(key + shift for key in answer.keys())\n",
    "            for key in sorted(keys):\n",
    "                assert database_answer[name][key] == answer[key - shift]\n",
    "        except AssertionError:\n",
    "            print(\"The answer does not match!\")\n",
    "        else:\n",
    "            print(\"Match!\")\n",
    "\n",
    "    except AssertionError:\n",
    "        print(name + \" failed.\")\n",
    "    except FileNotFoundError:\n",
    "        print(\"File not found!\")"
   ]
  },
  {
   "cell_type": "code",
   "execution_count": null,
   "id": "0d092500",
   "metadata": {},
   "outputs": [],
   "source": []
  }
 ],
 "metadata": {
  "kernelspec": {
   "display_name": "SageMath 10.0",
   "language": "sage",
   "name": "SageMath-10.0"
  },
  "language_info": {
   "codemirror_mode": {
    "name": "ipython",
    "version": 3
   },
   "file_extension": ".py",
   "mimetype": "text/x-python",
   "name": "python",
   "nbconvert_exporter": "python",
   "pygments_lexer": "ipython3",
   "version": "3.11.1"
  }
 },
 "nbformat": 4,
 "nbformat_minor": 5
}
