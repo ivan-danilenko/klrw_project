{
 "cells": [
  {
   "cell_type": "code",
   "execution_count": 1,
   "id": "6ba59935",
   "metadata": {
    "scrolled": true
   },
   "outputs": [
    {
     "name": "stdout",
     "output_type": "stream",
     "text": [
      "running build_ext\n",
      "building 'klrw.cython_exts.sparse_csc' extension\n",
      "C compiler: x86_64-linux-gnu-gcc -Wno-unused-result -Wsign-compare -DNDEBUG -g -fwrapv -O2 -Wall -g -fstack-protector-strong -Wformat -Werror=format-security -g -fwrapv -O2 -g -fstack-protector-strong -Wformat -Werror=format-security -Wdate-time -D_FORTIFY_SOURCE=2 -fPIC\n",
      "\n",
      "compile options: '-I/usr/lib/python3/dist-packages/numpy/core/include -I/usr/include/python3.10 -c'\n",
      "x86_64-linux-gnu-gcc: /home/elepage/klrw_project/klrw/cython_exts/sparse_csc.c\n"
     ]
    },
    {
     "name": "stderr",
     "output_type": "stream",
     "text": [
      "In file included from /usr/lib/python3/dist-packages/numpy/core/include/numpy/ndarraytypes.h:1969,\n",
      "                 from /usr/lib/python3/dist-packages/numpy/core/include/numpy/ndarrayobject.h:12,\n",
      "                 from /usr/lib/python3/dist-packages/numpy/core/include/numpy/arrayobject.h:4,\n",
      "                 from /home/elepage/klrw_project/klrw/cython_exts/sparse_csc.c:1207:\n",
      "/usr/lib/python3/dist-packages/numpy/core/include/numpy/npy_1_7_deprecated_api.h:17:2: warning: #warning \"Using deprecated NumPy API, disable it with \" \"#define NPY_NO_DEPRECATED_API NPY_1_7_API_VERSION\" [-Wcpp]\n",
      "   17 | #warning \"Using deprecated NumPy API, disable it with \" \\\n",
      "      |  ^~~~~~~\n"
     ]
    },
    {
     "name": "stdout",
     "output_type": "stream",
     "text": [
      "x86_64-linux-gnu-gcc -shared -Wl,-O1 -Wl,-Bsymbolic-functions -Wl,-Bsymbolic-functions -g -fwrapv -O2 -g -fstack-protector-strong -Wformat -Werror=format-security -Wdate-time -D_FORTIFY_SOURCE=2 build/temp.linux-x86_64-3.10/home/elepage/klrw_project/klrw/cython_exts/sparse_csc.o -o build/lib.linux-x86_64-3.10/klrw/cython_exts/sparse_csc.cpython-310-x86_64-linux-gnu.so\n",
      "building 'klrw.cython_exts.sparse_csr' extension\n",
      "C compiler: x86_64-linux-gnu-gcc -Wno-unused-result -Wsign-compare -DNDEBUG -g -fwrapv -O2 -Wall -g -fstack-protector-strong -Wformat -Werror=format-security -g -fwrapv -O2 -g -fstack-protector-strong -Wformat -Werror=format-security -Wdate-time -D_FORTIFY_SOURCE=2 -fPIC\n",
      "\n",
      "compile options: '-I/usr/lib/python3/dist-packages/numpy/core/include -I/usr/include/python3.10 -c'\n",
      "x86_64-linux-gnu-gcc: /home/elepage/klrw_project/klrw/cython_exts/sparse_csr.c\n"
     ]
    },
    {
     "name": "stderr",
     "output_type": "stream",
     "text": [
      "In file included from /usr/lib/python3/dist-packages/numpy/core/include/numpy/ndarraytypes.h:1969,\n",
      "                 from /usr/lib/python3/dist-packages/numpy/core/include/numpy/ndarrayobject.h:12,\n",
      "                 from /usr/lib/python3/dist-packages/numpy/core/include/numpy/arrayobject.h:4,\n",
      "                 from /home/elepage/klrw_project/klrw/cython_exts/sparse_csr.c:1207:\n",
      "/usr/lib/python3/dist-packages/numpy/core/include/numpy/npy_1_7_deprecated_api.h:17:2: warning: #warning \"Using deprecated NumPy API, disable it with \" \"#define NPY_NO_DEPRECATED_API NPY_1_7_API_VERSION\" [-Wcpp]\n",
      "   17 | #warning \"Using deprecated NumPy API, disable it with \" \\\n",
      "      |  ^~~~~~~\n"
     ]
    },
    {
     "name": "stdout",
     "output_type": "stream",
     "text": [
      "x86_64-linux-gnu-gcc -shared -Wl,-O1 -Wl,-Bsymbolic-functions -Wl,-Bsymbolic-functions -g -fwrapv -O2 -g -fstack-protector-strong -Wformat -Werror=format-security -Wdate-time -D_FORTIFY_SOURCE=2 build/temp.linux-x86_64-3.10/home/elepage/klrw_project/klrw/cython_exts/sparse_csr.o -o build/lib.linux-x86_64-3.10/klrw/cython_exts/sparse_csr.cpython-310-x86_64-linux-gnu.so\n",
      "building 'klrw.cython_exts.sparse_multiplication' extension\n",
      "C compiler: x86_64-linux-gnu-gcc -Wno-unused-result -Wsign-compare -DNDEBUG -g -fwrapv -O2 -Wall -g -fstack-protector-strong -Wformat -Werror=format-security -g -fwrapv -O2 -g -fstack-protector-strong -Wformat -Werror=format-security -Wdate-time -D_FORTIFY_SOURCE=2 -fPIC\n",
      "\n",
      "compile options: '-I/usr/lib/python3/dist-packages/numpy/core/include -I/usr/include/python3.10 -c'\n",
      "x86_64-linux-gnu-gcc: /home/elepage/klrw_project/klrw/cython_exts/sparse_multiplication.c\n"
     ]
    },
    {
     "name": "stderr",
     "output_type": "stream",
     "text": [
      "In file included from /usr/lib/python3/dist-packages/numpy/core/include/numpy/ndarraytypes.h:1969,\n",
      "                 from /usr/lib/python3/dist-packages/numpy/core/include/numpy/ndarrayobject.h:12,\n",
      "                 from /usr/lib/python3/dist-packages/numpy/core/include/numpy/arrayobject.h:4,\n",
      "                 from /home/elepage/klrw_project/klrw/cython_exts/sparse_multiplication.c:1207:\n",
      "/usr/lib/python3/dist-packages/numpy/core/include/numpy/npy_1_7_deprecated_api.h:17:2: warning: #warning \"Using deprecated NumPy API, disable it with \" \"#define NPY_NO_DEPRECATED_API NPY_1_7_API_VERSION\" [-Wcpp]\n",
      "   17 | #warning \"Using deprecated NumPy API, disable it with \" \\\n",
      "      |  ^~~~~~~\n"
     ]
    },
    {
     "name": "stdout",
     "output_type": "stream",
     "text": [
      "x86_64-linux-gnu-gcc -shared -Wl,-O1 -Wl,-Bsymbolic-functions -Wl,-Bsymbolic-functions -g -fwrapv -O2 -g -fstack-protector-strong -Wformat -Werror=format-security -Wdate-time -D_FORTIFY_SOURCE=2 build/temp.linux-x86_64-3.10/home/elepage/klrw_project/klrw/cython_exts/sparse_multiplication.o -o build/lib.linux-x86_64-3.10/klrw/cython_exts/sparse_multiplication.cpython-310-x86_64-linux-gnu.so\n",
      "building 'klrw.cython_exts.solver' extension\n",
      "C compiler: x86_64-linux-gnu-gcc -Wno-unused-result -Wsign-compare -DNDEBUG -g -fwrapv -O2 -Wall -g -fstack-protector-strong -Wformat -Werror=format-security -g -fwrapv -O2 -g -fstack-protector-strong -Wformat -Werror=format-security -Wdate-time -D_FORTIFY_SOURCE=2 -fPIC\n",
      "\n",
      "compile options: '-I/usr/lib/python3/dist-packages/numpy/core/include -I/usr/include/python3.10 -c'\n",
      "x86_64-linux-gnu-gcc: /home/elepage/klrw_project/klrw/cython_exts/solver.c\n"
     ]
    },
    {
     "name": "stderr",
     "output_type": "stream",
     "text": [
      "In file included from /usr/lib/python3/dist-packages/numpy/core/include/numpy/ndarraytypes.h:1969,\n",
      "                 from /usr/lib/python3/dist-packages/numpy/core/include/numpy/ndarrayobject.h:12,\n",
      "                 from /usr/lib/python3/dist-packages/numpy/core/include/numpy/arrayobject.h:4,\n",
      "                 from /home/elepage/klrw_project/klrw/cython_exts/solver.c:1214:\n",
      "/usr/lib/python3/dist-packages/numpy/core/include/numpy/npy_1_7_deprecated_api.h:17:2: warning: #warning \"Using deprecated NumPy API, disable it with \" \"#define NPY_NO_DEPRECATED_API NPY_1_7_API_VERSION\" [-Wcpp]\n",
      "   17 | #warning \"Using deprecated NumPy API, disable it with \" \\\n",
      "      |  ^~~~~~~\n",
      "/home/elepage/klrw_project/klrw/cython_exts/solver.c: In function ‘__pyx_pf_4klrw_11cython_exts_6solver_6Solver_16make_corrections’:\n",
      "/home/elepage/klrw_project/klrw/cython_exts/solver.c:1116:40: warning: ‘__pyx_v_number_of_new_indices’ may be used uninitialized in this function [-Wmaybe-uninitialized]\n",
      " 1116 |   #define PyInt_FromLong               PyLong_FromLong\n",
      "      |                                        ^~~~~~~~~~~~~~~\n",
      "/home/elepage/klrw_project/klrw/cython_exts/solver.c:28460:7: note: ‘__pyx_v_number_of_new_indices’ was declared here\n",
      "28460 |   int __pyx_v_number_of_new_indices;\n",
      "      |       ^~~~~~~~~~~~~~~~~~~~~~~~~~~~~\n",
      "/home/elepage/klrw_project/klrw/cython_exts/solver.c:1116:40: warning: ‘__pyx_v_number_of_old_indices’ may be used uninitialized in this function [-Wmaybe-uninitialized]\n",
      " 1116 |   #define PyInt_FromLong               PyLong_FromLong\n",
      "      |                                        ^~~~~~~~~~~~~~~\n",
      "/home/elepage/klrw_project/klrw/cython_exts/solver.c:28459:7: note: ‘__pyx_v_number_of_old_indices’ was declared here\n",
      "28459 |   int __pyx_v_number_of_old_indices;\n",
      "      |       ^~~~~~~~~~~~~~~~~~~~~~~~~~~~~\n"
     ]
    },
    {
     "name": "stdout",
     "output_type": "stream",
     "text": [
      "x86_64-linux-gnu-gcc -shared -Wl,-O1 -Wl,-Bsymbolic-functions -Wl,-Bsymbolic-functions -g -fwrapv -O2 -g -fstack-protector-strong -Wformat -Werror=format-security -Wdate-time -D_FORTIFY_SOURCE=2 build/temp.linux-x86_64-3.10/home/elepage/klrw_project/klrw/cython_exts/solver.o -o build/lib.linux-x86_64-3.10/klrw/cython_exts/solver.cpython-310-x86_64-linux-gnu.so\n",
      "copying build/lib.linux-x86_64-3.10/klrw/cython_exts/sparse_csc.cpython-310-x86_64-linux-gnu.so -> /home/elepage/klrw_project/klrw/cython_exts\n",
      "copying build/lib.linux-x86_64-3.10/klrw/cython_exts/sparse_csr.cpython-310-x86_64-linux-gnu.so -> /home/elepage/klrw_project/klrw/cython_exts\n",
      "copying build/lib.linux-x86_64-3.10/klrw/cython_exts/sparse_multiplication.cpython-310-x86_64-linux-gnu.so -> /home/elepage/klrw_project/klrw/cython_exts\n",
      "copying build/lib.linux-x86_64-3.10/klrw/cython_exts/solver.cpython-310-x86_64-linux-gnu.so -> /home/elepage/klrw_project/klrw/cython_exts\n"
     ]
    }
   ],
   "source": [
    "%run setup.py build_ext --inplace --force"
   ]
  },
  {
   "cell_type": "code",
   "execution_count": 2,
   "id": "1f8ad1d9",
   "metadata": {},
   "outputs": [],
   "source": [
    "from klrw.combinatorial_ebranes import CombinatorialEBrane"
   ]
  },
  {
   "cell_type": "code",
   "execution_count": 5,
   "id": "3f14a9e6",
   "metadata": {},
   "outputs": [
    {
     "name": "stdout",
     "output_type": "stream",
     "text": [
      "****\n",
      "****\n"
     ]
    }
   ],
   "source": [
    "n = 6 #number of punctures\n",
    "k = 2 #number of E-branes\n",
    "\n",
    "I = CombinatorialEBrane(n,k)\n",
    "\n",
    "I.apply_braid([-4,3,-2,1,-3,-3,-2,-4]) #8_19\n",
    "#I.apply_braid([2,3,4,4,4,-3,4,4,4,2]) #8_5\n",
    "\n",
    "knots_braids = {\n",
    "    \"8_2\" : [1,1,1,1,1,-2,1,-2],\n",
    "    \"8_5\" : [1,1,1,-2,1,1,1,-2],\n",
    "    \"8_7\" : [-1,-1,-1,-1,2,-1,2,2],\n",
    "    \"8_9\" : [1,1,1,-2,1,-2,-2,-2],\n",
    "    \"8_10\" : [-1,-1,-1,2,-1,-1,2,2],\n",
    "    \"8_16\" : [-1,-1,2,-1,-1,2,-1,2],\n",
    "    \"8_17\" : [1,1,-2,1,-2,1,-2,-2],\n",
    "    \"8_18\" : [1,-2,1,-2,1,-2,1,-2],\n",
    "    \"8_19\" : [1,1,1,2,1,1,1,2],\n",
    "    \"8_20\" : [1,1,1,-2,-1,-1,-1,-2],\n",
    "    \"8_21\" : [1,1,1,2,-1,-1,2,2]\n",
    "}\n",
    "\n",
    "knot = \"8_2\"\n",
    "braid = [2]+[sign(s)*(abs(s)+2) for s in knots_braids[knot]]+[-2]\n",
    "#I.apply_braid(braid)"
   ]
  },
  {
   "cell_type": "code",
   "execution_count": 6,
   "id": "6abff0ed",
   "metadata": {
    "scrolled": false
   },
   "outputs": [
    {
     "name": "stdout",
     "output_type": "stream",
     "text": [
      "----------Making the initial approximation----------\n",
      "h position:  0 u position:  1\n",
      "d0 squares to zero: False\n",
      "----------Correcting order 1 in u for brane 0----------\n",
      "Making the system\n",
      "We have 11 rows 11 columns\n",
      "Number of terms to correct: 6\n",
      "Transfoming to a symmetric square system\n",
      "Solving the system\n",
      "Found a solution!\n",
      "Correcting 9 matrix elements\n",
      "Correcting the differential\n",
      "d0 squares to zero: False\n",
      "----------Correcting order 2 in u for brane 0----------\n",
      "Making the system\n",
      "We have 6 rows 4 columns\n",
      "Number of terms to correct: 5\n",
      "Transfoming to a symmetric square system\n",
      "Solving the system\n",
      "Found a solution!\n",
      "Correcting 4 matrix elements\n",
      "Correcting the differential\n",
      "d0 squares to zero: True\n",
      "----------Making the initial approximation----------\n",
      "h position:  0 u position:  1\n",
      "d0 squares to zero: False\n",
      "----------Correcting order 1 in u for brane 1----------\n",
      "Making the system\n",
      "We have 21 rows 20 columns\n",
      "Number of terms to correct: 8\n",
      "Zero column in the original matrix: 10\n",
      "Transfoming to a symmetric square system\n",
      "Solving the system\n",
      "Found a solution!\n",
      "Correcting 16 matrix elements\n",
      "Correcting the differential\n",
      "d0 squares to zero: False\n",
      "----------Correcting order 2 in u for brane 1----------\n",
      "Making the system\n",
      "We have 3 rows 3 columns\n",
      "Number of terms to correct: 3\n",
      "Transfoming to a symmetric square system\n",
      "Solving the system\n",
      "Found a solution!\n",
      "Correcting 3 matrix elements\n",
      "Correcting the differential\n",
      "d0 squares to zero: True\n",
      "h position:  0 u position:  1\n",
      "d0 squares to zero: False\n",
      "d0 squares to zero mod (u,h): True\n",
      "d0 squares to zero mod (u^2,h): True\n",
      "d0 squares to zero mod (u^3,h): True\n",
      "d0 squares to zero mod h: True\n",
      "d0 squares to zero mod h^2: False\n",
      "Homological degrees: 9\n",
      "0  :  59\n",
      "-1  :  58\n",
      "-2  :  40\n",
      "1  :  43\n",
      "2  :  22\n",
      "-3  :  18\n",
      "-4  :  4\n",
      "3  :  7\n",
      "4  :  1\n",
      "-4 :: 77\n",
      "-3 :: 921\n",
      "-2 :: 2923\n",
      "-1 :: 4106\n",
      "0 :: 2832\n",
      "1 :: 1050\n",
      "2 :: 186\n",
      "3 :: 7\n",
      "----------Correcting order 1 in h for the product of the first 2 branes----------\n",
      "Making the system\n",
      "We have 20992 rows 12102 columns\n",
      "Number of terms to correct: 710\n",
      "Zero column in the original matrix: 1068\n",
      "Zero column in the original matrix: 2529\n",
      "Zero column in the original matrix: 2530\n",
      "Zero column in the original matrix: 3852\n",
      "Zero column in the original matrix: 10231\n",
      "Transfoming to a symmetric square system\n",
      "Solving the system\n",
      "Found a solution!\n",
      "Correcting 680 matrix elements\n",
      "Correcting the differential\n",
      "d0 squares to zero: False\n",
      "----------Correcting order 2 in h for the product of the first 2 branes----------\n",
      "Making the system\n",
      "We have 20992 rows 12102 columns\n",
      "Number of terms to correct: 560\n",
      "Zero column in the original matrix: 1068\n",
      "Zero column in the original matrix: 2529\n",
      "Zero column in the original matrix: 2530\n",
      "Zero column in the original matrix: 3852\n",
      "Zero column in the original matrix: 10231\n",
      "Transfoming to a symmetric square system\n",
      "Solving the system\n",
      "Found a solution!\n",
      "Correcting 100 matrix elements\n",
      "Correcting the differential\n",
      "d0 squares to zero: False\n",
      "----------Correcting order 3 in h for the product of the first 2 branes----------\n",
      "Making the system\n",
      "We have 20992 rows 12102 columns\n",
      "Number of terms to correct: 8\n",
      "Zero column in the original matrix: 1068\n",
      "Zero column in the original matrix: 2529\n",
      "Zero column in the original matrix: 2530\n",
      "Zero column in the original matrix: 3852\n",
      "Zero column in the original matrix: 10231\n",
      "Transfoming to a symmetric square system\n",
      "Solving the system\n",
      "Found a solution!\n",
      "Correcting 1 matrix elements\n",
      "Correcting the differential\n",
      "d0 squares to zero: True\n"
     ]
    }
   ],
   "source": [
    "I.make_differential(max_number_of_dots=1)"
   ]
  },
  {
   "cell_type": "code",
   "execution_count": 7,
   "id": "25a1d5f7",
   "metadata": {},
   "outputs": [
    {
     "name": "stdout",
     "output_type": "stream",
     "text": [
      "The number of relevant thimbles: 21\n"
     ]
    },
    {
     "data": {
      "text/plain": [
       "{(3, -2): [Integer Ring],\n",
       " (0, 2): [Integer Ring],\n",
       " (1, 2): [Integer Ring],\n",
       " (0, 4): [Integer Ring],\n",
       " (-2, 8): [Integer Ring]}"
      ]
     },
     "execution_count": 7,
     "metadata": {},
     "output_type": "execute_result"
    }
   ],
   "source": [
    "I.find_cohomology(ZZ)"
   ]
  },
  {
   "cell_type": "code",
   "execution_count": null,
   "id": "268489c6",
   "metadata": {},
   "outputs": [],
   "source": []
  }
 ],
 "metadata": {
  "kernelspec": {
   "display_name": "SageMath 9.5",
   "language": "sage",
   "name": "sagemath"
  },
  "language_info": {
   "codemirror_mode": {
    "name": "ipython",
    "version": 3
   },
   "file_extension": ".py",
   "mimetype": "text/x-python",
   "name": "python",
   "nbconvert_exporter": "python",
   "pygments_lexer": "ipython3",
   "version": "3.10.12"
  }
 },
 "nbformat": 4,
 "nbformat_minor": 5
}
