{
 "cells": [
  {
   "cell_type": "code",
   "execution_count": null,
   "id": "6ba59935",
   "metadata": {
    "scrolled": true,
    "vscode": {
     "languageId": "python"
    }
   },
   "outputs": [],
   "source": [
    "%run setup.py build_ext --inplace"
   ]
  },
  {
   "cell_type": "code",
   "execution_count": null,
   "id": "639f8d11",
   "metadata": {
    "vscode": {
     "languageId": "python"
    }
   },
   "outputs": [],
   "source": [
    "from typing import NamedTuple\n",
    "\n",
    "folder_path = \"./pickles/\"\n",
    "\n",
    "class KnotInput(NamedTuple):\n",
    "    braid: list\n",
    "    n: int  # number of punctures\n",
    "    k: int  # number of E-branes"
   ]
  },
  {
   "cell_type": "code",
   "execution_count": null,
   "id": "3f14a9e6",
   "metadata": {
    "vscode": {
     "languageId": "python"
    }
   },
   "outputs": [],
   "source": [
    "knots_braids = {\n",
    "    \"3_1_reduced\": [1, 2, 1, 2],\n",
    "    \"8_2_reduced\": [1, 1, 1, 1, 1, -2, 1, -2],\n",
    "    \"8_5_reduced\": [1, 1, 1, -2, 1, 1, 1, -2],\n",
    "    \"8_7_reduced\": [-1, -1, -1, -1, 2, -1, 2, 2],\n",
    "    \"8_9_reduced\": [1, 1, 1, -2, 1, -2, -2, -2],\n",
    "    \"8_10_reduced\": [-1, -1, -1, 2, -1, -1, 2, 2],\n",
    "    \"8_16_reduced\": [-1, -1, 2, -1, -1, 2, -1, 2],\n",
    "    \"8_17_reduced\": [1, 1, -2, 1, -2, 1, -2, -2],\n",
    "    \"8_18_reduced\": [1, -2, 1, -2, 1, -2, 1, -2],\n",
    "    \"8_19_reduced\": [1, 1, 1, 2, 1, 1, 1, 2],\n",
    "    \"8_20_reduced\": [1, 1, 1, -2, -1, -1, -1, -2],\n",
    "    \"8_21_reduced\": [1, 1, 1, 2, -1, -1, 2, 2],\n",
    "}"
   ]
  },
  {
   "cell_type": "code",
   "execution_count": null,
   "id": "47b14174",
   "metadata": {
    "vscode": {
     "languageId": "python"
    }
   },
   "outputs": [],
   "source": [
    "inputs = {}\n",
    "for name, short_braid in knots_braids.items():\n",
    "    inputs[name] = KnotInput(\n",
    "        braid=[2] + [sign(s)*(abs(s)+2) for s in knots_braids[name]] + [-2],\n",
    "        n=6,\n",
    "        k=2,\n",
    "    )\n",
    "\n",
    "# just to illustrate how to change input\n",
    "#inputs[\"8_2\"] = inputs[\"8_2\"]._replace(max_dots=1, max_order=3)\n",
    "\n",
    "inputs"
   ]
  },
  {
   "cell_type": "code",
   "execution_count": null,
   "id": "f11ab9c3",
   "metadata": {
    "vscode": {
     "languageId": "python"
    }
   },
   "outputs": [],
   "source": [
    "from klrw.combinatorial_ebranes import CombinatorialEBrane\n",
    "\n",
    "for name, input_data in inputs.items():\n",
    "    print(\"==============================================================\")\n",
    "    print(\"                        Solving \"+name+\"                        \")\n",
    "    print(\"==============================================================\")\n",
    "    E = CombinatorialEBrane(input_data.n,input_data.k)\n",
    "    E.apply_braid(input_data.braid)\n",
    "    try:\n",
    "        E.link_homology(\n",
    "            ZZ,\n",
    "            pickle=\"save\",\n",
    "            link_name=name,\n",
    "            folder_path=\"./\",\n",
    "        )\n",
    "\n",
    "    except AssertionError:\n",
    "        print(name+\" failed.\")\n",
    "\n"
   ]
  },
  {
   "cell_type": "code",
   "execution_count": null,
   "id": "b149795e",
   "metadata": {
    "vscode": {
     "languageId": "python"
    }
   },
   "outputs": [],
   "source": []
  }
 ],
 "metadata": {
  "kernelspec": {
   "display_name": "SageMath 10.0",
   "language": "sage",
   "name": "SageMath-10.0"
  },
  "language_info": {
   "codemirror_mode": {
    "name": "ipython",
    "version": 3
   },
   "file_extension": ".py",
   "mimetype": "text/x-python",
   "name": "sage",
   "nbconvert_exporter": "python",
   "pygments_lexer": "ipython3",
   "version": "3.11.1"
  }
 },
 "nbformat": 4,
 "nbformat_minor": 5
}
