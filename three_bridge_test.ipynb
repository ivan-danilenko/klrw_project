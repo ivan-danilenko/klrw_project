{
 "cells": [
  {
   "cell_type": "code",
   "execution_count": null,
   "id": "6ba59935",
   "metadata": {
    "scrolled": true
   },
   "outputs": [],
   "source": [
    "%run setup.py build_ext --inplace"
   ]
  },
  {
   "cell_type": "code",
   "execution_count": null,
   "id": "1f8ad1d9",
   "metadata": {},
   "outputs": [],
   "source": [
    "from klrw.combinatorial_ebranes import CombinatorialEBrane"
   ]
  },
  {
   "cell_type": "code",
   "execution_count": null,
   "id": "3f14a9e6",
   "metadata": {},
   "outputs": [],
   "source": [
    "n = 6 #number of punctures\n",
    "k = 2 #number of E-branes\n",
    "\n",
    "I = CombinatorialEBrane(n,k)\n",
    "\n",
    "I.apply_braid([-4,3,-2,1,-3,-3,-2,-4]) #8_19\n",
    "#I.apply_braid([2,3,4,4,4,-3,4,4,4,2]) #8_5\n",
    "\n",
    "knots_braids = {\n",
    "    \"8_2\" : [1,1,1,1,1,-2,1,-2],\n",
    "    \"8_5\" : [1,1,1,-2,1,1,1,-2],\n",
    "    \"8_7\" : [-1,-1,-1,-1,2,-1,2,2],\n",
    "    \"8_9\" : [1,1,1,-2,1,-2,-2,-2],\n",
    "    \"8_10\" : [-1,-1,-1,2,-1,-1,2,2],\n",
    "    \"8_16\" : [-1,-1,2,-1,-1,2,-1,2],\n",
    "    \"8_17\" : [1,1,-2,1,-2,1,-2,-2],\n",
    "    \"8_18\" : [1,-2,1,-2,1,-2,1,-2],\n",
    "    \"8_19\" : [1,1,1,2,1,1,1,2],\n",
    "    \"8_20\" : [1,1,1,-2,-1,-1,-1,-2],\n",
    "    \"8_21\" : [1,1,1,2,-1,-1,2,2]\n",
    "}\n",
    "\n",
    "knot = \"8_2\"\n",
    "braid = [2]+[sign(s)*(abs(s)+2) for s in knots_braids[knot]]+[-2]\n",
    "#I.apply_braid(braid)"
   ]
  },
  {
   "cell_type": "code",
   "execution_count": null,
   "id": "6abff0ed",
   "metadata": {
    "scrolled": false
   },
   "outputs": [],
   "source": [
    "I.make_differential(max_number_of_dots=1, method=\"pypardiso\")"
   ]
  },
  {
   "cell_type": "code",
   "execution_count": null,
   "id": "25a1d5f7",
   "metadata": {},
   "outputs": [],
   "source": [
    "I.find_cohomology(ZZ)"
   ]
  },
  {
   "cell_type": "code",
   "execution_count": null,
   "id": "268489c6",
   "metadata": {},
   "outputs": [],
   "source": []
  }
 ],
 "metadata": {
  "kernelspec": {
   "display_name": "SageMath 10.0",
   "language": "sage",
   "name": "SageMath-10.0"
  },
  "language_info": {
   "codemirror_mode": {
    "name": "ipython",
    "version": 3
   },
   "file_extension": ".py",
   "mimetype": "text/x-python",
   "name": "python",
   "nbconvert_exporter": "python",
   "pygments_lexer": "ipython3",
   "version": "3.11.1"
  }
 },
 "nbformat": 4,
 "nbformat_minor": 5
}
