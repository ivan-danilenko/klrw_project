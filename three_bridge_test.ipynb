{
 "cells": [
  {
   "cell_type": "code",
   "execution_count": null,
   "id": "6ba59935",
   "metadata": {
    "scrolled": true
   },
   "outputs": [],
   "source": [
    "%run setup.py build_ext --inplace"
   ]
  },
  {
   "cell_type": "code",
   "execution_count": null,
   "id": "1f8ad1d9",
   "metadata": {},
   "outputs": [],
   "source": [
    "from klrw.combinatorial_ebranes import CombinatorialEBrane"
   ]
  },
  {
   "cell_type": "code",
   "execution_count": null,
   "id": "639f8d11",
   "metadata": {},
   "outputs": [],
   "source": [
    "from typing import NamedTuple\n",
    "\n",
    "\n",
    "class KnotInput(NamedTuple):\n",
    "    braid: list\n",
    "    n: int  # number of punctures\n",
    "    k: int  # number of E-branes\n",
    "    max_dots: int\n",
    "    max_order: int\n",
    "    method: str"
   ]
  },
  {
   "cell_type": "code",
   "execution_count": null,
   "id": "3f14a9e6",
   "metadata": {},
   "outputs": [],
   "source": [
    "knots_braids = {\n",
    "    \"3_1\": [1, 2, 1, 2],\n",
    "    \"8_2\": [1, 1, 1, 1, 1, -2, 1, -2],\n",
    "    \"8_5\": [1, 1, 1, -2, 1, 1, 1, -2],\n",
    "    \"8_7\": [-1, -1, -1, -1, 2, -1, 2, 2],\n",
    "    \"8_9\": [1, 1, 1, -2, 1, -2, -2, -2],\n",
    "    \"8_10\": [-1, -1, -1, 2, -1, -1, 2, 2],\n",
    "    \"8_16\": [-1, -1, 2, -1, -1, 2, -1, 2],\n",
    "    \"8_17\": [1, 1, -2, 1, -2, 1, -2, -2],\n",
    "    \"8_18\": [1, -2, 1, -2, 1, -2, 1, -2],\n",
    "    \"8_19\": [1, 1, 1, 2, 1, 1, 1, 2],\n",
    "    \"8_20\": [1, 1, 1, -2, -1, -1, -1, -2],\n",
    "    \"8_21\": [1, 1, 1, 2, -1, -1, 2, 2],\n",
    "}"
   ]
  },
  {
   "cell_type": "code",
   "execution_count": null,
   "id": "47b14174",
   "metadata": {},
   "outputs": [],
   "source": [
    "inputs = {}\n",
    "for name, short_braid in knots_braids.items():\n",
    "    inputs[name] = KnotInput(\n",
    "        braid=[2] + [sign(s)*(abs(s)+2) for s in knots_braids[name]] + [-2],\n",
    "        n=6,\n",
    "        k=2,\n",
    "        max_dots=1,\n",
    "        max_order=5,\n",
    "        method=\"cg\",\n",
    "    )\n",
    "\n",
    "# just to illustrate how to change input\n",
    "#inputs[\"8_2\"] = inputs[\"8_2\"]._replace(max_dots=1, max_order=3)\n",
    "\n",
    "inputs"
   ]
  },
  {
   "cell_type": "code",
   "execution_count": null,
   "id": "f11ab9c3",
   "metadata": {},
   "outputs": [],
   "source": [
    "for name, input_data in inputs.items():\n",
    "    print(\"==============================================================\")\n",
    "    print(\"                        Solving \"+name+\"                        \")\n",
    "    print(\"==============================================================\")\n",
    "    I = CombinatorialEBrane(input_data.n,input_data.k)\n",
    "    I.apply_braid(input_data.braid)\n",
    "    try:\n",
    "        I.make_differential(\n",
    "            max_number_of_dots=input_data.max_dots,\n",
    "            max_order_in_hbar=input_data.max_order,\n",
    "            method=input_data.method,\n",
    "        )\n",
    "        from pickle import dump\n",
    "\n",
    "        with open(name+\"_ebrane_local\", \"wb\") as f:\n",
    "            dump(I, file=f)\n",
    "\n",
    "    except AssertionError:\n",
    "        print(name+\" failed.\")\n",
    "\n"
   ]
  },
  {
   "cell_type": "code",
   "execution_count": null,
   "id": "b149795e",
   "metadata": {},
   "outputs": [],
   "source": []
  }
 ],
 "metadata": {
  "kernelspec": {
   "display_name": "SageMath 10.0",
   "language": "sage",
   "name": "SageMath-10.0"
  },
  "language_info": {
   "codemirror_mode": {
    "name": "ipython",
    "version": 3
   },
   "file_extension": ".py",
   "mimetype": "text/x-python",
   "name": "python",
   "nbconvert_exporter": "python",
   "pygments_lexer": "ipython3",
   "version": "3.11.1"
  }
 },
 "nbformat": 4,
 "nbformat_minor": 5
}
