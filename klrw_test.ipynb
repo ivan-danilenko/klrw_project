{
 "cells": [
  {
   "cell_type": "code",
   "execution_count": null,
   "id": "61daa4df-c70f-4d85-8e10-8d025f0a38ae",
   "metadata": {
    "vscode": {
     "languageId": "python"
    }
   },
   "outputs": [],
   "source": [
    "from klrw.framed_dynkin import FramedDynkinDiagram_with_dimensions, NodeInFramedQuiver\n",
    "from klrw.klrw_tests import KLRWAlgebraWithTests"
   ]
  },
  {
   "cell_type": "code",
   "execution_count": null,
   "id": "e7edd653-7603-4591-bea5-9c8a2b91cc29",
   "metadata": {
    "vscode": {
     "languageId": "python"
    }
   },
   "outputs": [],
   "source": [
    "DD = FramedDynkinDiagram_with_dimensions(CartanType([\"B\",2]))\n",
    "DD.inject_nodes(scope = globals())\n",
    "DD[W1] = 0\n",
    "DD[V1] = 1\n",
    "DD[W2] = 2\n",
    "DD[V2] = 2\n",
    "\n",
    "DD"
   ]
  },
  {
   "cell_type": "code",
   "execution_count": null,
   "id": "8587c72c-eea5-40c0-a8c0-84ba7931dc03",
   "metadata": {
    "vscode": {
     "languageId": "python"
    }
   },
   "outputs": [],
   "source": [
    "KLRW = KLRWAlgebraWithTests(QQ,DD, warnings = False, vertex_prefix=\"h\")#, default_vertex_parameter=QQ(1), default_edge_parameter=QQ(1))\n",
    "%time KLRW.check()"
   ]
  },
  {
   "cell_type": "code",
   "execution_count": null,
   "id": "ce666314-f2c8-4684-9b91-eae721fa172c",
   "metadata": {
    "vscode": {
     "languageId": "python"
    }
   },
   "outputs": [],
   "source": []
  }
 ],
 "metadata": {
  "kernelspec": {
   "display_name": "SageMath 10.0",
   "language": "sage",
   "name": "SageMath-10.0"
  },
  "language_info": {
   "codemirror_mode": {
    "name": "ipython",
    "version": 3
   },
   "file_extension": ".py",
   "mimetype": "text/x-python",
   "name": "sage",
   "nbconvert_exporter": "python",
   "pygments_lexer": "ipython3",
   "version": "3.11.1"
  },
  "vscode": {
   "interpreter": {
    "hash": "aee8b7b246df8f9039afb4144a1f6fd8d2ca17a180786b69acc140d282b71a49"
   }
  }
 },
 "nbformat": 4,
 "nbformat_minor": 5
}
