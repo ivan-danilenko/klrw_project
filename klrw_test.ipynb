{
 "cells": [
  {
   "cell_type": "code",
   "execution_count": 1,
   "id": "61daa4df-c70f-4d85-8e10-8d025f0a38ae",
   "metadata": {},
   "outputs": [],
   "source": [
    "from klrw.framed_dynkin import FramedDynkinDiagram_with_dimensions, NodeInFramedQuiver\n",
    "from klrw.klrw_tests import KLRWAlgebraWithTests"
   ]
  },
  {
   "cell_type": "code",
   "execution_count": 2,
   "id": "e7edd653-7603-4591-bea5-9c8a2b91cc29",
   "metadata": {},
   "outputs": [
    {
     "name": "stdout",
     "output_type": "stream",
     "text": [
      "Defining V1, W1, V2, W2\n"
     ]
    },
    {
     "data": {
      "text/plain": [
       "0   2   \n",
       "W1  W2  \n",
       "□   □\n",
       "|   |\n",
       "◯=>=◯\n",
       "V1  V2  \n",
       "1   2   "
      ]
     },
     "execution_count": 2,
     "metadata": {},
     "output_type": "execute_result"
    }
   ],
   "source": [
    "DD = FramedDynkinDiagram_with_dimensions(CartanType([\"B\",2]))\n",
    "DD.inject_nodes(scope = globals())\n",
    "DD[W1] = 0\n",
    "DD[V1] = 1\n",
    "DD[W2] = 2\n",
    "DD[V2] = 2\n",
    "\n",
    "DD"
   ]
  },
  {
   "cell_type": "code",
   "execution_count": 3,
   "id": "8587c72c-eea5-40c0-a8c0-84ba7931dc03",
   "metadata": {},
   "outputs": [
    {
     "name": "stdout",
     "output_type": "stream",
     "text": [
      "Multivariate Polynomial Ring in h_1, h_2, u_1, t_1_2, t_2_1, u_2, x_1_1, x_2_1, x_2_2 over Rational Field\n",
      "3600\n",
      "Checking linearity of the right dot action.\n"
     ]
    },
    {
     "ename": "KeyboardInterrupt",
     "evalue": "",
     "output_type": "error",
     "traceback": [
      "\u001b[0;31m---------------------------------------------------------------------------\u001b[0m",
      "\u001b[0;31mKeyboardInterrupt\u001b[0m                         Traceback (most recent call last)",
      "File \u001b[0;32m<timed eval>:1\u001b[0m\n",
      "File \u001b[0;32m~/SageMath/klrw_algebra/klrw/klrw_tests.py:9\u001b[0m, in \u001b[0;36mKLRWAlgebraWithTests.check\u001b[0;34m(self)\u001b[0m\n\u001b[1;32m      7\u001b[0m \u001b[38;5;28;01mdef\u001b[39;00m \u001b[38;5;21mcheck\u001b[39m(\u001b[38;5;28mself\u001b[39m):\n\u001b[1;32m      8\u001b[0m     \u001b[38;5;28mprint\u001b[39m(\u001b[38;5;124m\"\u001b[39m\u001b[38;5;124mChecking linearity of the right dot action.\u001b[39m\u001b[38;5;124m\"\u001b[39m)\n\u001b[0;32m----> 9\u001b[0m     \u001b[38;5;28;43mself\u001b[39;49m\u001b[38;5;241;43m.\u001b[39;49m\u001b[43mcheck_linearity_of_right_dots_action_over_center\u001b[49m\u001b[43m(\u001b[49m\u001b[43m)\u001b[49m\n\u001b[1;32m     10\u001b[0m     \u001b[38;5;28mprint\u001b[39m(\u001b[38;5;124m\"\u001b[39m\u001b[38;5;124mChecking relations.\u001b[39m\u001b[38;5;124m\"\u001b[39m)\n\u001b[1;32m     11\u001b[0m     \u001b[38;5;28mself\u001b[39m\u001b[38;5;241m.\u001b[39mcheck_relations()\n",
      "File \u001b[0;32m~/SageMath/klrw_algebra/klrw/klrw_tests.py:109\u001b[0m, in \u001b[0;36mKLRWAlgebraWithTests.check_linearity_of_right_dots_action_over_center\u001b[0;34m(self)\u001b[0m\n\u001b[1;32m    100\u001b[0m \u001b[38;5;66;03m# print(sum(1 for _ in iterator_over_elements_in_center))\u001b[39;00m\n\u001b[1;32m    101\u001b[0m \u001b[38;5;66;03m# print(sum(1 for _ in self.basis_over_center()))\u001b[39;00m\n\u001b[1;32m    102\u001b[0m \u001b[38;5;66;03m# print(sum(1 for _ in self.basis_in_dots_modulo_center()))\u001b[39;00m\n\u001b[1;32m    103\u001b[0m \u001b[38;5;28;01mfor\u001b[39;00m x, c, d \u001b[38;5;129;01min\u001b[39;00m product(\n\u001b[1;32m    104\u001b[0m     \u001b[38;5;28mself\u001b[39m\u001b[38;5;241m.\u001b[39mbasis_over_center(),\n\u001b[1;32m    105\u001b[0m     iterator_over_elements_in_center,\n\u001b[1;32m    106\u001b[0m     \u001b[38;5;28mself\u001b[39m\u001b[38;5;241m.\u001b[39mbasis_in_dots_modulo_center(),\n\u001b[1;32m    107\u001b[0m ):\n\u001b[1;32m    108\u001b[0m     \u001b[38;5;28;01massert\u001b[39;00m (\n\u001b[0;32m--> 109\u001b[0m         x \u001b[38;5;241m*\u001b[39m (c \u001b[38;5;241m*\u001b[39m d) \u001b[38;5;241m==\u001b[39m \u001b[43m(\u001b[49m\u001b[43mc\u001b[49m\u001b[43m \u001b[49m\u001b[38;5;241;43m*\u001b[39;49m\u001b[43m \u001b[49m\u001b[43mx\u001b[49m\u001b[43m)\u001b[49m\u001b[43m \u001b[49m\u001b[38;5;241;43m*\u001b[39;49m\u001b[43m \u001b[49m\u001b[43md\u001b[49m\n\u001b[1;32m    110\u001b[0m     ), \u001b[38;5;124m\"\u001b[39m\u001b[38;5;124mIssue with \u001b[39m\u001b[38;5;132;01m{0}\u001b[39;00m\u001b[38;5;124m*(\u001b[39m\u001b[38;5;132;01m{1}\u001b[39;00m\u001b[38;5;124m*\u001b[39m\u001b[38;5;132;01m{2}\u001b[39;00m\u001b[38;5;124m) == (\u001b[39m\u001b[38;5;132;01m{1}\u001b[39;00m\u001b[38;5;124m*\u001b[39m\u001b[38;5;132;01m{0}\u001b[39;00m\u001b[38;5;124m)*\u001b[39m\u001b[38;5;132;01m{2}\u001b[39;00m\u001b[38;5;124m\"\u001b[39m\u001b[38;5;241m.\u001b[39mformat(x, c, d)\n\u001b[1;32m    111\u001b[0m     count \u001b[38;5;241m+\u001b[39m\u001b[38;5;241m=\u001b[39m \u001b[38;5;241m1\u001b[39m\n\u001b[1;32m    112\u001b[0m     \u001b[38;5;28;01mif\u001b[39;00m count \u001b[38;5;241m%\u001b[39m \u001b[38;5;241m1000000\u001b[39m \u001b[38;5;241m==\u001b[39m \u001b[38;5;241m0\u001b[39m:\n",
      "File \u001b[0;32m/private/var/tmp/sage-10.0-current/local/var/lib/sage/venv-python3.11.1/lib/python3.11/site-packages/sage/structure/element.pyx:1516\u001b[0m, in \u001b[0;36msage.structure.element.Element.__mul__ (build/cythonized/sage/structure/element.c:12385)\u001b[0;34m()\u001b[0m\n\u001b[1;32m   1514\u001b[0m     return (<Element>left)._mul_(right)\n\u001b[1;32m   1515\u001b[0m if BOTH_ARE_ELEMENT(cl):\n\u001b[0;32m-> 1516\u001b[0m     return coercion_model.bin_op(left, right, mul)\n\u001b[1;32m   1517\u001b[0m \n\u001b[1;32m   1518\u001b[0m cdef long value\n",
      "File \u001b[0;32m/private/var/tmp/sage-10.0-current/local/var/lib/sage/venv-python3.11.1/lib/python3.11/site-packages/sage/structure/coerce.pyx:1196\u001b[0m, in \u001b[0;36msage.structure.coerce.CoercionModel.bin_op (build/cythonized/sage/structure/coerce.c:10748)\u001b[0;34m()\u001b[0m\n\u001b[1;32m   1194\u001b[0m         return (<Action>action)._act_(x, y)\n\u001b[1;32m   1195\u001b[0m     else:\n\u001b[0;32m-> 1196\u001b[0m         return (<Action>action)._act_(y, x)\n\u001b[1;32m   1197\u001b[0m \n\u001b[1;32m   1198\u001b[0m # Now coerce to a common parent and do the operation there\n",
      "File \u001b[0;32m/private/var/tmp/sage-10.0-current/local/var/lib/sage/venv-python3.11.1/lib/python3.11/site-packages/sage/categories/action.pyx:192\u001b[0m, in \u001b[0;36msage.categories.action.Action._act_ (build/cythonized/sage/categories/action.c:4216)\u001b[0;34m()\u001b[0m\n\u001b[1;32m    190\u001b[0m     return self._act_(g, x)\n\u001b[1;32m    191\u001b[0m \n\u001b[0;32m--> 192\u001b[0m cpdef _act_(self, g, x):\n\u001b[1;32m    193\u001b[0m     \"\"\"\n\u001b[1;32m    194\u001b[0m     Let ``g`` act on ``x`` under this action.\n",
      "File \u001b[0;32m~/SageMath/klrw_algebra/klrw/klrw_algebra.py:124\u001b[0m, in \u001b[0;36mRightDotAction._act_\u001b[0;34m(self, p, x)\u001b[0m\n\u001b[1;32m    123\u001b[0m \u001b[38;5;28;01mdef\u001b[39;00m \u001b[38;5;21m_act_\u001b[39m(\u001b[38;5;28mself\u001b[39m, p, x: IndexedFreeModuleElement) \u001b[38;5;241m-\u001b[39m\u001b[38;5;241m>\u001b[39m IndexedFreeModuleElement:\n\u001b[0;32m--> 124\u001b[0m     \u001b[38;5;28;01mreturn\u001b[39;00m \u001b[38;5;28;43mself\u001b[39;49m\u001b[38;5;241;43m.\u001b[39;49m\u001b[43mcodomain\u001b[49m\u001b[43m(\u001b[49m\u001b[43m)\u001b[49m\u001b[38;5;241;43m.\u001b[39;49m\u001b[43mlinear_combination\u001b[49m\u001b[43m(\u001b[49m\n\u001b[1;32m    125\u001b[0m \u001b[43m        \u001b[49m\u001b[43m(\u001b[49m\u001b[38;5;28;43mself\u001b[39;49m\u001b[38;5;241;43m.\u001b[39;49m\u001b[43m_act_on_bases_\u001b[49m\u001b[43m(\u001b[49m\u001b[43mexp_tuple\u001b[49m\u001b[43m,\u001b[49m\u001b[43m \u001b[49m\u001b[43mbraid\u001b[49m\u001b[43m)\u001b[49m\u001b[43m,\u001b[49m\u001b[43m \u001b[49m\u001b[43mcoeff\u001b[49m\u001b[43m \u001b[49m\u001b[38;5;241;43m*\u001b[39;49m\u001b[43m \u001b[49m\u001b[43mleft_poly\u001b[49m\u001b[43m)\u001b[49m\n\u001b[1;32m    126\u001b[0m \u001b[43m        \u001b[49m\u001b[38;5;28;43;01mfor\u001b[39;49;00m\u001b[43m \u001b[49m\u001b[43mexp_tuple\u001b[49m\u001b[43m,\u001b[49m\u001b[43m \u001b[49m\u001b[43mcoeff\u001b[49m\u001b[43m \u001b[49m\u001b[38;5;129;43;01min\u001b[39;49;00m\u001b[43m \u001b[49m\u001b[43mp\u001b[49m\u001b[38;5;241;43m.\u001b[39;49m\u001b[43miterator_exp_coeff\u001b[49m\u001b[43m(\u001b[49m\u001b[43mas_ETuples\u001b[49m\u001b[38;5;241;43m=\u001b[39;49m\u001b[38;5;28;43;01mTrue\u001b[39;49;00m\u001b[43m)\u001b[49m\n\u001b[1;32m    127\u001b[0m \u001b[43m        \u001b[49m\u001b[38;5;28;43;01mfor\u001b[39;49;00m\u001b[43m \u001b[49m\u001b[43mbraid\u001b[49m\u001b[43m,\u001b[49m\u001b[43m \u001b[49m\u001b[43mleft_poly\u001b[49m\u001b[43m \u001b[49m\u001b[38;5;129;43;01min\u001b[39;49;00m\u001b[43m \u001b[49m\u001b[43mx\u001b[49m\n\u001b[1;32m    128\u001b[0m \u001b[43m    \u001b[49m\u001b[43m)\u001b[49m\n",
      "File \u001b[0;32m/private/var/tmp/sage-10.0-current/local/var/lib/sage/venv-python3.11.1/lib/python3.11/site-packages/sage/combinat/free_module.py:1066\u001b[0m, in \u001b[0;36mCombinatorialFreeModule.linear_combination\u001b[0;34m(self, iter_of_elements_coeff, factor_on_left)\u001b[0m\n\u001b[1;32m   1042\u001b[0m \u001b[38;5;28;01mdef\u001b[39;00m \u001b[38;5;21mlinear_combination\u001b[39m(\u001b[38;5;28mself\u001b[39m, iter_of_elements_coeff, factor_on_left\u001b[38;5;241m=\u001b[39m\u001b[38;5;28;01mTrue\u001b[39;00m):\n\u001b[1;32m   1043\u001b[0m     \u001b[38;5;124mr\u001b[39m\u001b[38;5;124;03m\"\"\"\u001b[39;00m\n\u001b[1;32m   1044\u001b[0m \u001b[38;5;124;03m    Return the linear combination `\\lambda_1 v_1 + \\cdots +\u001b[39;00m\n\u001b[1;32m   1045\u001b[0m \u001b[38;5;124;03m    \\lambda_k v_k` (resp.  the linear combination `v_1 \\lambda_1 +\u001b[39;00m\n\u001b[0;32m   (...)\u001b[0m\n\u001b[1;32m   1064\u001b[0m \u001b[38;5;124;03m        20*B[1] + 20*B[2]\u001b[39;00m\n\u001b[1;32m   1065\u001b[0m \u001b[38;5;124;03m    \"\"\"\u001b[39;00m\n\u001b[0;32m-> 1066\u001b[0m     \u001b[38;5;28;01mreturn\u001b[39;00m \u001b[38;5;28mself\u001b[39m\u001b[38;5;241m.\u001b[39m_from_dict(\u001b[43mblas\u001b[49m\u001b[38;5;241;43m.\u001b[39;49m\u001b[43mlinear_combination\u001b[49m\u001b[43m(\u001b[49m\u001b[43m(\u001b[49m\u001b[43m(\u001b[49m\u001b[43melement\u001b[49m\u001b[38;5;241;43m.\u001b[39;49m\u001b[43m_monomial_coefficients\u001b[49m\u001b[43m,\u001b[49m\u001b[43m \u001b[49m\u001b[43mcoeff\u001b[49m\u001b[43m)\u001b[49m\n\u001b[1;32m   1067\u001b[0m \u001b[43m                                                    \u001b[49m\u001b[38;5;28;43;01mfor\u001b[39;49;00m\u001b[43m \u001b[49m\u001b[43melement\u001b[49m\u001b[43m,\u001b[49m\u001b[43m \u001b[49m\u001b[43mcoeff\u001b[49m\u001b[43m \u001b[49m\u001b[38;5;129;43;01min\u001b[39;49;00m\u001b[43m \u001b[49m\u001b[43miter_of_elements_coeff\u001b[49m\u001b[43m)\u001b[49m\u001b[43m,\u001b[49m\n\u001b[1;32m   1068\u001b[0m \u001b[43m                                                   \u001b[49m\u001b[43mfactor_on_left\u001b[49m\u001b[38;5;241;43m=\u001b[39;49m\u001b[43mfactor_on_left\u001b[49m\u001b[43m)\u001b[49m,\n\u001b[1;32m   1069\u001b[0m                            remove_zeros\u001b[38;5;241m=\u001b[39m\u001b[38;5;28;01mFalse\u001b[39;00m)\n",
      "File \u001b[0;32msrc/cysignals/signals.pyx:310\u001b[0m, in \u001b[0;36mcysignals.signals.python_check_interrupt\u001b[0;34m()\u001b[0m\n",
      "\u001b[0;31mKeyboardInterrupt\u001b[0m: "
     ]
    }
   ],
   "source": [
    "KLRW = KLRWAlgebraWithTests(QQ,DD, warnings = False, vertex_prefix=\"h\")#, default_vertex_parameter=QQ(1), default_edge_parameter=QQ(1))\n",
    "print(KLRW.base())\n",
    "print(sum(1 for _ in KLRW.basis_over_center()))\n",
    "#KRLW.check_associativity(KRLW.basis_over_dots_and_center(),KRLW.gens_over_dots(),KRLW.basis_in_dots_modulo_center())\n",
    "%time KLRW.check()\n",
    "#%time KLRW.check()"
   ]
  },
  {
   "cell_type": "code",
   "execution_count": null,
   "id": "ce666314-f2c8-4684-9b91-eae721fa172c",
   "metadata": {},
   "outputs": [],
   "source": []
  }
 ],
 "metadata": {
  "kernelspec": {
   "display_name": "SageMath 10.0",
   "language": "sage",
   "name": "SageMath-10.0"
  },
  "language_info": {
   "codemirror_mode": {
    "name": "ipython",
    "version": 3
   },
   "file_extension": ".py",
   "mimetype": "text/x-python",
   "name": "python",
   "nbconvert_exporter": "python",
   "pygments_lexer": "ipython3",
   "version": "3.11.1"
  },
  "vscode": {
   "interpreter": {
    "hash": "aee8b7b246df8f9039afb4144a1f6fd8d2ca17a180786b69acc140d282b71a49"
   }
  }
 },
 "nbformat": 4,
 "nbformat_minor": 5
}
