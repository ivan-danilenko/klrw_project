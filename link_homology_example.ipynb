{
 "cells": [
  {
   "cell_type": "code",
   "execution_count": null,
   "metadata": {},
   "outputs": [],
   "source": [
    "from klrw.bridge_links import BridgeLink\n",
    "\n",
    "# create a bridge link\n",
    "bk = BridgeLink(2,(2,))\n",
    "\n",
    "# choose an orientation\n",
    "# there are two orientations for a knot, so we can choose [0] or [1]\n",
    "or_ = bk.orientations()[1]\n",
    "print(or_.ascii_art())"
   ]
  },
  {
   "cell_type": "code",
   "execution_count": null,
   "metadata": {},
   "outputs": [],
   "source": [
    "from klrw.standard_ebranes import minuscule_weights\n",
    "\n",
    "# now color by the minuscule weight of B2.\n",
    "Phi = RootSystem([\"B\", 2])\n",
    "lam = minuscule_weights(Phi)[0]\n",
    "col = or_.set_colors(lam)\n",
    "\n",
    "# compute reduced link homology!\n",
    "# col.link_homology(base_ring=GF(2), reduced_cycle=0)\n",
    "col.poincare_polynomial(base_field=GF(2), reduced_cycle=0)"
   ]
  },
  {
   "cell_type": "code",
   "execution_count": null,
   "metadata": {},
   "outputs": [],
   "source": []
  }
 ],
 "metadata": {
  "kernelspec": {
   "display_name": "SageMath 10.0",
   "language": "sage",
   "name": "SageMath-10.0"
  },
  "language_info": {
   "codemirror_mode": {
    "name": "ipython",
    "version": 3
   },
   "file_extension": ".py",
   "mimetype": "text/x-python",
   "name": "python",
   "nbconvert_exporter": "python",
   "pygments_lexer": "ipython3",
   "version": "3.11.1"
  }
 },
 "nbformat": 4,
 "nbformat_minor": 2
}
