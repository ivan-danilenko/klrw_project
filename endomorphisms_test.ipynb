{
 "cells": [
  {
   "cell_type": "code",
   "execution_count": 1,
   "id": "8fad3684-8f60-4d70-bcae-6b928e1e9d9d",
   "metadata": {},
   "outputs": [
    {
     "data": {
      "text/plain": [
       "['/Users/danil/SageMath/klrw_project',\n",
       " '/private/var/tmp/sage-10.0-current/local/var/lib/sage/venv-python3.11.1/lib/python311.zip',\n",
       " '/private/var/tmp/sage-10.0-current/local/var/lib/sage/venv-python3.11.1/lib/python3.11',\n",
       " '/private/var/tmp/sage-10.0-current/local/var/lib/sage/venv-python3.11.1/lib/python3.11/lib-dynload',\n",
       " '',\n",
       " '/Users/danil/.sage/local/lib/python3.11/site-packages',\n",
       " '/private/var/tmp/sage-10.0-current/local/var/lib/sage/venv-python3.11.1/lib/python3.11/site-packages']"
      ]
     },
     "execution_count": 1,
     "metadata": {},
     "output_type": "execute_result"
    }
   ],
   "source": [
    "import sys\n",
    "\n",
    "sys.path"
   ]
  },
  {
   "cell_type": "code",
   "execution_count": 2,
   "id": "8f39339c-54bf-4405-8e9b-01019ab86e43",
   "metadata": {},
   "outputs": [],
   "source": [
    "from klrw.klrw_endomorphism import KLRWEndomorphismAlgebra\n",
    "from klrw.framed_dynkin import FramedDynkinDiagram_with_dimensions#, NodeInFramedQuiver\n",
    "from klrw.klrw_algebra import KLRWAlgebra"
   ]
  },
  {
   "cell_type": "code",
   "execution_count": 3,
   "id": "1932ffa8-b80f-4466-91ae-33c5fc26bdc3",
   "metadata": {},
   "outputs": [
    {
     "name": "stdout",
     "output_type": "stream",
     "text": [
      "Defining V1, W1\n"
     ]
    },
    {
     "data": {
      "text/plain": [
       "2   \n",
       "W1  \n",
       "□\n",
       "|\n",
       "◯\n",
       "V1  \n",
       "3   "
      ]
     },
     "execution_count": 3,
     "metadata": {},
     "output_type": "execute_result"
    }
   ],
   "source": [
    "DD = FramedDynkinDiagram_with_dimensions(CartanType([\"A\",1]))\n",
    "DD.inject_nodes(scope = globals())\n",
    "DD[W1] = 2\n",
    "DD[V1] = 3\n",
    "\n",
    "DD"
   ]
  },
  {
   "cell_type": "code",
   "execution_count": 4,
   "id": "cd2abe57-1757-4931-86f5-d26a27acabdb",
   "metadata": {},
   "outputs": [
    {
     "name": "stdout",
     "output_type": "stream",
     "text": [
      "Defining h_1, u_1, x_1_1, x_1_2, x_1_3\n"
     ]
    }
   ],
   "source": [
    "KLRW = KLRWAlgebra(QQ,DD, warnings = True, vertex_prefix = \"h\")\n",
    "KLRW.base().inject_variables()"
   ]
  },
  {
   "cell_type": "code",
   "execution_count": 5,
   "id": "a9d606b0-e02a-47f5-a358-a156ee9fc94f",
   "metadata": {},
   "outputs": [],
   "source": [
    "BB = KLRW.KLRWBraid\n",
    "SS = BB.KLRWstate_set"
   ]
  },
  {
   "cell_type": "code",
   "execution_count": 6,
   "id": "a09d0ebf-e2af-4908-995e-d2e4aa02f5d5",
   "metadata": {},
   "outputs": [
    {
     "name": "stdout",
     "output_type": "stream",
     "text": [
      "Defining y1, y2, l1, l2, l3, r1, r2, r3\n",
      "V1  V1  W1  W1  V1  \n",
      "|   |   |   |   |\n",
      " \\ /    |   |   |\n",
      "  X     |   |   |\n",
      " / \\    |   |   |\n",
      "|   \\   |   |   |\n",
      "|    \\ /    |   |\n",
      "|     X     |   |\n",
      "|    / \\    |   |\n",
      "|   |   |   |   |\n",
      "V1  W1  V1  W1  V1  \n",
      "\n",
      "V1  V1  W1  W1  V1  \n",
      "|   |   |   |   |\n",
      " \\ /    |   |   |\n",
      "  X     |   |   |\n",
      " / \\    |   |   |\n",
      "|   \\   |   |   |\n",
      "|    \\ /    |   |\n",
      "|     X     |   |\n",
      "|    / \\    |   |\n",
      "|   |   \\   |   |\n",
      "|   |    \\ /    |\n",
      "|   |     X     |\n",
      "|   |    / \\    |\n",
      "|   |   |   \\   |\n",
      "|   |   |    \\ / \n",
      "|   |   |     X  \n",
      "|   |   |    / \\ \n",
      "|   |   |   /   |\n",
      "|   |    \\ /    |\n",
      "|   |     X     |\n",
      "|   |    / \\    |\n",
      "|   |   |   |   |\n",
      "V1  W1  V1  W1  V1  \n",
      "\n"
     ]
    }
   ],
   "source": [
    "A = KLRW.endomorphisms\n",
    "A.inject_variables()\n",
    "state = SS._element_constructor_((V1,V1,W1,W1,V1))\n",
    "state2 = SS._element_constructor_((V1,W1,V1,W1,V1))\n",
    "#braid = BB._element_constructor_(state)\n",
    "II = KLRW.idempotent(state)\n",
    "III = KLRW.idempotent(state2)\n",
    "#eval(\"h_1*y1\")\n",
    "for braid,_ in III*l3*y2*l2*r3*y1:\n",
    "#    print(braid)\n",
    "    braid.print_ascii_art()"
   ]
  },
  {
   "cell_type": "code",
   "execution_count": null,
   "id": "5a302d0f-275a-4a19-b41c-c4e37bd1ad2a",
   "metadata": {},
   "outputs": [],
   "source": []
  }
 ],
 "metadata": {
  "kernelspec": {
   "display_name": "SageMath 10.0",
   "language": "sage",
   "name": "SageMath-10.0"
  },
  "language_info": {
   "codemirror_mode": {
    "name": "ipython",
    "version": 3
   },
   "file_extension": ".py",
   "mimetype": "text/x-python",
   "name": "python",
   "nbconvert_exporter": "python",
   "pygments_lexer": "ipython3",
   "version": "3.11.1"
  },
  "vscode": {
   "interpreter": {
    "hash": "bc7e47da6b0f68c564b50633919aa996725353780bd54109029a9a7560b6eaa5"
   }
  }
 },
 "nbformat": 4,
 "nbformat_minor": 5
}
