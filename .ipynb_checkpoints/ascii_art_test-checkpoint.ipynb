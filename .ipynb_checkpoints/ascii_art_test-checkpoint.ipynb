{
 "cells": [
  {
   "cell_type": "code",
   "execution_count": 1,
   "id": "10cbd1b9-844c-44bf-ad6f-daf0bbb0901f",
   "metadata": {},
   "outputs": [],
   "source": [
    "from framed_dynkin import FramedDynkinDiagram_with_dimensions, KLRWUpstairsDotsAlgebra"
   ]
  },
  {
   "cell_type": "code",
   "execution_count": 2,
   "id": "0d60ec40-c8ae-42f6-a521-1666e169f5fd",
   "metadata": {},
   "outputs": [
    {
     "name": "stdout",
     "output_type": "stream",
     "text": [
      "Defining V1, W1\n"
     ]
    },
    {
     "data": {
      "text/plain": [
       "2   \n",
       "W1  \n",
       "□\n",
       "|\n",
       "◯\n",
       "V1  \n",
       "3   "
      ]
     },
     "execution_count": 2,
     "metadata": {},
     "output_type": "execute_result"
    }
   ],
   "source": [
    "DD = FramedDynkinDiagram_with_dimensions(CartanType([\"A\",1]))\n",
    "DD.inject_nodes(scope = globals())\n",
    "DD[W1] = 2\n",
    "DD[V1] = 3\n",
    "\n",
    "DD"
   ]
  },
  {
   "cell_type": "code",
   "execution_count": 3,
   "id": "f2a663bb-8ebe-4be4-a8d4-56cd34d04bb4",
   "metadata": {},
   "outputs": [
    {
     "name": "stdout",
     "output_type": "stream",
     "text": [
      "V1  V1  V1  W1  W1  \n",
      "|   |   |   |   |\n",
      "|   |    \\ /    |\n",
      "|   |     X     |\n",
      "|   |    / \\    |\n",
      "|   |   /   |   |\n",
      "|    \\ /    |   |\n",
      "|     X     |   |\n",
      "|    / \\    |   |\n",
      "|   /   |   |   |\n",
      " \\ /    |   |   |\n",
      "  X     |   |   |\n",
      " / \\    |   |   |\n",
      "|   \\   |   |   |\n",
      "|    \\ /    |   |\n",
      "|     X     |   |\n",
      "|    / \\    |   |\n",
      "|   |   |   |   |\n",
      "W1  V1  V1  V1  W1  \n",
      "\n"
     ]
    }
   ],
   "source": [
    "from klrw_state import KLRWstate_set\n",
    "from klrw_braid import KLRWbraid_set\n",
    "\n",
    "BB = KLRWbraid_set(DD)\n",
    "SS = KLRWstate_set(DD)\n",
    "state = SS._element_constructor_((V1,V1,V1,W1,W1))\n",
    "braid = BB._element_constructor_(state, word = (2,1,2,3))\n",
    "braid.print_ascii_art()"
   ]
  },
  {
   "cell_type": "code",
   "execution_count": null,
   "id": "eb92eab1-3ec1-45db-b8a6-9fc31db03221",
   "metadata": {},
   "outputs": [],
   "source": []
  }
 ],
 "metadata": {
  "kernelspec": {
   "display_name": "SageMath 10.0",
   "language": "sage",
   "name": "sagemath-10.0"
  },
  "language_info": {
   "codemirror_mode": {
    "name": "ipython",
    "version": 3
   },
   "file_extension": ".py",
   "mimetype": "text/x-python",
   "name": "python",
   "nbconvert_exporter": "python",
   "pygments_lexer": "ipython3",
   "version": "3.11.1"
  }
 },
 "nbformat": 4,
 "nbformat_minor": 5
}
