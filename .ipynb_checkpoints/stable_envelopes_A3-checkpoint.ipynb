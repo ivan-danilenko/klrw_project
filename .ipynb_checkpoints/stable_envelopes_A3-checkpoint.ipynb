{
 "cells": [
  {
   "cell_type": "code",
   "execution_count": 1,
   "id": "215ff8ea-b498-4177-9a63-c49fbb20f6e3",
   "metadata": {},
   "outputs": [],
   "source": [
    "from framed_dynkin import FramedDynkinDiagram_with_dimensions\n",
    "from stable_envelopes import find_differential"
   ]
  },
  {
   "cell_type": "code",
   "execution_count": 2,
   "id": "948f7eb2-5bde-4e91-9746-ace9dbcd244e",
   "metadata": {},
   "outputs": [
    {
     "name": "stdout",
     "output_type": "stream",
     "text": [
      "Defining V1, W1, V2, W2, V3, W3\n"
     ]
    }
   ],
   "source": [
    "DD = FramedDynkinDiagram_with_dimensions(CartanType([\"A\",3]))\n",
    "DD.inject_nodes(scope = globals())"
   ]
  },
  {
   "cell_type": "code",
   "execution_count": 3,
   "id": "c600cb22-1740-4943-aabf-eef20f7e3498",
   "metadata": {},
   "outputs": [],
   "source": [
    "#check construct and check stable envelope in the setting with only two puctures.\n",
    "sequence = (V2,V1,V3,V2)\n",
    "left_framing = W2\n",
    "right_framing = W2\n",
    "dots_on_left = 1\n"
   ]
  },
  {
   "cell_type": "code",
   "execution_count": 4,
   "id": "9ff8598a-9665-4d7f-9d61-7d8acb25d7b6",
   "metadata": {},
   "outputs": [
    {
     "name": "stdout",
     "output_type": "stream",
     "text": [
      "Framed quiver:\n",
      "0   2   0   \n",
      "W1  W2  W3  \n",
      "□   □   □\n",
      "|   |   |\n",
      "◯---◯---◯\n",
      "V1  V2  V3  \n",
      "1   2   1   \n",
      "Differential is zero: False\n",
      "Number of non-zero terms: 32\n",
      "Differential squares to zero: True\n"
     ]
    }
   ],
   "source": [
    "d = find_differential(DD, left_framing, right_framing, sequence, dots_on_left)\n",
    "\n",
    "#print(d)\n",
    "print(\"Differential is zero:\", d.is_zero())\n",
    "print(\"Number of non-zero terms:\", sum(1 for _ in d.nonzero_positions()))\n",
    "print(\"Differential squares to zero:\", (d**2).is_zero())"
   ]
  },
  {
   "cell_type": "code",
   "execution_count": null,
   "id": "c98c8be5-b3f7-4667-972d-4ff5c89c2744",
   "metadata": {},
   "outputs": [],
   "source": []
  }
 ],
 "metadata": {
  "kernelspec": {
   "display_name": "SageMath 10.0",
   "language": "sage",
   "name": "sagemath-10.0"
  },
  "language_info": {
   "codemirror_mode": {
    "name": "ipython",
    "version": 3
   },
   "file_extension": ".py",
   "mimetype": "text/x-python",
   "name": "python",
   "nbconvert_exporter": "python",
   "pygments_lexer": "ipython3",
   "version": "3.11.1"
  }
 },
 "nbformat": 4,
 "nbformat_minor": 5
}
