{
 "cells": [
  {
   "cell_type": "code",
   "execution_count": 1,
   "id": "215ff8ea-b498-4177-9a63-c49fbb20f6e3",
   "metadata": {},
   "outputs": [],
   "source": [
    "from framed_dynkin import FramedDynkinDiagram_with_dimensions\n",
    "from stable_envelopes import find_differential"
   ]
  },
  {
   "cell_type": "code",
   "execution_count": 2,
   "id": "948f7eb2-5bde-4e91-9746-ace9dbcd244e",
   "metadata": {},
   "outputs": [
    {
     "name": "stdout",
     "output_type": "stream",
     "text": [
      "Defining V1, W1, V2, W2\n"
     ]
    }
   ],
   "source": [
    "DD = FramedDynkinDiagram_with_dimensions(CartanType([\"A\",2]))\n",
    "DD.inject_nodes(scope = globals())"
   ]
  },
  {
   "cell_type": "code",
   "execution_count": 3,
   "id": "b4ae888b-ad49-4e91-9f98-4ab3bb0f47be",
   "metadata": {},
   "outputs": [],
   "source": [
    "#check construct and check stable envelope in the setting with only two puctures.\n",
    "sequence = (V1,V2)\n",
    "left_framing = W1\n",
    "right_framing = W2\n",
    "dots_on_left = 1\n"
   ]
  },
  {
   "cell_type": "code",
   "execution_count": 4,
   "id": "526f8d9a-7791-4fc8-b976-d0075b713ff0",
   "metadata": {},
   "outputs": [
    {
     "name": "stdout",
     "output_type": "stream",
     "text": [
      "Framed quiver:\n",
      "1   1   \n",
      "W1  W2  \n",
      "□   □\n",
      "|   |\n",
      "◯---◯\n",
      "V1  V2  \n",
      "1   1   \n",
      "Differential is zero: False\n",
      "Number of non-zero terms: 4\n",
      "Differential squares to zero: True\n"
     ]
    }
   ],
   "source": [
    "d = find_differential(DD, left_framing, right_framing, sequence, dots_on_left)\n",
    "\n",
    "#print(d)\n",
    "print(\"Differential is zero:\", d.is_zero())\n",
    "print(\"Number of non-zero terms:\", sum(1 for _ in d.nonzero_positions()))\n",
    "print(\"Differential squares to zero:\", (d**2).is_zero())"
   ]
  },
  {
   "cell_type": "code",
   "execution_count": 7,
   "id": "588da8d4-5117-4511-b1ea-d41e3ad8a67a",
   "metadata": {},
   "outputs": [
    {
     "data": {
      "text/plain": [
       "O---O---O---X---O---O\n",
       "-3  -2  -1  0   1   2   \n",
       "A3|2"
      ]
     },
     "execution_count": 7,
     "metadata": {},
     "output_type": "execute_result"
    }
   ],
   "source": [
    "t = CartanType(['A', [3,2]])\n",
    "t.dynkin_diagram()"
   ]
  },
  {
   "cell_type": "code",
   "execution_count": null,
   "id": "190e6f5a-3ce7-4c2c-9df7-f09a1b689389",
   "metadata": {},
   "outputs": [],
   "source": []
  }
 ],
 "metadata": {
  "kernelspec": {
   "display_name": "SageMath 10.0",
   "language": "sage",
   "name": "sagemath-10.0"
  },
  "language_info": {
   "codemirror_mode": {
    "name": "ipython",
    "version": 3
   },
   "file_extension": ".py",
   "mimetype": "text/x-python",
   "name": "python",
   "nbconvert_exporter": "python",
   "pygments_lexer": "ipython3",
   "version": "3.11.1"
  }
 },
 "nbformat": 4,
 "nbformat_minor": 5
}
