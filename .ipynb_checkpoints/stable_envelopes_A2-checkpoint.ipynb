{
 "cells": [
  {
   "cell_type": "code",
   "execution_count": 1,
   "id": "215ff8ea-b498-4177-9a63-c49fbb20f6e3",
   "metadata": {},
   "outputs": [],
   "source": [
    "from framed_dynkin import FramedDynkinDiagram_with_dimensions\n",
    "from stable_envelopes import find_differential"
   ]
  },
  {
   "cell_type": "code",
   "execution_count": 2,
   "id": "948f7eb2-5bde-4e91-9746-ace9dbcd244e",
   "metadata": {},
   "outputs": [
    {
     "name": "stdout",
     "output_type": "stream",
     "text": [
      "Defining V1, W1, V2, W2\n"
     ]
    },
    {
     "data": {
      "text/plain": [
       "1   1   \n",
       "W1  W2  \n",
       "□   □\n",
       "|   |\n",
       "◯---◯\n",
       "V1  V2  \n",
       "1   1   "
      ]
     },
     "execution_count": 2,
     "metadata": {},
     "output_type": "execute_result"
    }
   ],
   "source": [
    "DD = FramedDynkinDiagram_with_dimensions(CartanType([\"A\",3]))\n",
    "DD.inject_nodes(scope = globals())"
   ]
  },
  {
   "cell_type": "code",
   "execution_count": 3,
   "id": "b4ae888b-ad49-4e91-9f98-4ab3bb0f47be",
   "metadata": {},
   "outputs": [
    {
     "name": "stdout",
     "output_type": "stream",
     "text": [
      "[V1_0, V2_1]\n",
      "W1_0 W2_1\n",
      "[V1_0, V2_1] []\n"
     ]
    }
   ],
   "source": [
    "from framed_dynkin import NodeInFramedQuiverWithMarks\n",
    "#check construct and check stable envelope in the setting with only two puctures.\n",
    "sequence = [V1,V2]\n",
    "#mark moving strands to distinguish them\n",
    "sequence = [NodeInFramedQuiverWithMarks(node, i) for i,node in enumerate(sequence)]\n",
    "print(sequence)\n",
    "left_framing = W1\n",
    "right_framing = W2\n",
    "framings = left_framing,right_framing\n",
    "left_framing,right_framing = tuple(NodeInFramedQuiverWithMarks(node, i) for i,node in enumerate(framings))\n",
    "print(left_framing,right_framing)\n",
    "dots_on_left = 2\n",
    "\n",
    "left_sequence = sequence[:dots_on_left]\n",
    "right_sequence = sequence[dots_on_left:]\n",
    "\n",
    "print(left_sequence, right_sequence)"
   ]
  },
  {
   "cell_type": "code",
   "execution_count": 4,
   "id": "526f8d9a-7791-4fc8-b976-d0075b713ff0",
   "metadata": {},
   "outputs": [
    {
     "ename": "NameError",
     "evalue": "name 'KLRWAlgebra' is not defined",
     "output_type": "error",
     "traceback": [
      "\u001b[0;31m---------------------------------------------------------------------------\u001b[0m",
      "\u001b[0;31mNameError\u001b[0m                                 Traceback (most recent call last)",
      "Cell \u001b[0;32mIn [4], line 1\u001b[0m\n\u001b[0;32m----> 1\u001b[0m KLRW \u001b[38;5;241m=\u001b[39m \u001b[43mKLRWAlgebra\u001b[49m(QQ,DD, warnings \u001b[38;5;241m=\u001b[39m \u001b[38;5;28;01mTrue\u001b[39;00m)\n\u001b[1;32m      2\u001b[0m Mat \u001b[38;5;241m=\u001b[39m MatrixSpace(KLRW, Integer(\u001b[38;5;241m2\u001b[39m)\u001b[38;5;241m*\u001b[39m\u001b[38;5;241m*\u001b[39m\u001b[38;5;28mlen\u001b[39m(sequence), sparse\u001b[38;5;241m=\u001b[39m\u001b[38;5;28;01mTrue\u001b[39;00m)\n\u001b[1;32m      3\u001b[0m Braid \u001b[38;5;241m=\u001b[39m KLRW\u001b[38;5;241m.\u001b[39mKLRWBraid\n",
      "\u001b[0;31mNameError\u001b[0m: name 'KLRWAlgebra' is not defined"
     ]
    }
   ],
   "source": [
    "KLRW = KLRWAlgebra(QQ,DD, warnings = True)\n",
    "Mat = MatrixSpace(KLRW, 2**len(sequence), sparse=True)\n",
    "Braid = KLRW.KLRWBraid\n",
    "State = Braid.KLRWstate_set\n",
    "d = Mat.matrix()\n",
    "d\n",
    "#state = SS._element_constructor_((V1,V1,W1,W1,V1))\n",
    "#state2 = SS._element_constructor_((V1,W1,V1,W1,V1))\n",
    "#II = KLRW.idempotent(state)\n",
    "#III = KLRW.idempotent(state2)"
   ]
  },
  {
   "cell_type": "code",
   "execution_count": null,
   "id": "0e85fe7d-9e9e-4a11-8da2-35292edb536d",
   "metadata": {},
   "outputs": [],
   "source": [
    "from itertools import product\n",
    "from functools import cache\n",
    "def maps_to(index):\n",
    "    \"\"\"\n",
    "    Generator returning (sign,next_index)\n",
    "    Sign is the Koszul sign,\n",
    "    next_index is the index where one of the zeroes is replaced by a one\n",
    "    \"\"\"\n",
    "    iter = (x for x in range(len(index)) if index[x] == 0)\n",
    "    for i in iter:\n",
    "        left_part = index[:i]\n",
    "        right_part = index[i+1:]\n",
    "        degree = sum(right_part)\n",
    "        sign = 1 if degree%2 == 0 else -1\n",
    "        yield sign, left_part + (1,) + right_part\n",
    "\n",
    "def braid_from_marked_state(left_state, right_state):\n",
    "    '''\n",
    "    We assume that both states have marks that make each strand type unique\n",
    "    '''\n",
    "    #make reduced word by finding elements of the Lehmer cocode\n",
    "    rw = []\n",
    "    permutation = {left_index:right_state.index(mark) for left_index,mark in enumerate(left_state)}\n",
    "    for left_index,mark in enumerate(left_state):\n",
    "        right_index = permutation[left_index]\n",
    "        cocode_element = sum(1 for i in range(left_index) if permutation[i]>right_index)\n",
    "        piece = [j + 1 for j in range(left_index-1,left_index-cocode_element-1,-1)]\n",
    "        rw += piece\n",
    "            \n",
    "    word = tuple(rw)\n",
    "    return word\n",
    "\n",
    "@cache\n",
    "def flatten_index(index):\n",
    "    result = 0\n",
    "    for i in index:\n",
    "        result = 2*result + i\n",
    "    return result\n",
    "\n",
    "@cache\n",
    "def marked_state_by_index(ind):\n",
    "    state = [left_sequence[x] for x in range(len(left_sequence)-1,-1,-1) if ind[x] == 0]\n",
    "    state += [left_framing]\n",
    "    state += [left_sequence[x] for x in range(len(left_sequence)) if ind[x] == 1]\n",
    "    state += [right_sequence[x] for x in range(len(right_sequence)-1,-1,-1) if ind[x+len(left_sequence)] == 0]\n",
    "    state += [right_framing]\n",
    "    state += [right_sequence[x] for x in range(len(right_sequence)) if ind[x+len(left_sequence)] == 1]\n",
    "    return tuple(state)\n",
    "\n",
    "@cache\n",
    "def unmark(iterable):\n",
    "    return iterable.__class__(i.unmark() for i in iterable)\n",
    "\n",
    "\n",
    "I = product(*([range(2)]*len(sequence)))\n",
    "for i in I:\n",
    "    #print(i, flatten_index(i))\n",
    "    marked_state = marked_state_by_index(i)\n",
    "    state = State._element_constructor_(unmark(marked_state))\n",
    "    #print(state, marked_state)\n",
    "    for sign, new_index in maps_to(i):\n",
    "        new_marked_state = marked_state_by_index(new_index)\n",
    "        word = braid_from_marked_state(new_marked_state, marked_state)\n",
    "        #print(marked_state, new_marked_state, word)\n",
    "        new_state = State._element_constructor_(unmark(new_marked_state))\n",
    "        braid = Braid._element_constructor_(state, word)\n",
    "#        for x,y in zip(unmark(new_marked_state), braid.left_state()):\n",
    "#            print(x==y, x.node,y.node, x.framing, y.framing)\n",
    "#        print(unmark(new_marked_state) == braid.left_state())\n",
    "        assert braid.left_state() == new_state\n",
    "        d[flatten_index(new_index), flatten_index(i)] = sign*KLRW.monomial(braid)\n",
    "#        print(state, new_state, )\n",
    "#    print(list(maps_to(i)))\n",
    "print(d.dict())\n",
    "print(d)\n",
    "print(d**2)"
   ]
  },
  {
   "cell_type": "code",
   "execution_count": null,
   "id": "588da8d4-5117-4511-b1ea-d41e3ad8a67a",
   "metadata": {},
   "outputs": [],
   "source": []
  }
 ],
 "metadata": {
  "kernelspec": {
   "display_name": "SageMath 10.0",
   "language": "sage",
   "name": "sagemath-10.0"
  },
  "language_info": {
   "codemirror_mode": {
    "name": "ipython",
    "version": 3
   },
   "file_extension": ".py",
   "mimetype": "text/x-python",
   "name": "python",
   "nbconvert_exporter": "python",
   "pygments_lexer": "ipython3",
   "version": "3.11.1"
  }
 },
 "nbformat": 4,
 "nbformat_minor": 5
}
