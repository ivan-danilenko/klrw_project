{
 "cells": [
  {
   "cell_type": "code",
   "execution_count": 1,
   "id": "fa96bafb-897f-4566-a347-7206e7b0997d",
   "metadata": {},
   "outputs": [
    {
     "data": {
      "text/plain": [
       "0   2   \n",
       "W1  W2  \n",
       "□   □\n",
       "|   |\n",
       "◯=>=◯\n",
       "V1  V2  \n",
       "1   2   "
      ]
     },
     "execution_count": 1,
     "metadata": {},
     "output_type": "execute_result"
    }
   ],
   "source": [
    "from framed_dynkin import FramedDynkinDiagram_with_dimensions, NodeInFramedQuiver\n",
    "\n",
    "DD = FramedDynkinDiagram_with_dimensions(CartanType([\"B\",2]))\n",
    "#dim W1 = 1\n",
    "DD.set_dim(0,1, True)\n",
    "#dim V1 = 1\n",
    "DD.set_dim(1,1, False)\n",
    "#dim W2 = 0 \n",
    "DD.set_dim(2,2, True)\n",
    "#dim V2 = 1\n",
    "DD.set_dim(2,2, False)\n",
    "\n",
    "V1 = NodeInFramedQuiver(1, False)\n",
    "W1 = NodeInFramedQuiver(1, True)\n",
    "#V2 = NodeInFramedQuiver(2, False)\n",
    "#W2 = NodeInFramedQuiver(2, True)\n",
    "\n",
    "DD"
   ]
  },
  {
   "cell_type": "code",
   "execution_count": 2,
   "id": "20be7ba2-3321-4ffc-938c-205216989de0",
   "metadata": {},
   "outputs": [
    {
     "data": {
      "text/plain": [
       "-12"
      ]
     },
     "execution_count": 2,
     "metadata": {},
     "output_type": "execute_result"
    }
   ],
   "source": [
    "from klrw_tests import KLRWAlgebraWithTests\n",
    "KLRW = KLRWAlgebraWithTests(QQ,DD, warnings = False)\n",
    "BB = KLRW.KLRWBraid\n",
    "SS = BB.KLRWstate_set\n",
    "state = SS._element_constructor_((V1,V1,V1,W1,W1))\n",
    "braid = BB._element_constructor_(state, word = (2,1,2,3))\n",
    "x = KLRW.KLRWmonomial(state, word=(1,2,1))\n",
    "x.degree()"
   ]
  },
  {
   "cell_type": "code",
   "execution_count": 3,
   "id": "cbf6a0b9-f199-40ba-985c-31cd03f148a4",
   "metadata": {},
   "outputs": [
    {
     "name": "stdout",
     "output_type": "stream",
     "text": [
      "So far checked  1000000  relations.\n",
      "So far checked  2000000  relations.\n",
      "So far checked  3000000  relations.\n",
      "So far checked  4000000  relations.\n",
      "So far checked  5000000  relations.\n",
      "So far checked  6000000  relations.\n",
      "So far checked  7000000  relations.\n",
      "So far checked  8000000  relations.\n",
      "So far checked  9000000  relations.\n",
      "So far checked  10000000  relations.\n",
      "So far checked  11000000  relations.\n",
      "So far checked  12000000  relations.\n",
      "Products checked: 12960000\n"
     ]
    }
   ],
   "source": [
    "KLRW.check_welldef(KLRW.basis_over_center(),KLRW.basis_over_center())"
   ]
  },
  {
   "cell_type": "code",
   "execution_count": null,
   "id": "94f068a4-294a-4505-997a-47f8e069ff69",
   "metadata": {},
   "outputs": [],
   "source": []
  }
 ],
 "metadata": {
  "kernelspec": {
   "display_name": "SageMath 10.0",
   "language": "sage",
   "name": "sagemath-10.0"
  },
  "language_info": {
   "codemirror_mode": {
    "name": "ipython",
    "version": 3
   },
   "file_extension": ".py",
   "mimetype": "text/x-python",
   "name": "python",
   "nbconvert_exporter": "python",
   "pygments_lexer": "ipython3",
   "version": "3.11.1"
  }
 },
 "nbformat": 4,
 "nbformat_minor": 5
}
