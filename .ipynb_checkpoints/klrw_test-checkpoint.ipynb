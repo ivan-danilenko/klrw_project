{
 "cells": [
  {
   "cell_type": "code",
   "execution_count": 2,
   "id": "61daa4df-c70f-4d85-8e10-8d025f0a38ae",
   "metadata": {},
   "outputs": [],
   "source": [
    "from framed_dynkin import FramedDynkinDiagram_with_dimensions#, NodeInFramedQuiver\n",
    "from klrw_tests import KLRWAlgebraWithTests"
   ]
  },
  {
   "cell_type": "code",
   "execution_count": 3,
   "id": "e7edd653-7603-4591-bea5-9c8a2b91cc29",
   "metadata": {},
   "outputs": [
    {
     "data": {
      "text/plain": [
       "4   \n",
       "W1  \n",
       "□\n",
       "|\n",
       "◯\n",
       "V1  \n",
       "2   "
      ]
     },
     "execution_count": 3,
     "metadata": {},
     "output_type": "execute_result"
    }
   ],
   "source": [
    "DD = FramedDynkinDiagram_with_dimensions(CartanType([\"A\",1]))\n",
    "#dim W1 = 1\n",
    "DD.set_dim(4,1, True)\n",
    "#dim V1 = 1\n",
    "DD.set_dim(2,1, False)\n",
    "#dim W2 = 0 \n",
    "#DD.set_dim(2,2, True)\n",
    "#dim V2 = 1\n",
    "#DD.set_dim(2,2, False)\n",
    "\n",
    "#V1 = NodeInFramedQuiver(1, False)\n",
    "#W1 = NodeInFramedQuiver(1, True)\n",
    "#V2 = NodeInFramedQuiver(2, False)\n",
    "#W2 = NodeInFramedQuiver(2, True)\n",
    "\n",
    "DD"
   ]
  },
  {
   "cell_type": "code",
   "execution_count": 7,
   "id": "8587c72c-eea5-40c0-a8c0-84ba7931dc03",
   "metadata": {},
   "outputs": [
    {
     "name": "stdout",
     "output_type": "stream",
     "text": [
      "900\n",
      "Checking linearity of the right dot action.\n",
      "7\n",
      "900\n",
      "2\n",
      "Relations checked: 0\n",
      "Checking relations.\n",
      "Relation 8a holds! Cases checked: 5\n",
      "Relation 8b holds! Cases checked: 0\n",
      "Relation 8c holds! Cases checked: 5\n",
      "Relation 8d holds! Cases checked: 5\n",
      "Relation 9 holds! Cases checked: 40\n",
      "Relation 12a holds! Cases checked: 40\n",
      "Relation 12b holds! Cases checked: 40\n",
      "Relation 13 holds! Cases checked: 8\n",
      "Relation 14 holds! Cases checked: 4\n",
      "Checking one.\n",
      "Elements checked: 900\n",
      "Checking well-definedness of multiplication.\n",
      "Products checked: 810000\n",
      "Checking action on dots.\n",
      "Relations checked: 4500\n"
     ]
    }
   ],
   "source": [
    "KLRW = KLRWAlgebraWithTests(QQ,DD, warnings = False)\n",
    "print(sum(1 for _ in KLRW.basis_over_center()))\n",
    "#KRLW.check_associativity(KRLW.basis_over_dots_and_center(),KRLW.gens_over_dots(),KRLW.basis_in_dots_modulo_center())\n",
    "KLRW.check()"
   ]
  }
 ],
 "metadata": {
  "kernelspec": {
   "display_name": "SageMath 10.0",
   "language": "sage",
   "name": "sagemath-10.0"
  },
  "language_info": {
   "codemirror_mode": {
    "name": "ipython",
    "version": 3
   },
   "file_extension": ".py",
   "mimetype": "text/x-python",
   "name": "python",
   "nbconvert_exporter": "python",
   "pygments_lexer": "ipython3",
   "version": "3.11.1"
  }
 },
 "nbformat": 4,
 "nbformat_minor": 5
}
