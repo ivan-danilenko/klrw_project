{
 "cells": [
  {
   "cell_type": "code",
   "execution_count": 1,
   "metadata": {},
   "outputs": [
    {
     "name": "stdout",
     "output_type": "stream",
     "text": [
      "Defining V1, W1, V2, W2\n"
     ]
    }
   ],
   "source": [
    "from klrw.framed_dynkin import FramedDynkinDiagram_with_dimensions\n",
    "from klrw.klrw_algebra import KLRWAlgebra\n",
    "from klrw.perfect_complex import (\n",
    "    KLRWPerfectComplex,\n",
    "    KLRWProjectiveModule,\n",
    "    KLRWHomOfPerfectComplexes,\n",
    "    SummandType,\n",
    ")\n",
    "from klrw.stable_envelopes import stable_envelope\n",
    "\n",
    "DD = FramedDynkinDiagram_with_dimensions(CartanType([\"B\", 2]))\n",
    "DD.inject_nodes(scope=globals())"
   ]
  },
  {
   "cell_type": "code",
   "execution_count": 2,
   "metadata": {
    "tags": [
     "parameters"
    ]
   },
   "outputs": [],
   "source": [
    "#check construct and check stable envelope in the setting with only two puctures.\n",
    "sequence = (V2, V1, V2)\n",
    "left_framing = W2\n",
    "right_framing = W2\n"
   ]
  },
  {
   "cell_type": "code",
   "execution_count": 3,
   "metadata": {},
   "outputs": [
    {
     "name": "stdout",
     "output_type": "stream",
     "text": [
      "Framed quiver:\n",
      "0   2   \n",
      "W1  W2  \n",
      "□   □\n",
      "|   |\n",
      "◯=>=◯\n",
      "V1  V2  \n",
      "1   2   \n"
     ]
    }
   ],
   "source": [
    "DD[left_framing] += 1\n",
    "DD[right_framing] += 1\n",
    "for node in sequence:\n",
    "    DD[node] += 1\n",
    "\n",
    "print(\"Framed quiver:\")\n",
    "print(DD)"
   ]
  },
  {
   "cell_type": "code",
   "execution_count": 4,
   "metadata": {},
   "outputs": [],
   "source": [
    "R = QQ\n",
    "KLRW = KLRWAlgebra(\n",
    "    R,\n",
    "    DD,\n",
    "    warnings=True,\n",
    "    default_vertex_parameter=R.one(),\n",
    "    default_edge_parameter=R.one(),\n",
    ")"
   ]
  },
  {
   "cell_type": "code",
   "execution_count": 5,
   "metadata": {},
   "outputs": [
    {
     "ename": "AssertionError",
     "evalue": "d_2 * d_1 != 0",
     "output_type": "error",
     "traceback": [
      "\u001b[0;31m---------------------------------------------------------------------------\u001b[0m",
      "\u001b[0;31mAssertionError\u001b[0m                            Traceback (most recent call last)",
      "Cell \u001b[0;32mIn [5], line 1\u001b[0m\n\u001b[0;32m----> 1\u001b[0m \u001b[43mstable_envelope\u001b[49m\u001b[43m(\u001b[49m\u001b[43mKLRW\u001b[49m\u001b[43m,\u001b[49m\u001b[43m \u001b[49m\u001b[43mleft_framing\u001b[49m\u001b[43m,\u001b[49m\u001b[43m \u001b[49m\u001b[43mright_framing\u001b[49m\u001b[43m,\u001b[49m\u001b[43m \u001b[49m\u001b[43msequence\u001b[49m\u001b[43m,\u001b[49m\u001b[43m \u001b[49m\u001b[43mInteger\u001b[49m\u001b[43m(\u001b[49m\u001b[38;5;241;43m3\u001b[39;49m\u001b[43m)\u001b[49m\u001b[43m,\u001b[49m\u001b[43m \u001b[49m\u001b[43mcheck\u001b[49m\u001b[43m \u001b[49m\u001b[38;5;241;43m=\u001b[39;49m\u001b[43m \u001b[49m\u001b[38;5;28;43;01mTrue\u001b[39;49;00m\u001b[43m)\u001b[49m\n",
      "File \u001b[0;32m~/SageMath/klrw_project/klrw/stable_envelopes.py:169\u001b[0m, in \u001b[0;36mstable_envelope\u001b[0;34m(KLRW, left_framing, right_framing, sequence, dots_on_left, check)\u001b[0m\n\u001b[1;32m    163\u001b[0m         diff[index_in_chain, codomain_index_in_chain] \u001b[38;5;241m=\u001b[39m entry\n\u001b[1;32m    165\u001b[0m     projectives[homological_degree]\u001b[38;5;241m.\u001b[39mappend(\n\u001b[1;32m    166\u001b[0m         KLRWProjectiveModule(state, equivariant_degree_by_multi_index[multiindex])\n\u001b[1;32m    167\u001b[0m     )\n\u001b[0;32m--> 169\u001b[0m stab \u001b[38;5;241m=\u001b[39m \u001b[43mKLRWPerfectComplex\u001b[49m\u001b[43m(\u001b[49m\n\u001b[1;32m    170\u001b[0m \u001b[43m    \u001b[49m\u001b[43mKLRW\u001b[49m\u001b[43m,\u001b[49m\u001b[43m \u001b[49m\u001b[43mdifferentials\u001b[49m\u001b[38;5;241;43m=\u001b[39;49m\u001b[43mdifferentials\u001b[49m\u001b[43m,\u001b[49m\u001b[43m \u001b[49m\u001b[43mprojectives\u001b[49m\u001b[38;5;241;43m=\u001b[39;49m\u001b[43mprojectives\u001b[49m\u001b[43m,\u001b[49m\u001b[43m \u001b[49m\u001b[43mcheck\u001b[49m\u001b[38;5;241;43m=\u001b[39;49m\u001b[43mcheck\u001b[49m\n\u001b[1;32m    171\u001b[0m \u001b[43m\u001b[49m\u001b[43m)\u001b[49m\n\u001b[1;32m    173\u001b[0m \u001b[38;5;28;01mreturn\u001b[39;00m stab\n",
      "File \u001b[0;32m~/SageMath/klrw_project/klrw/perfect_complex.py:87\u001b[0m, in \u001b[0;36mKLRWPerfectComplex.__init__\u001b[0;34m(self, KLRW_algebra, differentials, projectives, degree, grading_group, mod2grading, check)\u001b[0m\n\u001b[1;32m     85\u001b[0m \u001b[38;5;28;01mfor\u001b[39;00m n \u001b[38;5;129;01min\u001b[39;00m \u001b[38;5;28mself\u001b[39m\u001b[38;5;241m.\u001b[39mdifferentials:\n\u001b[1;32m     86\u001b[0m     \u001b[38;5;28;01mif\u001b[39;00m n \u001b[38;5;241m+\u001b[39m \u001b[38;5;28mself\u001b[39m\u001b[38;5;241m.\u001b[39mdegree \u001b[38;5;129;01min\u001b[39;00m \u001b[38;5;28mself\u001b[39m\u001b[38;5;241m.\u001b[39mdifferentials:\n\u001b[0;32m---> 87\u001b[0m         \u001b[38;5;28;01massert\u001b[39;00m (\n\u001b[1;32m     88\u001b[0m             \u001b[38;5;28mself\u001b[39m\u001b[38;5;241m.\u001b[39mdifferentials[n] \u001b[38;5;241m*\u001b[39m \u001b[38;5;28mself\u001b[39m\u001b[38;5;241m.\u001b[39mdifferentials[n \u001b[38;5;241m+\u001b[39m \u001b[38;5;28mself\u001b[39m\u001b[38;5;241m.\u001b[39mdegree]\n\u001b[1;32m     89\u001b[0m         )\u001b[38;5;241m.\u001b[39mis_zero(), \u001b[38;5;124m\"\u001b[39m\u001b[38;5;124md_\u001b[39m\u001b[38;5;132;01m{}\u001b[39;00m\u001b[38;5;124m * d_\u001b[39m\u001b[38;5;132;01m{}\u001b[39;00m\u001b[38;5;124m != 0\u001b[39m\u001b[38;5;124m\"\u001b[39m\u001b[38;5;241m.\u001b[39mformat(n, n \u001b[38;5;241m+\u001b[39m \u001b[38;5;28mself\u001b[39m\u001b[38;5;241m.\u001b[39mdegree)\n\u001b[1;32m     91\u001b[0m     \u001b[38;5;28;01mfor\u001b[39;00m (i, j), elem \u001b[38;5;129;01min\u001b[39;00m \u001b[38;5;28mself\u001b[39m\u001b[38;5;241m.\u001b[39mdifferentials[n]\u001b[38;5;241m.\u001b[39mitems():\n\u001b[1;32m     92\u001b[0m         \u001b[38;5;28;01massert\u001b[39;00m \u001b[38;5;28mself\u001b[39m\u001b[38;5;241m.\u001b[39mprojectives[n \u001b[38;5;241m+\u001b[39m degree][j]\u001b[38;5;241m.\u001b[39mstate \u001b[38;5;241m==\u001b[39m elem\u001b[38;5;241m.\u001b[39mright_state(\n\u001b[1;32m     93\u001b[0m             check_if_all_have_same_right_state\u001b[38;5;241m=\u001b[39m\u001b[38;5;28;01mTrue\u001b[39;00m\n\u001b[1;32m     94\u001b[0m         )\n",
      "\u001b[0;31mAssertionError\u001b[0m: d_2 * d_1 != 0"
     ]
    }
   ],
   "source": [
    "stable_envelope(KLRW, left_framing, right_framing, sequence, 3, check = True)"
   ]
  },
  {
   "cell_type": "code",
   "execution_count": null,
   "metadata": {},
   "outputs": [],
   "source": []
  }
 ],
 "metadata": {
  "kernelspec": {
   "display_name": "SageMath 10.0",
   "language": "sage",
   "name": "SageMath-10.0"
  },
  "language_info": {
   "codemirror_mode": {
    "name": "ipython",
    "version": 3
   },
   "file_extension": ".py",
   "mimetype": "text/x-python",
   "name": "python",
   "nbconvert_exporter": "python",
   "pygments_lexer": "ipython3",
   "version": "3.11.1"
  }
 },
 "nbformat": 4,
 "nbformat_minor": 2
}
